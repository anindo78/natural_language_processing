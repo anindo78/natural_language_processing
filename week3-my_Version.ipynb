{
 "cells": [
  {
   "cell_type": "markdown",
   "metadata": {},
   "source": [
    "# Find duplicate questions on StackOverflow by their embeddings\n",
    "\n",
    "In this assignment you will learn how to calculate a similarity for pieces of text. Using this approach you will know how to find duplicate questions from [StackOverflow](https://stackoverflow.com)."
   ]
  },
  {
   "cell_type": "markdown",
   "metadata": {},
   "source": [
    "### Libraries\n",
    "\n",
    "In this task you will you will need the following libraries:\n",
    "- [StarSpace](https://github.com/facebookresearch/StarSpace) — a general-purpose model for efficient learning of entity embeddings from Facebook\n",
    "- [Gensim](https://radimrehurek.com/gensim/) — a tool for solving various NLP-related tasks (topic modeling, text representation, ...)\n",
    "- [Numpy](http://www.numpy.org) — a package for scientific computing.\n",
    "- [scikit-learn](http://scikit-learn.org/stable/index.html) — a tool for data mining and data analysis.\n",
    "- [Nltk](http://www.nltk.org) — a platform to work with human language data."
   ]
  },
  {
   "cell_type": "markdown",
   "metadata": {},
   "source": [
    "### Data\n",
    "\n",
    "The following cell will download all data required for this assignment into the folder `week3/data`."
   ]
  },
  {
   "cell_type": "code",
   "execution_count": 3,
   "metadata": {},
   "outputs": [
    {
     "name": "stdout",
     "output_type": "stream",
     "text": [
      "File data/train.tsv is already downloaded.\n",
      "File data/validation.tsv is already downloaded.\n",
      "File data/test.tsv is already downloaded.\n",
      "File data/test_embeddings.tsv is already downloaded.\n",
      "Downloading GoogleNews-vectors-negative300.bin.gz (1.5G) for you, it will take a while...\n"
     ]
    },
    {
     "data": {
      "application/vnd.jupyter.widget-view+json": {
       "model_id": "711b26af1faa47cf9978dac83b45a017",
       "version_major": 2,
       "version_minor": 0
      },
      "text/html": [
       "<p>Failed to display Jupyter Widget of type <code>HBox</code>.</p>\n",
       "<p>\n",
       "  If you're reading this message in the Jupyter Notebook or JupyterLab Notebook, it may mean\n",
       "  that the widgets JavaScript is still loading. If this message persists, it\n",
       "  likely means that the widgets JavaScript library is either not installed or\n",
       "  not enabled. See the <a href=\"https://ipywidgets.readthedocs.io/en/stable/user_install.html\">Jupyter\n",
       "  Widgets Documentation</a> for setup instructions.\n",
       "</p>\n",
       "<p>\n",
       "  If you're reading this message in another frontend (for example, a static\n",
       "  rendering on GitHub or <a href=\"https://nbviewer.jupyter.org/\">NBViewer</a>),\n",
       "  it may mean that your frontend doesn't currently support widgets.\n",
       "</p>\n"
      ],
      "text/plain": [
       "HBox(children=(IntProgress(value=0, max=1647046227), HTML(value='')))"
      ]
     },
     "metadata": {},
     "output_type": "display_data"
    },
    {
     "name": "stdout",
     "output_type": "stream",
     "text": [
      "\n"
     ]
    }
   ],
   "source": [
    "\n",
    "try:\n",
    "    import google.colab\n",
    "    IN_COLAB = True\n",
    "except:\n",
    "    IN_COLAB = False\n",
    "\n",
    "if IN_COLAB:\n",
    "    ! wget https://raw.githubusercontent.com/hse-aml/natural-language-processing/master/setup_google_colab.py -O setup_google_colab.py\n",
    "    import setup_google_colab\n",
    "    setup_google_colab.setup_week3()\n",
    "    \n",
    "import sys\n",
    "sys.path.append(\"..\")\n",
    "from common.download_utils import download_week3_resources\n",
    "\n",
    "download_week3_resources()"
   ]
  },
  {
   "cell_type": "markdown",
   "metadata": {},
   "source": [
    "### Grading\n",
    "We will create a grader instace below and use it to collect your answers. Note that these outputs will be stored locally inside grader and will be uploaded to platform only after running submiting function in the last part of this assignment. If you want to make partial submission, you can run that cell any time you want."
   ]
  },
  {
   "cell_type": "code",
   "execution_count": 1,
   "metadata": {
    "collapsed": true
   },
   "outputs": [],
   "source": [
    "from grader import Grader"
   ]
  },
  {
   "cell_type": "code",
   "execution_count": 2,
   "metadata": {
    "collapsed": true
   },
   "outputs": [],
   "source": [
    "grader = Grader()"
   ]
  },
  {
   "cell_type": "markdown",
   "metadata": {},
   "source": [
    "## Word embedding\n",
    "\n",
    "To solve the problem, you will use two different models of embeddings:\n",
    "\n",
    " - [Pre-trained word vectors](https://code.google.com/archive/p/word2vec/) from Google which were trained on a part of Google News dataset (about 100 billion words). The model contains 300-dimensional vectors for 3 million words and phrases. `GoogleNews-vectors-negative300.bin.gz` will be downloaded in `download_week3_resources()`.\n",
    " - Representations using StarSpace on StackOverflow data sample. You will need to train them from scratch."
   ]
  },
  {
   "cell_type": "markdown",
   "metadata": {},
   "source": [
    "It's always easier to start with pre-trained embeddings. Unpack the pre-trained Goggle's vectors and upload them using the function [KeyedVectors.load_word2vec_format](https://radimrehurek.com/gensim/models/keyedvectors.html) from gensim library with the parameter *binary=True*. If the size of the embeddings is larger than the avaliable memory, you could load only a part of the embeddings by defining the parameter *limit* (recommended: 500000)."
   ]
  },
  {
   "cell_type": "code",
   "execution_count": 3,
   "metadata": {
    "collapsed": true
   },
   "outputs": [],
   "source": [
    "import gensim\n",
    "wv_embeddings = gensim.models.KeyedVectors.load_word2vec_format('GoogleNews-vectors-negative300.bin.gz', \n",
    "                                                  binary=True, limit = 500000)\n",
    "######### YOUR CODE HERE #############"
   ]
  },
  {
   "cell_type": "code",
   "execution_count": 4,
   "metadata": {},
   "outputs": [
    {
     "data": {
      "text/plain": [
       "[('queen', 0.7118192911148071),\n",
       " ('monarch', 0.6189674139022827),\n",
       " ('princess', 0.5902431011199951),\n",
       " ('crown_prince', 0.5499460697174072),\n",
       " ('prince', 0.5377321243286133),\n",
       " ('kings', 0.5236844420433044),\n",
       " ('queens', 0.518113374710083),\n",
       " ('sultan', 0.5098593235015869),\n",
       " ('monarchy', 0.5087411999702454),\n",
       " ('royal_palace', 0.5087165832519531)]"
      ]
     },
     "execution_count": 4,
     "metadata": {},
     "output_type": "execute_result"
    }
   ],
   "source": [
    "wv_embeddings.most_similar(positive=['woman', 'king'], negative=['man'])"
   ]
  },
  {
   "cell_type": "code",
   "execution_count": 13,
   "metadata": {},
   "outputs": [
    {
     "data": {
      "text/plain": [
       "[('beers', 0.8409687876701355),\n",
       " ('lager', 0.7733745574951172),\n",
       " ('Beer', 0.71753990650177),\n",
       " ('drinks', 0.668931245803833),\n",
       " ('lagers', 0.6570086479187012),\n",
       " ('microbrew', 0.6534324884414673),\n",
       " ('suds', 0.6497018337249756),\n",
       " ('brewed_beer', 0.6490240097045898),\n",
       " ('brews', 0.6468319296836853),\n",
       " ('Pilsner', 0.6465480327606201)]"
      ]
     },
     "execution_count": 13,
     "metadata": {},
     "output_type": "execute_result"
    }
   ],
   "source": [
    "wv_embeddings.similar_by_word('beer')"
   ]
  },
  {
   "cell_type": "markdown",
   "metadata": {},
   "source": [
    "### How to work with Google's word2vec embeddings?\n",
    "\n",
    "Once you have loaded the representations, make sure you can access them. First, you can check if the loaded embeddings contain a word:\n",
    "    \n",
    "    'word' in wv_embeddings\n",
    "    \n",
    "Second, to get the corresponding embedding you can use the square brackets:\n",
    "\n",
    "    wv_embeddings['word']\n",
    " \n",
    "### Checking that the embeddings are correct \n",
    " \n",
    "To prevent any errors during the first stage, we can check that the loaded embeddings are correct. You can call the function *check_embeddings*, implemented below, which runs 3 tests:\n",
    "1. Find the most similar word for provided \"positive\" and \"negative\" words.\n",
    "2. Find which word from the given list doesn’t go with the others.\n",
    "3. Find the most similar word for the provided one.\n",
    "\n",
    "In the right case the function will return the string *These embeddings look good*. Othervise, you need to validate the previous steps."
   ]
  },
  {
   "cell_type": "code",
   "execution_count": 5,
   "metadata": {
    "collapsed": true
   },
   "outputs": [],
   "source": [
    "def check_embeddings(embeddings):\n",
    "    error_text = \"Something wrong with your embeddings ('%s test isn't correct).\"\n",
    "    most_similar = embeddings.most_similar(positive=['woman', 'king'], negative=['man'])\n",
    "    if len(most_similar) < 1 or most_similar[0][0] != 'queen':\n",
    "        return error_text % \"Most similar\"\n",
    "\n",
    "    doesnt_match = embeddings.doesnt_match(['breakfast', 'cereal', 'dinner', 'lunch'])\n",
    "    if doesnt_match != 'cereal':\n",
    "        return error_text % \"Doesn't match\"\n",
    "    \n",
    "    most_similar_to_given = embeddings.most_similar_to_given('music', ['water', 'sound', 'backpack', 'mouse'])\n",
    "    if most_similar_to_given != 'sound':\n",
    "        return error_text % \"Most similar to given\"\n",
    "    \n",
    "    return \"These embeddings look good.\""
   ]
  },
  {
   "cell_type": "code",
   "execution_count": 6,
   "metadata": {},
   "outputs": [
    {
     "name": "stdout",
     "output_type": "stream",
     "text": [
      "These embeddings look good.\n"
     ]
    }
   ],
   "source": [
    "print(check_embeddings(wv_embeddings))"
   ]
  },
  {
   "cell_type": "code",
   "execution_count": 7,
   "metadata": {},
   "outputs": [
    {
     "data": {
      "text/plain": [
       "[('espn', 0.6078850626945496),\n",
       " ('man_utd', 0.5574460029602051),\n",
       " ('FIFA_WORLD_CUP', 0.5531666874885559),\n",
       " ('Fifa', 0.5514661073684692),\n",
       " ('ronaldo', 0.5490338206291199),\n",
       " ('madrid', 0.5462630391120911),\n",
       " ('barcelona', 0.5441344976425171),\n",
       " ('spain', 0.5433951616287231),\n",
       " ('FIFA', 0.5335471630096436),\n",
       " ('nfl', 0.5327171087265015)]"
      ]
     },
     "execution_count": 7,
     "metadata": {},
     "output_type": "execute_result"
    }
   ],
   "source": [
    "wv_embeddings.similar_by_word('fifa')"
   ]
  },
  {
   "cell_type": "code",
   "execution_count": 7,
   "metadata": {},
   "outputs": [
    {
     "data": {
      "text/plain": [
       "array([-0.07470703,  0.23925781,  0.13085938,  0.13378906, -0.19921875,\n",
       "        0.36914062, -0.30078125,  0.15429688,  0.19726562, -0.24316406,\n",
       "       -0.48828125, -0.25976562,  0.18945312,  0.0625    ,  0.31835938,\n",
       "        0.30859375,  0.02648926, -0.3359375 , -0.17285156], dtype=float32)"
      ]
     },
     "execution_count": 7,
     "metadata": {},
     "output_type": "execute_result"
    }
   ],
   "source": [
    "wv_embeddings['fifa'][1:20]"
   ]
  },
  {
   "cell_type": "markdown",
   "metadata": {},
   "source": [
    "## From word to text embeddings\n",
    "\n",
    "**Task 1 (Question2Vec).** Usually, we have word-based embeddings, but for the task we need to create a representation for the whole question. It could be done in different ways. In our case we will use a **mean** of all word vectors in the question. Now you need to implement the function *question_to_vec*, which calculates the question representation described above. This function should work with the input text as is without any preprocessing.\n",
    "\n",
    "Note that there could be words without the corresponding embeddings. In this case, you can just skip these words and don't take them into account during calculating the result. If the question doesn't contain any known word with embedding, the function should return a zero vector."
   ]
  },
  {
   "cell_type": "code",
   "execution_count": 8,
   "metadata": {
    "collapsed": true
   },
   "outputs": [],
   "source": [
    "import numpy as np"
   ]
  },
  {
   "cell_type": "code",
   "execution_count": 10,
   "metadata": {},
   "outputs": [
    {
     "name": "stdout",
     "output_type": "stream",
     "text": [
      "[-0.01671007  0.01052517 -0.00193956  0.00694444 -0.00316026  0.00792101\n",
      " -0.00694444 -0.01047092 -0.0043674   0.00287543]\n"
     ]
    }
   ],
   "source": [
    "# a quick test\n",
    "\n",
    "question = 'ice is denser than water'\n",
    "\n",
    "count_of_words_with_embed = 0\n",
    "\n",
    "for word in question:\n",
    "    if word in wv_embeddings:\n",
    "        count_of_words_with_embed += 1\n",
    "        wv = wv_embeddings[word][:10]\n",
    "    else:\n",
    "        wv = np.zeros(10)\n",
    "        \n",
    "print (wv / count_of_words_with_embed)\n",
    "        "
   ]
  },
  {
   "cell_type": "code",
   "execution_count": 11,
   "metadata": {
    "collapsed": true
   },
   "outputs": [],
   "source": [
    "def question_to_vec(question, embeddings, dim=300):\n",
    "    \"\"\"\n",
    "        question: a string\n",
    "        embeddings: dict where the key is a word and a value is its' embedding\n",
    "        dim: size of the representation\n",
    "\n",
    "        result: vector representation for the question\n",
    "    \"\"\"\n",
    "    ######################################\n",
    "    ######### YOUR CODE HERE #############\n",
    "    ######################################\n",
    "        \n",
    "    question = question.split()\n",
    "    count_of_words_with_embed = 0\n",
    "    wv_result = np.zeros(dim)\n",
    "    \n",
    "    if len(question) > 0:\n",
    "        for word in question:\n",
    "            if word in embeddings:\n",
    "                count_of_words_with_embed += 1\n",
    "                wv_result = wv_result + embeddings[word][:dim]\n",
    "            else:\n",
    "                count_of_words_with_embed = count_of_words_with_embed\n",
    "                wv_result = wv_result + np.zeros(dim)\n",
    "                \n",
    "        if count_of_words_with_embed > 0:\n",
    "            wv_result = wv_result/count_of_words_with_embed\n",
    "        else:\n",
    "            wv_result = np.zeros(dim)\n",
    "        \n",
    "    else:\n",
    "        wv_result = np.zeros(dim)\n",
    "            \n",
    "    return (wv_result)"
   ]
  },
  {
   "cell_type": "markdown",
   "metadata": {},
   "source": [
    "To check the basic correctness of your implementation, run the function *question_to_vec_tests*."
   ]
  },
  {
   "cell_type": "code",
   "execution_count": 12,
   "metadata": {
    "collapsed": true
   },
   "outputs": [],
   "source": [
    "def question_to_vec_tests():\n",
    "    if (np.zeros(300) != question_to_vec('', wv_embeddings)).any():\n",
    "        return \"You need to return zero vector for empty question.\"\n",
    "    if (np.zeros(300) != question_to_vec('thereisnosuchword', wv_embeddings)).any():\n",
    "        return \"You need to return zero vector for the question, which consists only unknown words.\"\n",
    "    if (wv_embeddings['word'] != question_to_vec('word', wv_embeddings)).any():\n",
    "        return \"You need to check the corectness of your function.\"\n",
    "    if ((wv_embeddings['I'] + wv_embeddings['am']) / 2 != question_to_vec('I am', wv_embeddings)).any():\n",
    "        return \"Your function should calculate a mean of word vectors.\"\n",
    "    if (wv_embeddings['word'] != question_to_vec('thereisnosuchword word', wv_embeddings)).any():\n",
    "        return \"You should not consider words which embeddings are unknown.\"\n",
    "    return \"Basic tests are passed.\""
   ]
  },
  {
   "cell_type": "code",
   "execution_count": 13,
   "metadata": {},
   "outputs": [
    {
     "name": "stdout",
     "output_type": "stream",
     "text": [
      "Basic tests are passed.\n"
     ]
    }
   ],
   "source": [
    "print(question_to_vec_tests())"
   ]
  },
  {
   "cell_type": "markdown",
   "metadata": {},
   "source": [
    "You can submit embeddings for the questions from the file *test_embeddings.tsv* to earn the points. In this task you don't need to transform the text of a question somehow."
   ]
  },
  {
   "cell_type": "code",
   "execution_count": 14,
   "metadata": {},
   "outputs": [
    {
     "name": "stdout",
     "output_type": "stream",
     "text": [
      "[nltk_data] Downloading package stopwords to /root/nltk_data...\n",
      "[nltk_data]   Unzipping corpora/stopwords.zip.\n"
     ]
    }
   ],
   "source": [
    "import nltk\n",
    "nltk.download('stopwords')\n",
    "from util import array_to_string"
   ]
  },
  {
   "cell_type": "code",
   "execution_count": 15,
   "metadata": {},
   "outputs": [
    {
     "name": "stdout",
     "output_type": "stream",
     "text": [
      "Current answer for task Question2Vec is: 0.019293891059\n",
      "-0.0287272135417\n",
      "0.0460561116536\n",
      "0.0852593315972\n",
      "0.0243055555556\n",
      "-0.0729031032986\n",
      "0.0...\n"
     ]
    }
   ],
   "source": [
    "question2vec_result = []\n",
    "for question in open('data/test_embeddings.tsv'):\n",
    "    question = question.strip()\n",
    "    answer = question_to_vec(question, wv_embeddings)\n",
    "    question2vec_result = np.append(question2vec_result, answer)\n",
    "\n",
    "grader.submit_tag('Question2Vec', array_to_string(question2vec_result))"
   ]
  },
  {
   "cell_type": "code",
   "execution_count": 16,
   "metadata": {},
   "outputs": [
    {
     "name": "stdout",
     "output_type": "stream",
     "text": [
      "0.891860486455\n",
      "0.235563141285\n"
     ]
    }
   ],
   "source": [
    "# test for the section below\n",
    "\n",
    "q1 = 'fifa is football world cup'\n",
    "q2 = 'fifa is soccer world trophy'\n",
    "\n",
    "qv1 = question_to_vec(q1,wv_embeddings)\n",
    "qv2 = question_to_vec(q2,wv_embeddings)\n",
    "\n",
    "from sklearn.metrics.pairwise import cosine_similarity\n",
    "\n",
    "qv1 = qv1.reshape(1, 300)\n",
    "qv2 = qv2.reshape(1, 300)\n",
    "\n",
    "cos_lib = cosine_similarity(qv1, qv2)\n",
    "print (cos_lib[0][0])\n",
    "\n",
    "# for a random sentence\n",
    "\n",
    "\n",
    "q1 = 'fifa is football world cup'\n",
    "q2 = 'comedy movies in marvel'\n",
    "\n",
    "qv1 = question_to_vec(q1,wv_embeddings)\n",
    "qv2 = question_to_vec(q2,wv_embeddings)\n",
    "\n",
    "from sklearn.metrics.pairwise import cosine_similarity\n",
    "\n",
    "qv1 = qv1.reshape(1, 300)\n",
    "qv2 = qv2.reshape(1, 300)\n",
    "\n",
    "cos_lib = cosine_similarity(qv1, qv2)\n",
    "print (cos_lib[0][0])"
   ]
  },
  {
   "cell_type": "markdown",
   "metadata": {},
   "source": [
    "### Correction\n",
    "\n",
    "The sentence below:\n",
    "The cosine similarity between the duplicate sentences should be less than for the random ones.\n",
    "\n",
    "Is not correct."
   ]
  },
  {
   "cell_type": "markdown",
   "metadata": {},
   "source": [
    "Now we have a method to create a representation of any sentence and we are ready for the first evaluation. So, let's check how well our solution (Google's vectors + *question_to_vec*) will work.\n",
    "\n",
    "## Evaluation of text similarity\n",
    "\n",
    "We can imagine that if we use good embeddings, the cosine similarity between the duplicate sentences should be less than for the random ones. Overall, for each pair of duplicate sentences we can generate *R* random negative examples and find out the position of the correct duplicate.  \n",
    "\n",
    "For example, we have the question *\"Exceptions What really happens\"* and we are sure that another question *\"How does the catch keyword determine the type of exception that was thrown\"* is a duplicate. But our model doesn't know it and tries to find out the best option also among questions like *\"How Can I Make These Links Rotate in PHP\"*, *\"NSLog array description not memory address\"* and *\"PECL_HTTP not recognised php ubuntu\"*. The goal of the model is to rank all these 4 questions (1 *positive* and *R* = 3 *negative*) in the way that the correct one is in the first place.\n",
    "\n",
    "However, it is unnatural to count on that the best candidate will be always in the first place. So let us consider the place of the best candidate in the sorted list of candidates and formulate a metric based on it. We can fix some *K* — a reasonalble number of top-ranked elements and *N* — a number of queries (size of the sample).\n",
    "\n",
    "### Hits@K\n",
    "\n",
    "The first simple metric will be a number of correct hits for some *K*:\n",
    "$$ \\text{Hits@K} = \\frac{1}{N}\\sum_{i=1}^N \\, [dup_i \\in topK(q_i)]$$\n",
    "\n",
    "where $q_i$ is the i-th query, $dup_i$ is its duplicate, $topK(q_i)$ is the top K elements of the ranked sentences provided by our model and the operation $[dup_i \\in topK(q_i)]$ equals 1 if the condition is true and 0 otherwise (more details about this operation could be found [here](https://en.wikipedia.org/wiki/Iverson_bracket)).\n",
    "\n",
    "\n",
    "### DCG@K\n",
    "The second one is a simplified [DCG metric](https://en.wikipedia.org/wiki/Discounted_cumulative_gain):\n",
    "\n",
    "$$ \\text{DCG@K} = \\frac{1}{N} \\sum_{i=1}^N\\frac{1}{\\log_2(1+rank_{dup_i})}\\cdot[rank_{dup_i} \\le K] $$\n",
    "\n",
    "where $rank_{dup_i}$ is a position of the duplicate in the sorted list of the nearest sentences for the query $q_i$. According to this metric, the model gets a higher reward for a higher position of the correct answer. If the answer does not appear in topK at all, the reward is zero. "
   ]
  },
  {
   "cell_type": "markdown",
   "metadata": {},
   "source": [
    "### Evaluation examples\n",
    "\n",
    "Let's calculate the described metrics for the toy example introduced above. In this case $N$ = 1 and the correct candidate for $q_1$ is *\"How does the catch keyword determine the type of exception that was thrown\"*. Consider the following ranking of the candidates:\n",
    "1. *\"How Can I Make These Links Rotate in PHP\"*\n",
    "2. *\"How does the catch keyword determine the type of exception that was thrown\"*\n",
    "3. *\"NSLog array description not memory address\"*\n",
    "4. *\"PECL_HTTP not recognised php ubuntu\"*\n",
    "\n",
    "Using the ranking above, calculate *Hits@K* metric for *K = 1, 2, 4*: \n",
    " \n",
    "- [K = 1] $\\text{Hits@1} = \\frac{1}{1}\\sum_{i=1}^1 \\, [dup_i \\in top1(q_i)] = [dup_1 \\in top1(q_1)] = 0$ because the correct answer doesn't appear in the *top1* list.\n",
    "- [K = 2] $\\text{Hits@2} = \\frac{1}{1}\\sum_{i=1}^1 \\, [dup_i \\in top2(q_i)] = [dup_1 \\in top2(q_1)] = 1$ because $rank_{dup_1} = 2$.\n",
    "- [K = 4] $\\text{Hits@4} = \\frac{1}{1}\\sum_{i=1}^1 \\, [dup_i \\in top4(q_i)] = [dup_1 \\in top4(q_1)] = 1$\n",
    "\n",
    "Using the ranking above, calculate *DCG@K* metric for *K = 1, 2, 4*:\n",
    "\n",
    "- [K = 1] $\\text{DCG@1} = \\frac{1}{1} \\sum_{i=1}^1\\frac{1}{\\log_2(1+rank_{dup_i})}\\cdot[rank_{dup_i} \\le 1] = \\frac{1}{\\log_2(1+rank_{dup_i})}\\cdot[rank_{dup_i} \\le 1] = 0$ because the correct answer doesn't appear in the top1 list.\n",
    "- [K = 2] $\\text{DCG@2} = \\frac{1}{1} \\sum_{i=1}^1\\frac{1}{\\log_2(1+rank_{dup_i})}\\cdot[rank_{dup_i} \\le 2] = \\frac{1}{\\log_2{3}}$, because $rank_{dup_1} = 2$.\n",
    "- [K = 4] $\\text{DCG@4} = \\frac{1}{1} \\sum_{i=1}^1\\frac{1}{\\log_2(1+rank_{dup_i})}\\cdot[rank_{dup_i} \\le 4] = \\frac{1}{\\log_2{3}}$.\n"
   ]
  },
  {
   "cell_type": "markdown",
   "metadata": {},
   "source": [
    "**Tasks 2 and 3 (HitsCount and DCGScore).** Implement the functions *hits_count* and *dcg_score* as described above. Each function has two arguments: *dup_ranks* and *k*. *dup_ranks* is a list which contains *values of ranks* of duplicates. For example, *dup_ranks* is *[2]* for the example provided above."
   ]
  },
  {
   "cell_type": "code",
   "execution_count": 17,
   "metadata": {
    "collapsed": true
   },
   "outputs": [],
   "source": [
    "def hits_count(dup_ranks, k):\n",
    "    \"\"\"\n",
    "        dup_ranks: list of duplicates' ranks; one rank per question; \n",
    "                   length is a number of questions which we are looking for duplicates; \n",
    "                   rank is a number from 1 to len(candidates of the question); \n",
    "                   e.g. [2, 3] means that the first duplicate has the rank 2, the second one — 3.\n",
    "        k: number of top-ranked elements (k in Hits@k metric)\n",
    "\n",
    "        result: return Hits@k value for current ranking\n",
    "    \"\"\"\n",
    "    ######################################\n",
    "    ######### YOUR CODE HERE #############\n",
    "    ######################################\n",
    "    \n",
    "    count_if_ranks_in_dr = 0\n",
    "    for ranks in dup_ranks:\n",
    "        if ranks <= k:\n",
    "            count_if_ranks_in_dr += 1\n",
    "            \n",
    "    return (count_if_ranks_in_dr / len(dup_ranks))            \n",
    "    "
   ]
  },
  {
   "cell_type": "markdown",
   "metadata": {},
   "source": [
    "Test your code on the tiny examples:"
   ]
  },
  {
   "cell_type": "code",
   "execution_count": 18,
   "metadata": {
    "collapsed": true
   },
   "outputs": [],
   "source": [
    "def test_hits():\n",
    "    # *Evaluation example*\n",
    "    # answers — dup_i\n",
    "    answers = [\"How does the catch keyword determine the type of exception that was thrown\"]\n",
    "    \n",
    "    # candidates_ranking — the ranked sentences provided by our model\n",
    "    candidates_ranking = [[\"How Can I Make These Links Rotate in PHP\", \n",
    "                           \"How does the catch keyword determine the type of exception that was thrown\",\n",
    "                           \"NSLog array description not memory address\",\n",
    "                           \"PECL_HTTP not recognised php ubuntu\"]]\n",
    "    # dup_ranks — position of the dup_i in the list of ranks +1\n",
    "    dup_ranks = [candidates_ranking[i].index(answers[i]) + 1 for i in range(len(answers))]\n",
    "    \n",
    "    # correct_answers — the expected values of the result for each k from 1 to 4\n",
    "    correct_answers = [0, 1, 1, 1]\n",
    "    for k, correct in enumerate(correct_answers, 1):\n",
    "        if not np.isclose(hits_count(dup_ranks, k), correct):\n",
    "            return \"Check the function.\"\n",
    "    \n",
    "    # Other tests\n",
    "    answers = [\"How does the catch keyword determine the type of exception that was thrown\", \n",
    "               \"Convert Google results object (pure js) to Python object\"]\n",
    "    \n",
    "    # The first test: both duplicates on the first position in ranked list\n",
    "    candidates_ranking = [[\"How does the catch keyword determine the type of exception that was thrown\",\n",
    "                           \"How Can I Make These Links Rotate in PHP\"], \n",
    "                          [\"Convert Google results object (pure js) to Python object\",\n",
    "                           \"WPF- How to update the changes in list item of a list\"]]\n",
    "    dup_ranks = [candidates_ranking[i].index(answers[i]) + 1 for i in range(len(answers))]\n",
    "    correct_answers = [1, 1]\n",
    "    for k, correct in enumerate(correct_answers, 1):\n",
    "        if not np.isclose(hits_count(dup_ranks, k), correct):\n",
    "            return \"Check the function (test: both duplicates on the first position in ranked list).\"\n",
    "        \n",
    "    # The second test: one candidate on the first position, another — on the second\n",
    "    candidates_ranking = [[\"How Can I Make These Links Rotate in PHP\", \n",
    "                           \"How does the catch keyword determine the type of exception that was thrown\"], \n",
    "                          [\"Convert Google results object (pure js) to Python object\",\n",
    "                           \"WPF- How to update the changes in list item of a list\"]]\n",
    "    dup_ranks = [candidates_ranking[i].index(answers[i]) + 1 for i in range(len(answers))]\n",
    "    correct_answers = [0.5, 1]\n",
    "    for k, correct in enumerate(correct_answers, 1):\n",
    "        if not np.isclose(hits_count(dup_ranks, k), correct):\n",
    "            return \"Check the function (test: one candidate on the first position, another — on the second).\"\n",
    "\n",
    "    # The third test: both candidates on the second position\n",
    "    candidates_ranking = [[\"How Can I Make These Links Rotate in PHP\", \n",
    "                           \"How does the catch keyword determine the type of exception that was thrown\"], \n",
    "                          [\"WPF- How to update the changes in list item of a list\",\n",
    "                           \"Convert Google results object (pure js) to Python object\"]]\n",
    "    dup_ranks = [candidates_ranking[i].index(answers[i]) + 1 for i in range(len(answers))]\n",
    "    correct_answers = [0, 1]\n",
    "    for k, correct in enumerate(correct_answers, 1):\n",
    "        if not np.isclose(hits_count(dup_ranks, k), correct):\n",
    "            return \"Check the function (test: both candidates on the second position).\"\n",
    "\n",
    "    return \"Basic test are passed.\""
   ]
  },
  {
   "cell_type": "code",
   "execution_count": 19,
   "metadata": {},
   "outputs": [
    {
     "name": "stdout",
     "output_type": "stream",
     "text": [
      "Basic test are passed.\n"
     ]
    }
   ],
   "source": [
    "print(test_hits())"
   ]
  },
  {
   "cell_type": "code",
   "execution_count": 20,
   "metadata": {
    "collapsed": true
   },
   "outputs": [],
   "source": [
    "def dcg_score(dup_ranks, k):\n",
    "    \"\"\"\n",
    "        dup_ranks: list of duplicates' ranks; one rank per question; \n",
    "                   length is a number of questions which we are looking for duplicates; \n",
    "                   rank is a number from 1 to len(candidates of the question); \n",
    "                   e.g. [2, 3] means that the first duplicate has the rank 2, the second one — 3.\n",
    "        k: number of top-ranked elements (k in DCG@k metric)\n",
    "\n",
    "        result: return DCG@k value for current ranking\n",
    "    \"\"\"\n",
    "    ######################################\n",
    "    ######### YOUR CODE HERE #############\n",
    "    ######################################\n",
    "    \n",
    "    dcg_sum_k = 0\n",
    "    \n",
    "    for ranks in dup_ranks:\n",
    "        if ranks <= k:\n",
    "            dcg_sum_k += 1 / (np.log2(1 + ranks))\n",
    "            \n",
    "            \n",
    "    return (dcg_sum_k / len(dup_ranks))    \n",
    "            "
   ]
  },
  {
   "cell_type": "code",
   "execution_count": 21,
   "metadata": {
    "collapsed": true
   },
   "outputs": [],
   "source": [
    "def test_dcg():\n",
    "    # *Evaluation example*\n",
    "    # answers — dup_i\n",
    "    answers = [\"How does the catch keyword determine the type of exception that was thrown\"]\n",
    "    \n",
    "    # candidates_ranking — the ranked sentences provided by our model\n",
    "    candidates_ranking = [[\"How Can I Make These Links Rotate in PHP\", \n",
    "                           \"How does the catch keyword determine the type of exception that was thrown\",\n",
    "                           \"NSLog array description not memory address\",\n",
    "                           \"PECL_HTTP not recognised php ubuntu\"]]\n",
    "    # dup_ranks — position of the dup_i in the list of ranks +1\n",
    "    dup_ranks = [candidates_ranking[i].index(answers[i]) + 1 for i in range(len(answers))]\n",
    "    \n",
    "    # correct_answers — the expected values of the result for each k from 1 to 4\n",
    "    correct_answers = [0, 1 / (np.log2(3)), 1 / (np.log2(3)), 1 / (np.log2(3))]\n",
    "    for k, correct in enumerate(correct_answers, 1):\n",
    "        if not np.isclose(dcg_score(dup_ranks, k), correct):\n",
    "            return \"Check the function.\"\n",
    "    \n",
    "    # Other tests\n",
    "    answers = [\"How does the catch keyword determine the type of exception that was thrown\", \n",
    "               \"Convert Google results object (pure js) to Python object\"]\n",
    "\n",
    "    # The first test: both duplicates on the first position in ranked list\n",
    "    candidates_ranking = [[\"How does the catch keyword determine the type of exception that was thrown\",\n",
    "                           \"How Can I Make These Links Rotate in PHP\"], \n",
    "                          [\"Convert Google results object (pure js) to Python object\",\n",
    "                           \"WPF- How to update the changes in list item of a list\"]]\n",
    "    dup_ranks = [candidates_ranking[i].index(answers[i]) + 1 for i in range(len(answers))]\n",
    "    correct_answers = [1, 1]\n",
    "    for k, correct in enumerate(correct_answers, 1):\n",
    "        if not np.isclose(dcg_score(dup_ranks, k), correct):\n",
    "            return \"Check the function (test: both duplicates on the first position in ranked list).\"\n",
    "        \n",
    "    # The second test: one candidate on the first position, another — on the second\n",
    "    candidates_ranking = [[\"How Can I Make These Links Rotate in PHP\", \n",
    "                           \"How does the catch keyword determine the type of exception that was thrown\"], \n",
    "                          [\"Convert Google results object (pure js) to Python object\",\n",
    "                           \"WPF- How to update the changes in list item of a list\"]]\n",
    "    dup_ranks = [candidates_ranking[i].index(answers[i]) + 1 for i in range(len(answers))]\n",
    "    correct_answers = [0.5, (1 + (1 / (np.log2(3)))) / 2]\n",
    "    for k, correct in enumerate(correct_answers, 1):\n",
    "        if not np.isclose(dcg_score(dup_ranks, k), correct):\n",
    "            return \"Check the function (test: one candidate on the first position, another — on the second).\"\n",
    "        \n",
    "    # The third test: both candidates on the second position\n",
    "    candidates_ranking = [[\"How Can I Make These Links Rotate in PHP\",\n",
    "                           \"How does the catch keyword determine the type of exception that was thrown\"], \n",
    "                          [\"WPF- How to update the changes in list item of a list\",\n",
    "                           \"Convert Google results object (pure js) to Python object\"]]\n",
    "    dup_ranks = [candidates_ranking[i].index(answers[i]) + 1 for i in range(len(answers))]\n",
    "    correct_answers = [0, 1 / (np.log2(3))]\n",
    "    for k, correct in enumerate(correct_answers, 1):\n",
    "        if not np.isclose(dcg_score(dup_ranks, k), correct):\n",
    "            return \"Check the function (test: both candidates on the second position).\"\n",
    "\n",
    "    return \"Basic test are passed.\""
   ]
  },
  {
   "cell_type": "code",
   "execution_count": 22,
   "metadata": {},
   "outputs": [
    {
     "name": "stdout",
     "output_type": "stream",
     "text": [
      "Basic test are passed.\n"
     ]
    }
   ],
   "source": [
    "print(test_dcg())"
   ]
  },
  {
   "cell_type": "markdown",
   "metadata": {},
   "source": [
    "Submit results of the functions *hits_count* and *dcg_score* for the following examples to earn the points."
   ]
  },
  {
   "cell_type": "code",
   "execution_count": 23,
   "metadata": {
    "collapsed": true
   },
   "outputs": [],
   "source": [
    "test_examples = [\n",
    "    [1],\n",
    "    [1, 2],\n",
    "    [2, 1],\n",
    "    [1, 2, 3],\n",
    "    [1, 2, 3, 4, 5, 6, 7, 8, 9, 10],\n",
    "    [9, 5, 4, 2, 8, 10, 7, 6, 1, 3],\n",
    "    [4, 3, 5, 1, 9, 10, 7, 8, 2, 6],\n",
    "    [5, 1, 7, 6, 2, 3, 8, 9, 10, 4],\n",
    "    [6, 3, 1, 4, 7, 2, 9, 8, 10, 5],\n",
    "    [10, 9, 8, 7, 6, 5, 4, 3, 2, 1],\n",
    "]"
   ]
  },
  {
   "cell_type": "code",
   "execution_count": 24,
   "metadata": {},
   "outputs": [
    {
     "name": "stdout",
     "output_type": "stream",
     "text": [
      "Current answer for task HitsCount is: 1.0\n",
      "0.5\n",
      "1.0\n",
      "0.5\n",
      "1.0\n",
      "0.3333333333333333\n",
      "0.6666666666666666\n",
      "1.0\n",
      "0.1\n",
      "0.2\n",
      "0.3\n",
      "0.4\n",
      "0.5\n",
      "0.6\n",
      "0.7\n",
      "0.8\n",
      "0.9\n",
      "1....\n"
     ]
    }
   ],
   "source": [
    "hits_results = []\n",
    "for example in test_examples:\n",
    "    for k in range(len(example)):\n",
    "        hits_results.append(hits_count(example, k + 1))\n",
    "grader.submit_tag('HitsCount', array_to_string(hits_results))"
   ]
  },
  {
   "cell_type": "code",
   "execution_count": 24,
   "metadata": {},
   "outputs": [
    {
     "name": "stdout",
     "output_type": "stream",
     "text": [
      "Current answer for task DCGScore is: 1.0\n",
      "0.5\n",
      "0.815464876786\n",
      "0.5\n",
      "0.815464876786\n",
      "0.333333333333\n",
      "0.54364325119\n",
      "0.710309917857\n",
      "0.1\n",
      "0.16309297...\n"
     ]
    }
   ],
   "source": [
    "dcg_results = []\n",
    "for example in test_examples:\n",
    "    for k in range(len(example)):\n",
    "        dcg_results.append(dcg_score(example, k + 1))\n",
    "grader.submit_tag('DCGScore', array_to_string(dcg_results))"
   ]
  },
  {
   "cell_type": "markdown",
   "metadata": {},
   "source": [
    "##  First solution: pre-trained embeddings"
   ]
  },
  {
   "cell_type": "markdown",
   "metadata": {},
   "source": [
    "We will work with predefined train, validation and test corpora. All the files are tab-separated, but have a different format:\n",
    " - *train* corpus contains similar sentences at the same row.\n",
    " - *validation* corpus contains the following columns: *question*, *similar question*, *negative example 1*, *negative example 2*, ... \n",
    " - *test* corpus contains the following columns: *question*, *example 1*, *example 2*, ...\n",
    "\n",
    "Validation corpus will be used for the intermediate validation of models. The test data will be necessary for submitting the quality of your model in the system."
   ]
  },
  {
   "cell_type": "markdown",
   "metadata": {},
   "source": [
    "Now you should read *validation* corpus, located at `data/validation.tsv`. You will use it later to evaluate current solution."
   ]
  },
  {
   "cell_type": "code",
   "execution_count": 25,
   "metadata": {
    "collapsed": true
   },
   "outputs": [],
   "source": [
    "def read_corpus(filename):\n",
    "    data = []\n",
    "    for line in open(filename, encoding='utf-8'):\n",
    "        data.append(line.strip().split('\\t'))\n",
    "    return data"
   ]
  },
  {
   "cell_type": "code",
   "execution_count": 26,
   "metadata": {
    "collapsed": true
   },
   "outputs": [],
   "source": [
    "validation =  read_corpus('data/validation.tsv') ######### YOUR CODE HERE #############"
   ]
  },
  {
   "cell_type": "code",
   "execution_count": 27,
   "metadata": {
    "collapsed": true
   },
   "outputs": [],
   "source": [
    "from sklearn.metrics.pairwise import cosine_similarity"
   ]
  },
  {
   "cell_type": "markdown",
   "metadata": {},
   "source": [
    "We will use cosine distance to rank candidate questions which you need to implement in the function *rank_candidates*. The function should return a sorted list of pairs *(initial position in candidates list, candidate)*. Index of some pair corresponds to its rank (the first is the best). For example, if the list of candidates was *[a, b, c]* and the most similar is *c*, then *a* and *b*, the function should return a list *[(2, c), (0, a), (1, b)]*.\n",
    "\n",
    "Pay attention, if you use the function *cosine_similarity* from *sklearn.metrics.pairwise* to calculate similarity because it works in a different way: most similar objects has greatest similarity. It's preferable to use a vectorized version of *cosine_similarity* function. Try to compute similarity at once and not use list comprehension. It should speed up your computations significantly."
   ]
  },
  {
   "cell_type": "code",
   "execution_count": 28,
   "metadata": {
    "collapsed": true
   },
   "outputs": [],
   "source": [
    "def rank_candidates(question, candidates, embeddings, dim=300):\n",
    "    \"\"\"\n",
    "        question: a string\n",
    "        candidates: a list of strings (candidates) which we want to rank\n",
    "        embeddings: some embeddings\n",
    "        dim: dimension of the current embeddings\n",
    "        \n",
    "        result: a list of pairs (initial position in the list, question)\n",
    "    \"\"\"\n",
    "    \n",
    "    ######################################\n",
    "    ######### YOUR CODE HERE #############\n",
    "    ######################################\n",
    "    \n",
    "    qv = question_to_vec(question, embeddings)\n",
    "    all_cands_vec = []\n",
    "    \n",
    "    for cand in candidates:\n",
    "        cand_vec = question_to_vec(cand, embeddings)\n",
    "        all_cands_vec.append(cand_vec)\n",
    "        \n",
    "\n",
    "    cos_sim_list = cosine_similarity(np.array(qv).reshape(1,-1), np.array(all_cands_vec))\n",
    "    \n",
    "#     for all_cands_vectors in all_cands_vec:\n",
    "\n",
    "#         all_cands_vectors = all_cands_vectors.reshape(1, dim)\n",
    "#         cos_lib = cosine_similarity(qv, all_cands_vectors)[0][0]\n",
    "#         cos_sim_list.append(cos_lib)\n",
    "        \n",
    "    #get indices of the cosine similarity sorted but in descending\n",
    "    ind_cos_sim_sort = np.argsort(cos_sim_list[0])\n",
    "    \n",
    "    #reverse since we want the highest value first\n",
    "    rev_ind_cos_sim_sort = ind_cos_sim_sort[::-1]\n",
    "    \n",
    "    result = [(new_rank, candidates[new_rank]) for new_rank in rev_ind_cos_sim_sort]\n",
    "    \n",
    "    return result"
   ]
  },
  {
   "cell_type": "markdown",
   "metadata": {},
   "source": [
    "Test your code on the tiny examples:"
   ]
  },
  {
   "cell_type": "code",
   "execution_count": 29,
   "metadata": {
    "collapsed": true
   },
   "outputs": [],
   "source": [
    "def test_rank_candidates():\n",
    "    questions = ['converting string to list', 'Sending array via Ajax fails']\n",
    "    candidates = [['Convert Google results object (pure js) to Python object', \n",
    "                   'C# create cookie from string and send it',\n",
    "                   'How to use jQuery AJAX for an outside domain?'], \n",
    "                  ['Getting all list items of an unordered list in PHP', \n",
    "                   'WPF- How to update the changes in list item of a list', \n",
    "                   'select2 not displaying search results']]\n",
    "    results = [[(1, 'C# create cookie from string and send it'), \n",
    "                (0, 'Convert Google results object (pure js) to Python object'), \n",
    "                (2, 'How to use jQuery AJAX for an outside domain?')],\n",
    "               [(0, 'Getting all list items of an unordered list in PHP'), \n",
    "                (2, 'select2 not displaying search results'), \n",
    "                (1, 'WPF- How to update the changes in list item of a list')]]\n",
    "    for question, q_candidates, result in zip(questions, candidates, results):\n",
    "        ranks = rank_candidates(question, q_candidates, wv_embeddings, 300)\n",
    "        if not np.all(ranks == result):\n",
    "            return \"Check the function.\"\n",
    "    return \"Basic tests are passed.\""
   ]
  },
  {
   "cell_type": "code",
   "execution_count": 30,
   "metadata": {},
   "outputs": [
    {
     "name": "stdout",
     "output_type": "stream",
     "text": [
      "Basic tests are passed.\n"
     ]
    }
   ],
   "source": [
    "print(test_rank_candidates())"
   ]
  },
  {
   "cell_type": "markdown",
   "metadata": {},
   "source": [
    "Now we can test the quality of the current approach. Run the next two cells to get the results. Pay attention that calculation of similarity between vectors takes time and this calculation is computed approximately in 10 minutes."
   ]
  },
  {
   "cell_type": "code",
   "execution_count": 32,
   "metadata": {
    "collapsed": true
   },
   "outputs": [],
   "source": [
    "wv_ranking = []\n",
    "for line in validation:\n",
    "    q, *ex = line\n",
    "    ranks = rank_candidates(q, ex, wv_embeddings)\n",
    "    wv_ranking.append([r[0] for r in ranks].index(0) + 1)"
   ]
  },
  {
   "cell_type": "code",
   "execution_count": 33,
   "metadata": {},
   "outputs": [
    {
     "data": {
      "text/plain": [
       "6"
      ]
     },
     "execution_count": 33,
     "metadata": {},
     "output_type": "execute_result"
    }
   ],
   "source": [
    "wv_ranking[0]"
   ]
  },
  {
   "cell_type": "code",
   "execution_count": 34,
   "metadata": {},
   "outputs": [
    {
     "name": "stdout",
     "output_type": "stream",
     "text": [
      "DCG@   1: 0.209 | Hits@   1: 0.209\n",
      "DCG@   5: 0.263 | Hits@   5: 0.311\n",
      "DCG@  10: 0.279 | Hits@  10: 0.360\n",
      "DCG@ 100: 0.316 | Hits@ 100: 0.548\n",
      "DCG@ 500: 0.349 | Hits@ 500: 0.807\n",
      "DCG@1000: 0.369 | Hits@1000: 1.000\n"
     ]
    }
   ],
   "source": [
    "for k in [1, 5, 10, 100, 500, 1000]:\n",
    "    print(\"DCG@%4d: %.3f | Hits@%4d: %.3f\" % (k, dcg_score(wv_ranking, k), k, hits_count(wv_ranking, k)))"
   ]
  },
  {
   "cell_type": "markdown",
   "metadata": {},
   "source": [
    "If you did all the steps correctly, you should be frustrated by the received results. Let's try to understand why the quality is so low. First of all, when you work with some data it is necessary to have an idea how the data looks like. Print several questions from the data:"
   ]
  },
  {
   "cell_type": "code",
   "execution_count": 35,
   "metadata": {},
   "outputs": [
    {
     "name": "stdout",
     "output_type": "stream",
     "text": [
      "How to print a binary heap tree without recursion? How do you best convert a recursive function to an iterative one? How can i use ng-model with directive in angular js flash: drawing and erasing\n",
      "How to start PhoneStateListener programmatically? PhoneStateListener and service Java cast object[] to model WCF and What does this mean?\n",
      "jQuery: Show a div2 when mousenter over div1 is over when hover on div1 depenting on if it is on div2 or not it should act differently How to run selenium in google app engine/cloud? Python Comparing two lists of strings for similarities\n"
     ]
    }
   ],
   "source": [
    "for line in validation[:3]:\n",
    "    q, *examples = line\n",
    "    print(q, *examples[:3])"
   ]
  },
  {
   "cell_type": "markdown",
   "metadata": {},
   "source": [
    "As you can see, we deal with the raw data. It means that we have many punctuation marks, special characters and unlowercased letters. In our case, it could lead to the situation where we can't find some embeddings, e.g. for the word \"grid?\". \n",
    "\n",
    "To solve this problem you should use the functions *text_prepare* from the previous assignments to prepare the data."
   ]
  },
  {
   "cell_type": "code",
   "execution_count": 36,
   "metadata": {
    "collapsed": true
   },
   "outputs": [],
   "source": [
    "from util import text_prepare"
   ]
  },
  {
   "cell_type": "code",
   "execution_count": 37,
   "metadata": {},
   "outputs": [
    {
     "name": "stdout",
     "output_type": "stream",
     "text": [
      "How to print a binary heap tree without recursion?\n",
      "How do you best convert a recursive function to an iterative one?\n",
      "How can i use ng-model with directive in angular js\n",
      "flash: drawing and erasing\n",
      "toggle react component using hide show classname\n",
      "Use a usercontrol from another project to current webpage\n",
      "~ Paths resolved differently after upgrading to ASP.NET 4\n",
      "Materialize datepicker - Rendering when an icon is clicked\n",
      "Creating PyPi package - Could not find a version that satisfies the requirement iso8601\n",
      "How can I analyze a confusion matrix?\n",
      "How do I declare a C array in Swift?\n",
      "Using rand() when flipping a coin and rolling a die\n",
      "Handling a JSON field with a special character in its name in Java\n",
      "React Native select row on ListView when push it\n",
      "Get 'creation_time' of video using ffmpeg and regex\n",
      "Does row exist and multiple where\n",
      "How to specify a classifier in a gradle dependency's dependency?\n",
      "Using $unwind on multiple documents\n",
      "Visual Studio Code: Missing X509Certificate2UI\n",
      "Developing Cordova plugins for Firefox OS\n",
      "Update multiple rows for 2 columns in MySQL\n",
      "Analyse format of alpha-numeric string\n",
      "Dealing with large TIFF images C++/Magick/libtiff\n",
      "What does Error: [$injector:unpr] Unknown provider: tProvider <- t <- myActiveLinkDirective mean?\n",
      "AngularJS - Apply directive instantly, formating currency\n",
      "Can I change the font color on a portion of a string?\n",
      "Spring AOP does not intercept methods within Spring's container\n",
      "How to retrieve json in original nested form in apache solr?\n",
      "Spatial autocorrelation using Moran's I or other spatial overlap index\n",
      "how to stop my php page from continuing when field is empty\n",
      "Selecting all CheckBoxes in ListBox not displayed properly\n",
      "PHP warning: Illegal string offset 'field'\n",
      "WebBrowser control crashes on Windows 10\n",
      "Error while opening a modal in angular\n",
      "Port 25 works when exe run manually but blocked when run as service\n",
      "Why does 6.00 + (plus) 5.00 = \"5.006.00\"?\n",
      "Count number of processes created using fork in a for loop\n",
      "When should I use UIImagePickerControllerSourceTypePhotoLibrary instead of UIImagePickerControllerSourceTypeSavedPhotosAlbum?\n",
      "Read File in Java, output the first comma delimited String\n",
      "Simple recursive method\n",
      "Ensure SQLite table only has one row\n",
      "Why is there a method iterator() on java.util.Collection\n",
      "Development for Cloudant using local CouchDB\n",
      "Regex to find method calls\n",
      "ASP.NET Menu rendering different from vs2008 to vs2010\n",
      "Maven - Change jUnit Version in Quickstart Archetype\n",
      "Writing sublists in a list of lists to separate text files\n",
      "iPad: problems with table rows in popovercontrol\n",
      "Retrieve multiple results set\n",
      "pagination is not working in codeigniter :(\n",
      "Angular NVD3 Change Colors In Legends Also\n",
      "node.js server not responding while large file upload with express and busboy\n",
      "Send request & Get Response in Windows Phone 8.1 WinRT\n",
      "want to delete only empty folders from directory before last 30 days using batch\n",
      "Creating X amount of threads that execute a task at the same time\n",
      "Android Studio 2.2 update: aligned APK (zipAlign) not generated using the new Gradle Plugin 2.2.0\n",
      "Entity Framework - adding the same entity twice in many-to-many relationships\n",
      "Join two tables, only display unique values and maxium date\n",
      "How to use absolute position relative to parent element\n",
      "Search refinement for WebMatrix site\n",
      "Maven project version as expression, not constant\n",
      "Can I prevent App.g.i.cs to be generated?\n",
      "Troubles converting XSD to Java using JAXB\n",
      "Cannot run a jax rs web service with tomcat\n",
      "make a password protected bash script resist/refuse \"bash -x\" when the password is given\n",
      "Does youtube api play function trigger a view count?\n",
      "Why is this Perl loop over strings then characters so slow?\n",
      "How can I change the size of rgl plots in Shiny RMarkdown?\n",
      "How do I programmatically disconnect clients which are connected to Solace appliance?\n",
      "Rails before_filter (Correct_user OR Admin)\n",
      "How to gitignore everything except hidden subdir?\n",
      "Should I use weakSelf in nested blocks?\n",
      "CSS background color not behaving as expected\n",
      "Android app Listview cannot be scrolled to bottom to search a specific element using appium in java\n",
      "Rails: Why \"has_many ..., :through => ...\" association results in \"NameError: uninitialized constant ...\"\n",
      "How to send data between fragments when swiping tabs in ViewPager\n",
      "Wordpress static pages: how to embed content into templates?\n",
      "Troubles with importing classes from Angular 2 modules with Typescript 1.7\n",
      "i am not able to get the images read in java for exporting it as JAR\n",
      "How do I create a resource dll\n",
      "error: linker command failed: ld: duplicate symbol _main\n",
      "sql to find non-printable characters in a string\n",
      "i want to generate payperiod for each month\n",
      "Interactively enter headline under which to place an entry using capture\n",
      "Querying the DNS service records to find the hostname and TCP/IP\n",
      "Can I use setContentView outside the oncreate method?\n",
      "Consolitate data from multible sheets ,re-arrange the data as per the column name\n",
      "Why is my 'transparent' overlay view opaque?\n",
      "how can I run play framework with port=9001 under windows cmd not under play console?\n",
      "Rails 3 - Ajax POSTS from a link click\n",
      "Add html content to mysql die error?\n",
      "Best way to run a Plack PSGI Perl application outside of Apache using FastCGI?\n",
      "How to Call NSUserDefault Value To Another View Controller?\n",
      "Does Qt have a way to get the font that the particular css resolves to?\n",
      "How to update Parent component about the data that child component modified(angular 1.5)\n",
      "2d array, pushing to one array shows up in all arrays?\n",
      "Get NSData from assets-library URL\n",
      "How to specify image size in HTML Doxygen?\n",
      "NSFetchedResultsControllerDelegate in a second view controller (not firing?)\n",
      "Draggable divs getting mixed with another divs\n",
      "creating MLP in python showing error\n",
      "Create SharePoint 2010 ribbon button programmatically w/o feature XML\n",
      "how can I use pyglet write a music player can play a music list\n",
      "How can I efficiently debug loops consisting of a large number of iterations on Eclipse?\n",
      "Passing a model object to a RedirectToAction without polluting the URL?\n",
      "Automatically receiving mobile phone's SMS to hyperterminal\n",
      "Output \"System.out.println\" into Emacs Cider's REPL (or other buffer)\n",
      "Scoring regression model using PMML with Augustus in Python\n",
      "Safari View Controller - send data back to app\n",
      "Signalling a bash script running in the background in an infinite loop\n",
      "How do I add in-app purchase to a published app in play store and test it before going into production?\n",
      "FileNotFoundException in Windows 10 Universal App (UAP)\n",
      "How to map one column with other columns in an avro file?\n",
      "Retrieving all the cell data from a jQuery datatable on post\n",
      "In Play! Frame work Can I Make classes In models package Singleton?\n",
      "Binding events with Hammer.js and .on()\n",
      "yii making user auto logged in on signup end (auto authentication after signup)\n",
      "Unreal Engine 4: save rendered frame to memory\n",
      "Building HelloWorld C++ Program in Linux with ncurses\n",
      "Generating Checkbox Lists with MVC3 using a complex viewmodel and a cross table with Linq to SQL\n",
      "CordovaWebView: TIMEOUT ERROR\n",
      "Whats wrong in my xsd schema ? It gives type element is not declared on include of another xsd file\n",
      "Angular and papaParse Integration\n",
      "Setup a graylog2 server with elasticsearch in a vagrant machine\n",
      "(Solved-See my comment)How to make a password form on tumblr?\n",
      "Javascript: Call a method inside another method\n",
      "aws api gateway client-side ssl certificate verification with nginx\n",
      "Kendo UI drop downs posting arrays\n",
      "ServiceStack Identity on field other than PK - Insert fails\n",
      "Redirection when rendering controller in twig SYMFONY 302\n",
      "CSS Sprites Bottom repeating\n",
      "How can I sort a table of Laravel Eloquent objects by a custom attribute?\n",
      "Comparing elements in a generic list\n",
      "Set minDate for Bootstrap DateTimePicker from another\n",
      "What is the difference between :g and :%s commands in vim\n",
      "Java: creating self extracting jar that can extract parts of itself out of the archive?\n",
      "set html text color and size using javascript\n",
      "Queue using Arrays\n",
      "foreach loop when using Xml.XmlElement in remote scriptblock\n",
      "How to print list of categories and click on each category one by one in selenium/appium?\n",
      "Every now and then, ABCpdf runs out of memory\n",
      "In Spring OAuth2, why is my resource still unprotected even though I have marked it in my resource server?\n",
      "how to restart node application automatically on aws elastic-beanstalk\n",
      "Unresolved external symbol LNK2019\n",
      "Celltemplate in angular-ui-grid is not working properly\n",
      "Escaping backslashes in method call stringByReplacingOccurrencesOfString Does not work in Objective C\n",
      "APEX Data Loading - Add a column programatically\n",
      "MySQL / MariaDB shuts down after exactly 1 minute 42 seconds\n",
      "Mouse movement / mouseover and JavaScript evaluation in watir\n",
      "Removing backslashes from a string in Python\n",
      "Array manipulation (accessing specific bytes)\n",
      "Rails: Does Application.css load all css.scss files?\n",
      "LongListSelector cannot change ItemsSource\n",
      "C# DateTime not recognising timezone change (BST)\n",
      "deinit in child view controllers\n",
      "How to send back to custom class which object of that class was clicked\n",
      "delete from array returning self\n",
      "MS Access Properties\n",
      "UIWebView always add a parameter in url issue\n",
      "comparing two spanned strings in edittext in android\n",
      "Add prefix to control id and still have it bind MVC Razor\n",
      "EXC_BAD_ACCESS when setting Integer to anything else than zero\n",
      ":hover CSS is not working?\n",
      "Blowfish last block incomplete in decryption\n",
      "Reading uploaded image: undefined method `file' for nil:NilClass\n",
      "How can I run IntelliJ IDEA on a remote desktop\n",
      "How to get the JSONObject server response in Volley\n",
      "Guide in organizing large Django projects\n",
      "how to populate a dropdownlist based on another dropdownlist selected value in mvc 4?\n",
      "Azure ServiceBus Token Expired\n",
      "iBatis to MyBatis migration efforts?\n",
      "Where should I look for the document generated using htp package\n",
      "Tortoise SVN Error after update: 'The specified path has an unexpected status'\n",
      "Extract html data after logging into website from android app\n",
      "Add key value to array without triggering an array\n",
      "How to write this math equation into c++\n",
      "Undefined index php mysql error\n",
      "when text changed inputbox automatically updates next 6 text boxes\n",
      "Unable to get email of facebook user\n",
      "iphone: Facebook logout feature is not work in my app\n",
      "how to force my app NOT to use the 3g data proxy setting\n",
      "Unit Testing - What do you do when your code is pretty much just a calculation (GetHashCode for example)?\n",
      "Status of CheckBox can't be detected\n",
      "Sort a list with multiple conditions Ruby on Rails\n",
      "How to sharp the text in css3?\n",
      "How to change the class of an object dynamically in C#?\n",
      "Creating an Array with a Default Value,But the default value is changed\n",
      "How to call a delegate's function without getting the \"instance method not found\" warning in ios?\n",
      "Android, background drawable appear black in genymotion but looks fine in intellij\n",
      "Table has no columns using google charts\n",
      "Dropdown list where options populate a second list js/php?\n",
      "difference between <% and <%= ruby\n",
      "How to remove the functionality of changelist filter appearing in django admin?\n",
      "how to unpack stxetx data in python\n",
      "Ansible: playbook calling Role in a directory that is in the roles directory\n",
      "Setting up HTTPS redirects on Heroku Laravel Instance\n",
      "Input helper valueBinding is deprecated - what's the alternative?\n",
      "Using MySQL.connector with Twisted Python to execute multiple queries\n",
      "MySQL - 1 large table with 100 columns OR split into 5 tables and JOIN\n",
      "neo4j load csv when field name has a '.' in it\n",
      "Mocha + React: navigator is not defined\n",
      "semantic ui grid - display full width of column, after \"computer only\" columns is hidden\n",
      "populating select menu options using javascript\n",
      "Serializing MongoDB find() return into non-anonymous JSON array, using PyMongo\n",
      "Geom tile white space issue when the x variable is spread unevenly accross facet grids\n",
      "Moving files depending on the profile in a WAR\n",
      "Check if it's the last record in sqldatareader\n",
      "Assigning to columns in NumPy?\n",
      "Android Facebook ApiException: Invalid Application\n",
      "Django: customizing the message after a successful form save\n",
      "Custom TextBox with built-in Validator: server side validation not firing\n",
      "How to embed mjpeg file on a webpage\n",
      "php delete on jQuery doesnt work\n",
      "AWK doesn't work in Bash Script\n",
      "Launch specific app when external accessory attached\n",
      "Three Inputs in a Row - Bootstrap 3\n",
      "How compiler like GCC implement acquire/release semantics for std::mutex\n",
      "Framework search for upcoming project\n",
      "Implementing a Web Service Server in Windows CE 2013\n",
      "Why do I keep getting \"The digital signature of the object did not verify\" for Windows JavaEE installer\n",
      "hide paging numbers in gridview?\n",
      "How to remove sublayers from a view afer a touch\n",
      "CUDA: Can i find out if i have global memory coalescence?\n",
      "How to read a google chrome crash dump with windbg\n",
      "jQuery targeting nested list\n",
      "pass the column value when checkbox is clicked in wijmogrid column\n",
      "How to normalize your database in hibernate? (Repeating values don't get saved again and again)\n",
      "how to stop validation on a particular textbox after hiding this textbox using angularjs\n",
      "opencv imshow with waitKey too slow on Mac OS X 10.10.2 (using c++)\n",
      "Setting an Input Box Background\n",
      "IntelliJ IDEA: \"Element ignore is not allowed here\"\n",
      "Slider does not work in the jQuery Tabs\n",
      "Carrierwave getting image width and height and storing it in an hstore field\n",
      "OpenProcess() succeeds, but EnumProcessModules() fails\n",
      "Django + Forms: Dynamic choices for ChoiceField\n",
      "using Url.Content to display the file content with .net mvc\n",
      "PDO cannot able to fetch image from database\n",
      "error in adding overlay in current location\n",
      "Internal section link fails in beamer output of pandoc markdown\n",
      "Adding ROW_NUMBER() to query loses DISTINCT, defeats the purpose of paged results attempt\n",
      "android studio 135.1339820 launches wrong java version on openSuse 12.3\n",
      "My Facebook object is empty\n",
      "Java code reads UTF-8 text incorrectly\n",
      "PHP session.cookie_secure does not actually set the cookie to secure\n",
      "Using webapp2, how can I get the value of a form's \"name\" attribute during a POST request?\n",
      "Finding Uppercase Character then Adding Space\n",
      "Table data pass into stored procedure as param and insert into another table in mysql\n",
      "Inject entry point class in GWT with GIN\n",
      "How to group by week of the year dates or day dates that start on Sundays in oracle 10?\n",
      "What are the options Some and None SML?\n",
      "Reversing a .mp3 programmatically\n",
      "Convert Associative Array in PHP and insert it to database\n",
      "Why is the \"map\" version of ThreeSum so slow?\n",
      "ant keeps recompiling\n",
      "HttpContext.Current.User.Identity.Name returns blank\n",
      "UIWebView Javascript Window to Window Communication\n",
      "Fluent NHibernate Exception: An association from the table X refers to an unmapped class: System.String\n",
      "Are .NET memcache libraries production ready?\n",
      "DB2 Can't connect to db with new user\n",
      "Django flatpages backup?\n",
      "Trouble with Creating One-Time Calendar Event from Google Sheet row\n",
      "The colored image turned to have no color and just a grey vector in drawable?\n",
      "how to show pattern in asp-Repeater item template?\n",
      "Fastest scripting language for Java?\n",
      "Tried to reverse engineer my app, but got some weird-looking file tree\n",
      "Startup for bundles placed in the deploy folder of Karaf\n",
      "d3js force layout with hide/unhide on node click misplaces nodes after expanding\n",
      "Unique column definition in SQL\n",
      "Hash of a cell text in Google Spreadsheet\n",
      "How to pin/unpin Microsoft Edge developer tools in Windows 10\n",
      "Which editor can align tables in reStructuredText for Sphinx?\n",
      "How to walk through a directory in c and print all files name and permissions\n",
      "iOS KVC DRY mutation\n",
      "IBM MobileFirst Platform iFix doesn't update the version displayed in Operations Console\n",
      "relative layout aligning images about right bottom corner\n",
      "How to retrieve a PDF(document) from the Tridion File System and create a multimedia component out of it\n",
      "HTML sends x y POST data with no inputs - how is this possible?\n",
      "How can I view Azure logfiles when running locally?\n",
      "is there a web service client code generator on iOS?\n",
      "Get smallest type to include data range\n",
      "Get dates as check if it is ending\n",
      "Cordova brightness still returns -1\n",
      "How to detect 3 keyboard buttons in Swing?\n",
      "Python calculations in two groups\n",
      "create array from mysql query php\n",
      "TDD vs Defensive Programming\n",
      "Display logo or image in the Ribbon using VSTO\n",
      "How can I get a meaning of a jsp variable in java code on the same page?\n",
      "Conversion of cloud data into 2d image using OpenCV\n",
      "[python-suds]Bug? One additional element is created when using Factory\n",
      "Using clang to analyze C++ code\n",
      "Login with email and password control not working\n",
      "ansible: use different logging level for terminal and log file\n",
      "Draggable window with pyqt4\n",
      "dynamically adding edittext depending on the elements of json array\n",
      "How to convert ftp.getModificationTime(file) to readable format\n",
      "PHP Login Form using DashDB\n",
      "Building a properties file to the top level of a WAR file, Spring-MVC/Maven\n",
      "Enabling breakpoints in goclipse\n",
      "error while including external JARs in ant script\n",
      "Comparison of web widgets in flash and javascript\n",
      "Why must I free this data? Am I the owner?\n",
      "Optimizing a very huge mysql table (query or mysql)\n",
      "tlbexp.exe outputs different tlb information on 2012 versus 2010\n",
      "How to create a Facebook Like with a post/comment box\n",
      "Codeigniter PDO integration\n",
      "pass string array as parameter to asp.net mvc webapi method\n",
      "Removing space in dataframe python\n",
      "How to set application identity of an application pool using web administration module in powershell?\n",
      "how to handle play database connection exceptions\n",
      "querydsl 3.3.0 - using collection.any() with elementcollections in a query with N boolean arguments generates N \"exists\" sub-queries\n",
      "Gson: Change the way Map-Keys are being serialized\n",
      "Improving gnuplot 3d plots from data files with pm3d\n",
      "Divide problem\n",
      "Yii2: Using Kartik Depdrop Widget?\n",
      "Can anyone post an example of how to enable SSL in Tsung?\n",
      "MPI_Isend and MPI_Irecv seem to be causing a deadlock\n",
      "Virtual Box port forwarding misery with Ruby Sinatra:4567 / Shotgun:9292\n",
      "Enhancing regex to match more URLs\n",
      "JavaScript classlist selector error\n",
      "My IntelliJ IDEA 11.1.5 lost the ability to debug node.js applications after upgrading to windows 8.1\n",
      "Scientific notation android java\n",
      "How to make a JSON array case insensitive for Twitter Typeahead?\n",
      "Membase can someone explain the idea behind their technology\n",
      "Struts 2 + Dojo + Datetimepicker\n",
      "Cannot retrieve data from find query\n",
      "How long are resources used (file descriptor and memory) for Java temporary files (jar_cache####.tmp)?\n",
      "how to pass a variable in WHERE IN clause of oracle sql?\n",
      "How can I transform the coordinates of a Shapefile?\n",
      "Mapping result of aggregate query to hibernate object\n",
      "Drawing Application how to save drawing in android phone memory\n",
      "Error while using npm install -g generator-jhipster\n",
      "Get abs path from the currently edited file in Eclipse\n",
      "Post form data to foreign aspx form\n",
      "Logging in Azure web jobs\n",
      "MTM with (automated) CodedUITest test-cases developed in VS2013 issues\n",
      "How to print contents of an HTML element in MacGap?\n",
      "ASP.NET Control not available in CodeBehind\n",
      "How can I disable the IIViewDeck functionality momentarily?\n",
      "Why would I create a struct with only a `PhantomData<()>` member?\n",
      "Accessing masterpage properties from child pages in ASP.net VB\n",
      "Bash read inside a loop reading a file\n",
      "Random number between 1 and 20 excluding numbers already picked\n",
      "Wordpress Navigation Label in Browser tab\n",
      "Taking control of the soundCard with JAVA\n",
      "STL containers and large amounts of data\n",
      "Colour in Backorder Products dropdown based on stock in WooCommerce\n",
      "Richfaces - <rich:autocomplete> not showing suggestions\n",
      "How to select and enlarge a Masterpane in Zedgraph\n",
      "react-native android publishing keystore\n",
      "What is a good way to find a specific value in an XML document using C#?\n",
      "Can i make my own Singleton Stateless Bean with EJB 3.0?\n",
      "How does Google App Engine precompile Java?\n",
      "Using dispose() method instead of close() method to a form\n",
      "Spring Oauth2 \"Full authentication is required to access this resource\" with valid access token\n",
      "Why is my code only displaying incorrect even if I have the right answer?\n",
      "Forcing function in ODE\n",
      "Get sum of column on last row, good practice?\n",
      "Simple Karma + Typescript configuration - Reference Error: x is not defined\n",
      "Error building Player because scripts have compile errors in the editor\n",
      "Property Testers do not load despite forcePluginActivation. For popup menu enablement\n",
      "Javascript regex to match last word regardless of specials characters\n",
      "Develop multilangual system\n",
      "angular-mock testing in Karma+Mocha can't find module\n",
      "How to append an element inside object using a common way\n",
      "Generate random \"dark\" colours only in Java\n",
      "Access element in list using indexes stored in another list\n",
      "How to correctly use setq in elisp?\n",
      "iOS - Today Extension 'show more' & 'show less' state incorrect. Collapsed says 'show less' - requiring multipule presses to fix\n",
      "how to get the position of the cursor in an editable div\n",
      "flickering of image in SWT\n",
      "Completely random identifier of a given length\n",
      "Angular 2 Render Flat List from Hierarchal Data\n",
      "Java RMI threads on client-side are executing sequentially or concurrently when calling the same remote object?\n",
      "Variable-size buffer for receiving UDP packets\n",
      "CreateSqlQuery on entity with formula property\n",
      "Datepicker TIMESTAMP divide by 100\n",
      "how to print out the whole table using anonymous block in pl sql?\n",
      "In Sentora i will need to integrate a clamav Module\n",
      "how do i set a value of a multiple <select> tag from the database\n",
      "show decimal value in C#\n",
      "Javascript: how to affect other element when hovering?\n",
      "Creating new popup window when click button\n",
      "How to Depict Either/Or Inheritance in a UML diagram?\n",
      "Ajax post success data: Can you separate results?\n",
      "Document.getElementById() not available for ChromiumWebBrowser in visual studio\n",
      "target of assignment expands to non-language object\n",
      "How do I configure distributed transactions for NServiceBus\n",
      "How to combine an array of png images like layers using C#?\n",
      "yii2 gii CRUD Generator error - Class 'Message' does not exist or has syntax error\n",
      "Get values of checkbox to other page\n",
      "Session on subdomains still not working\n",
      "How can I turn off host name resolutios?\n",
      "syntax error, unexpected end-of-input\n",
      "Erlang: \"extending\" an existing module with new functions\n",
      "tcl string replacement\n",
      "how to access directory in plesk (control panel )\n",
      "Minimizing the sum of a special function over a list\n",
      "VB.Net & Access - Set two foreign keys, that refer to the same table/field\n",
      "Memory Monitoring Tool for Erlang Threads\n",
      "Disable Spring Boot Security @Secured at runtime\n",
      "Join two tables on the same date or closest date (before or after)\n",
      "Power Point viewer asp.net mvc\n",
      "Swift: Get an element from a tuple\n",
      "images rotation to the right\n",
      "Can I access the visual voicemail files on the iphone thru the SDK?\n",
      "Proximity alert for locations saved at server\n",
      "Tableviewcell button\n",
      "Angularjs select does not mark matching model as selected\n",
      "How can i use id to do action on an object of an android using Robotium tool?\n",
      "How can i pass a value to constructors of collection of instances at runtime with simple injector?\n",
      "Large binary shifts in 8086 assembly?\n",
      "Directshow, format type change filter\n",
      "How to open model window on option selection?\n",
      "Update value in sqlite iphone sdk\n",
      "Installing ADT plugin in Eclipse for Android development\n",
      "Automating a ContextMenu with Watin\n",
      "how to evaluate the performance of any cryptographic algorithm (say elliptic curve)?\n",
      "Nth-child Selector with Prototype\n",
      "Difference in performance of compiled accelerate code ran from ghci and shell\n",
      "Database design for email messaging system\n",
      "Java SE Development Kit 8u20 Install Options\n",
      "Reading a file in chunks\n",
      "Twitter style Web Application based on LAMP, Symfony2, Backbone : possible?\n",
      "Regexp for C preprocessor command\n",
      "Cmposition, I dont quite get this?\n",
      "CakePHP form submits the \"array\"\n",
      "Store feed forward network in mongodb\n",
      "bash read strings and output as one key and multiple values\n",
      "http client in python fails to recive\n",
      "Dynamic languages - which one should I choose?\n",
      "How to start an IntentService from a WakefulBroadcastReceiver\n",
      "C++: Converting wstring to unsigned char\n",
      "How to make echo interpret backslash escapes and not print a trailing newline?\n",
      "AngularJS.. http.get working, when splitting into its own service module its no longer working\n",
      "How do I determine the number of elements in an array reference?\n",
      "\"TypeError: 'NoneType' object is not iterable\" on what should be a list\n",
      "Replace random image on website\n",
      "Rotation matrix between two camera system\n",
      "Animated border which wraps around\n",
      "cron job not picking up oracle query result\n",
      "Formview and MS-Ajax UpdatePanel\n",
      "How to update data with TreeStore or TreeEditor component?\n",
      "Get kwargs passed to url_for in Flask view\n",
      "how to reload the template when working with enlive without restar\n",
      "Thread-safe get (accessor method)\n",
      "How can I tell if \"inline\" worked?\n",
      "calling some logic before user is logged out using spring security?\n",
      "Java pattern to find two groups of two letters in `ABC`\n",
      "MYSQL distincs entry of two columns even when switched\n",
      "How Antlr creates tokens\n",
      "Play Framework 2.4 - Java - Http header and cached response\n",
      "List of Strings in a Grails domain class\n",
      "Insert into MongoDB via Node.js\n",
      "How to stop or pause Pandora and Spotify\n",
      "Oracle Function: Replicate wm_concat\n",
      "Return user to previous page after login (Rails)\n",
      "Custom Layout Manager using predefined and developer-defined child view(s)\n",
      "In Ruby, how do I specify a file in another directory as an input?\n",
      "Unable to read View Bag value from controller to view\n",
      "Parameters on time stamps in oracle sql developer\n",
      "measuring the time to load a page - Python\n",
      "Set height of child to height of parent\n",
      "How can I find the element that caused another element to fire the focusout event?\n",
      "How to get the latest created table in MySQL?\n",
      "Better way to reference $scope in AngularJS\n",
      "Sharing data between Elastic Beanstalk web and worker tiers\n",
      "iOS certificate pinning with Swift and NSURLSession\n",
      "Sharing UDP Data across apps (background/foreground or Split screen multitasking) in iOS\n",
      "iPhone: Facebook logout feature does not working\n",
      "AutoHotKey. Hotstrings and Auto-replace not working in Visual Studio 2008\n",
      "Issue setting up Android SDK - Failed to Start Emulator\n",
      "Why is the dismissable alert not being dismissed?\n",
      "Error while executing change data capture sql query\n",
      "multiple queries - Route.get() requires callback functions but got a [object Undefined]\n",
      "How to attach custom element to shadow DOM in html web components in a secure way?\n",
      "flash javascript don't work (Second try)\n",
      "How do EGit versions map to Git versions\n",
      "How the ftp uploads works in PHP?\n",
      "Sql XML to Delphi\n",
      "Lookup table with the query with arbitrary length without using a for loop in R\n",
      "C# XML deserialization XmlAttribute\n",
      "CSS, JQuery: Animated transform from 3 lines menu to cross\n",
      "Can m2e install an external jar file? Or do I need to install the maven command line tool?\n",
      "Does gSOAP RESTful implementation require the definition of a WSDL\n",
      "Automatically create an appointment in Outlook using message content\n",
      "JSoup error: java.lang.IllegalArgumentException\n",
      "Add Button to CMS_Page_Edit via Observer\n",
      "How to do an XOR of the binary forms of all integer items in a list\n",
      "How to add regularization in Scipy Linear Programming (Non-negative Least-Squares)\n",
      "Highlight backgroung colors of some words in HTML Document in java\n",
      "Is there a way to retrieve process stats using Perl or Python?\n",
      "Excel NamedRange.Find Method with Regex pattern match in C#\n",
      "cmake error when configuring\n",
      "How to set first column to a constant value of an empty np.zeros numPy matrix?\n",
      "Eclipse Plugin - get Launch Configurations Tree List in a Dialog.\n",
      "What are the RESTful best practices on defining a query parameter with an or condition?\n",
      "Extracting text from the input field - using Webdriver\n",
      "One <hr> tag is working but not the other in Firefox. Why is that?\n",
      "ajax request xml from php\n",
      "Embedded Java server using Grizzly: How do you enable http2\n",
      "Finding Minimum Completion Time of Scheduled Tasks with Topological Sort\n",
      "How to set jQuery draggable min/max-left and min/max-right\n",
      "semantic-ui modal size keeps extending to the height of a page\n",
      "Is there any direct git command to push changes to another branch\n",
      "How and is it worth to integrate Java Webapp + drools + Guvnor?\n",
      "How to debug Error Messsage in Odoo\n",
      "calculate differences between two numbers\n",
      "Data constructor in template haskell\n",
      "Tying composer.json to a specific Laravel 5 SHA\n",
      "Django 1.7.1 requires a Default value for field - but no entry is in database. Why?\n",
      "addEntriesFromDictionary: a true copy method?\n",
      "Spring Boot OAuth2 with encrypted JWT access token\n",
      "Wrap text if it is longer than max_characters\n",
      "iptables: Duplicating/Forwarding ports\n",
      "Multiple custom fields stored as meta_keys, how to connect with the post?\n",
      "Android GridView crashes or is very slow on some devices (Samsung Galaxy S4, S3)\n",
      "HTML/CSS: Input element weird indent ie7\n",
      "What exactly does Double mean in java?\n",
      "Most effective ways to extract Android Cursor (sqlite) into an array to be used in AlertDialog.Builder?\n",
      "jenkins can not find android SDK\n",
      "Can I open a new window and change the DOM of the calling window in JavaScript?\n",
      "dynamically Change Itemized overlay draw circle using seek bar progress\n",
      "How do I fix django.db.utils.IntegrityError: duplicate key value violates unique constraint?\n",
      "Inno Setup not creating registry entry in Software/Microsoft/Windows/CurrentVersion/Uninstall\n",
      "build from hadoop source code in centos\n",
      "C# LinqToSql SubmitChanges() does not update, even though PK is set\n",
      "How to read utf16 text file to string in golang?\n",
      "Objective C ePub framework\n",
      "Reducer output to different files based on keys\n",
      "Is it possible for a Chrome Extension to get a user's full browsing history?\n",
      "Variable Number of Nested For Loops\n",
      "Ordered http request parameters\n",
      "Testing the Oracle to_date function\n",
      "Getting the error of POST method from another PHP file\n",
      "Multiple selection of worksheets into one workbook copy paste of content into one main sheet\n",
      "Why do I keep getting \"developer inactive\" errors when calling the Beats Music API?\n",
      "My select command doesn't work\n",
      "node js read files line by line\n",
      "PHPStorm/Webstorm increase memory to more than 512MB\n",
      "Want to open google.com at specific location and make it specific window size\n",
      "Database not updating new row\n",
      "Spring suite tools start error - spring boot\n",
      "Slider in codenameone\n",
      "Issue with $(this) and toggle() multiple classes\n",
      "How to load file from dir using Racket?\n",
      "Removing quotation mark using javascript does not remove single quotation marks\n",
      "Firebase Android ChildEventListener Triggered onChildRemoved() before onChildAdded() When new data added\n",
      "Python. Error using animation.FuncAnimation\n",
      "How to make inline comments in Org-mode?\n",
      "Find years with distinct digits - CCC 2013\n",
      "Identify customer visits occurring after a given time period in mysql\n",
      "Finding the distinct count from a cassandra column using Tableau\n",
      "Prism : Change the active view\n",
      "Get Color from int\n",
      "Dynamic subversion repos via subdomains (in Apache)\n",
      "How to multithread my for loop in Python\n",
      "How to get recycler view list item count using Espresso\n",
      "How to PIVOT and calculating column average\n",
      "Fastest way to separate the digits of an int into an array in .NET?\n",
      "Escaping special characters in SphinxSE\n",
      "Importing sqlite file into r\n",
      "Sort order of related products not working in Magento 1.6\n",
      "Display 404 not found template for 'slugs' when publication returns empty cursor - Meteor - iron-router\n",
      "Is there a way to tell if an object has implemented ToString explicitly in c#\n",
      "VFS: file-max limit 1231582 reached\n",
      "Play 2.2 EssentialAction With Futures\n",
      "AppBarLayout / CollapsingToolbarLayout expands indefinitely\n",
      "how to deselect all Radio Button in Radio ButtonGroup on button click in flash as3?\n",
      "numpy array creating with a sequence\n",
      "Sed: Matching words with any permutation of two characters\n",
      "Make Child element appear outside of parent\n",
      "MobilePin createuserwizard doesn't work?\n",
      "Fit Image in canvas using WPF\n",
      "Adding a fontawesome icon with border into form input\n",
      "finding pixel location of Listview item seems to return wrong value\n",
      "sails 0.9.8 not work, when created controller and lift it\n",
      "Larave File not found at path but it does exist\n",
      "RequiredFieldValidator causes validation on Server even if validator is disabled(CausesValidation=\"false\")\n",
      "Retrieving HTML content from a page requiring authentication using PHP\n",
      "How to generate linked-axis in matplotlib\n",
      "Print % sign with string formatting\n",
      "How to calculate the dimensions of the monitor in PyQt4/Windows/Linux?\n",
      "VBA Outlook 2010 retrieving information from Active Directory\n",
      "Modifying bootstrap thumbnails\n",
      "ASP.Net: What's keeping old AppDomains alive?\n",
      "A library uses the same package as this project after importing Facebook SDK\n",
      "Unable to run compiled .classes from the command line\n",
      "Is it possible to partially decode and update JSON? (go)\n",
      "How to use Apache-Commons DBCP with EclipseLink JPA and Tomcat 7.x\n",
      "How to do batch geocoding using google-maps-services-java\n",
      "Inserting an img into a text field (html, css)\n",
      "NoClassDefFoundError during Tomcat graceful shutdown\n",
      "Indesign (IDML file) Automation using HTML5 and Javascript\n",
      "Writing to the ObjectOutputStream and getting rubbish back\n",
      "How do I stop md-cards from stretching images to full vertical height?\n",
      "SQL, missing end, but why?\n",
      "SED - Search two pattern in a line and insert few word at the end of the line if pattern match is found\n",
      "How to configure & run multiple websites with respective databases with single Laravel code instance\n",
      "three.js CanvasRenderer - setting initial color for object together with transparency textures\n",
      "IHTMLDocument2 - click button inside iframe\n",
      "Resource 1 works, 2 doesn't\n",
      "how to show an image in an image field by a button click event in c# asp.net\n",
      "How to use this for killing array of threads?\n",
      "MVC scaffolding does not support Entity Framework 6 or later\n",
      "Parse error using Remotipart\n",
      "JAVA JAX-WS Deployment (JAVA Eclipse EE IDE)\n",
      "kaminari and order_by\n",
      "multisampling and fragment shader\n",
      "C program- change char order in sentence\n",
      "How to reload an IFrame every x seconds?\n",
      "EF6 table per hierarchy, with unique index on derived property\n",
      "Shell Script to add extension on file and directory\n",
      "Absolute beginners guide to working with audio in C/C++?\n",
      "Extract part of string\n",
      "stopping toast android in other actvity\n",
      "Client-side SSL not working with AWS API Gateway\n",
      "Top Left Menu Bar Is Frozen when Main Window Shows Up\n",
      "Category Axis Label Alignment for Multi Series bar chart in JAsper\n",
      "Invalid Label - jQuery Ajax/Json request\n",
      "Optimizing Haskell Recursive Lists\n",
      "Symfony3: Service not able to get arguments\n",
      "Reverse Geocoding not displaying info window on markers when clicked\n",
      "How to restrict background click in Ionic confirmation popup\n",
      "how to use CSPARQL-ReadyToGoPack-0.9 in a SBT project\n",
      "How to sort UTF-8 lines in Vim?\n",
      "How to handle NotFoundException elegantly in Neo4j 2.0?\n",
      "Download multiple files simultaneously with PHP - Forking, Sockets\n",
      "Submit form on one server, process it and then post results to another domain\n",
      "Flyway Mysql multiline comment directive not parsed\n",
      "Non-Blocking File Reads\n",
      "ORACLE sql dynamic variables in stored procedure\n",
      "nested ngFor with two data classes in angular2\n",
      "Crossplatform webview in Qt5.6\n",
      "Set the default encoding to UTF-8 for all JSPs without using @page directives\n",
      "XSLT creating a table with varying amount of columns\n",
      "how to send email with powershell\n",
      "Asynchronous method using .Result\n",
      "Is JENKINS Extensible Choice Parameter compatible with linux?\n",
      "Starting Speech Recognition with CreateProcess() in C++\n",
      "How do I animate adding subviews?\n",
      "How can I change the default font for a Jekyll website\n",
      "Impossible to compile Fortran code with include statement\n",
      "Lazy loading images in Vue/Laravel\n",
      "Web API read header value in controller constructor\n",
      "Android wear WearableListView ImageView selector\n",
      "Function pack() returns 0\n",
      "Is it possible to have Firebase authentication via Facebook in a Phonegap App?\n",
      "PHP Export MySQL to CSV - Results showing HTML\n",
      "How to detect language preference in Laravel 5\n",
      "VB WebBrowser click button\n",
      "Reports using java collections\n",
      "How to write all files Contain in the subfolders and in the folders in to a .txt file\n",
      "Checking negative values from Google Forms\n",
      "Libgdx reading json array values\n",
      "Custom Buddypress Notification on Post Save\n",
      "UITableView with UITextField - keep the data even after user scrolls\n",
      "Visual Studio 2015 Update 1 automatically checks in files\n",
      "Mobilefirst Failed synchronizing application from the administration service\n",
      "Cannot execute for loop in vue.js\n",
      "how to prevent duplicate item\n",
      "Java Apache CLI OptionBuilder not working as Builder pattern\n",
      "What's a proper way to turn off genymotion emulator?\n",
      "Jade select field populating data\n",
      "Why is ' 2' > '10'?\n",
      "Mysql dump comments directives and simple comments\n",
      "Cropping library not working on Nexus S\n",
      "Create a segue and attach it between two view controllers through Swift?\n",
      "Function to search recursively for patterns in vim\n",
      "Integrating wordpress and laravel user management\n",
      "Behaviour after takePicture() different on different devices/Android versions\n",
      "Exporting Plone content: how to get the tarball created by quintagroup.transmogrifier.writer\n",
      "Cassandra to Hive using Spark\n",
      "Ruby on Rails :before_filter => :only_when_user_is_logged_in\n",
      "How can I integrate Jacoco reports with SonarQube without using maven?\n",
      "Can I use NSPredicate as key in a NSDictionary\n",
      "Proxy Authentication Failed error\n",
      "Could someone explain how to use the UpdateManager in TideSDK 1.3.1 Beta?\n",
      "Properties - how to avoid code repetition\n",
      "Pause/resume video recording using AVCaptureMovieFileOutput\n",
      "Swift enum recursive associated value\n",
      "How to grep particular string occurring multiple times\n",
      "Hover map area sprite with jquery\n",
      "Spark `LiveListenerBus` Exception is freaking me out\n",
      "how to use pyplot.arrow or patches.Arrow in matplotlib?\n",
      "Apache on Windows and Fiddler\n",
      "how to pass the variable from api gateway to the url of another service running on EC2\n",
      "Open link when doubleclicking on table row with jQuery\n",
      "Wget span host only for images/stylesheets/javascript but not links\n",
      "I am trying to show data using api . but data is not showing in custom listView . list is empty\n",
      "Graphing sbt's incremental compilation logic\n",
      "how to get functionality of Long Press gesture in ios ver below 3.2\n",
      "Change priority headings for a task with the api\n",
      "Get values on a row based on two or more rows in Excel\n",
      "Is using Silverlight a hindrance for Startups?\n",
      "spotify session callback get_audio_buffer_stats\n",
      "talend - specify jndi as datasource\n",
      "Long data load time in Matlab\n",
      "how can i change column width in base to content with vb.net and bootstrap?\n",
      "Alternative to Microsoft.Practices.EnterpriseLibrary.Data\n",
      "How to facet.pivot with spring-data-solr\n",
      "Check empty output from fish function\n",
      "pysolr update document with error\n",
      "How to retrieve same column twice with different values of other column in same table\n",
      "Updated: NodeJS - connect-keycloak middleware empty response error\n",
      "Accordion open when page loads\n",
      "Activity doesn't refresh after associated Broadcast Receiver's onReceive gets called.\n",
      "How do you detect DOCTYPE (Transitional or Strict) server-side in ASP.NET?\n",
      "Firefox 9.0.1 Broke Internal Wiki Layout\n",
      "onchange function in dropDownList yii2\n",
      "play mp3 without default player\n",
      "Convert SVG Data to SVG File that can be uploaded\n",
      "Folder Picker for MS Word\n",
      "Can't hide or close form after switching to another form\n",
      "How to ShellCode in linux with x64 processor.\n",
      "How to set a specific timezone for windows CE By C#\n",
      "Vagrant enters aborted state during apt-get update\n",
      "attempting to make enter button 'clickable'\n",
      "ImageMagick Convert not generating correct color\n",
      "Mybatis select with nested objects\n",
      "My css height auto doesn't work\n",
      "D3 AngularJs Force Directed Graph\n",
      "I want to add 30 days to mysql date row\n",
      "How I can use FlexyPool with HikariCPFactory?\n",
      "Wix installer: Verify that you have sufficient privileges to start system services\n",
      "r, ts - error in stl, series has less than two periods (erroneous?)\n",
      "typo3 - Adding content to the footer\n",
      "Knockout re render template with new data model on change event of dropdown menu\n",
      "@ManyToMany relation not save\n",
      "Downsampling of fMRI image with FSL\n",
      "How to use Android AutoCompleteTextView on Xamarin.Forms\n",
      "Why fstream::tellg() return value is enlarged by the number of newlines in the input text file, when file is formated for Windows (\\r\\n)?\n",
      "Determine If Two Points Are Near\n",
      "clicking logo on home page breaks navigation menu on mobile site\n",
      "Use Iframe to embed csv and allow user to search from it\n",
      "Install Chrome extension through windows registry\n",
      "Display message on success does not work\n",
      "jQuery masked input - format date as m/d/yyyy or m/dd/yyyy or mm/dd/yyyy or mm/d/yyyy\n",
      "How to change spring session (redis) cookie name?\n",
      "Any tool to suggest unit reference automatically for Delphi 2010?\n",
      "Why does my method return a null password?\n",
      "SQL Script - manipulate value based on previous non zero value\n",
      "rotate image shows \"Out of memory\" exception\n",
      "count button clicks\n",
      "Joomla Custom Compoment Dev Env : Hot Deployment\n",
      "Nexus 5 not showing on connected devices\n",
      "How work the method TrueForAll? C# LINQ\n",
      "PHP - Simplest Way to Post & Display\n",
      "Update Temp Table with Group By\n",
      "How to use Parse Push with Cordova, Appcelerator, etc\n",
      "AS3 bitmapdata send to server picture is small in upperleft corner\n",
      "How to set the Z order index for adorner in WPF\n",
      "php microseconds\n",
      "Creating a global database connection on an mdi form\n",
      "Uncaught ReferenceError: React is not defined\n",
      "VBA search column for strings and copy row to new worksheet\n",
      "How can I record a test using Espresso without doing a clean install?\n",
      "How can I char array in reverse order?\n",
      "What kind of SCTP support is there on various Windows versions?\n",
      "Saving changes to an EC2 instance without having to register an AMI each time?\n",
      "Auto run Jetty on boot\n",
      "How To Cache jQuery Template In Backbone View via Ajax?\n",
      "Does this C++ static analysis rule make sense as is?\n",
      "Same Ripple drawable(effect) appearing differently on ListView and RecyclerView\n",
      "R ggplot2 assigning colours to a factor\n",
      "Verifying a method was called without using IoC\n",
      "What is 'seg cs' in bootsect.s\n",
      "setTimeout keeps firing\n",
      "Formatting the way a string is entered into my database\n",
      "Creating Jenkins Job using python API\n",
      "python create single thread to do one task then quit\n",
      "z order in issue in ConstraintLayout Android\n",
      "Can I derive from a class that can only be created by a \"factory\"?\n",
      "PHP OOP :: passing session key between classes\n",
      "ASP.NET MVC 3, SQL Server\n",
      "Recreating or deleting google services json\n",
      "Probe problem when writing a I2C device driver\n",
      "Jersey produce duplicate log messages\n",
      "Exit / stop Array2D.initBased early\n",
      "how to set array of date to fireDate in local notification at a time\n",
      "alternative to async: false ajax\n",
      "Oracle: how to get percent of total by a query?\n",
      "How to match the recursive pattern `a(?R)b` including another string e.g. \"test{aaabbb}\"? (Regex)\n",
      "How to disable GestureListener?\n",
      "How to specify Code Style settings in a Qt Creator `.pro.shared` file?\n",
      "cal extension template modification with .tmpl\n",
      "Getting started with Groovy/Grails?\n",
      "Opening a Ruby program's source file in the default editor\n",
      "How can I pass an array of Guid via Web API?\n",
      "Backbone-Relational find or load?\n",
      "what's the best way to format an xml string in ruby?\n",
      "Partial classes in Google Closure?\n",
      "Add a repository in AccountController\n",
      "Wikipedia API Autocomplete with Json\n",
      "Apache Pig: unable to run my own pig.jar and pig-withouthadoop.jar\n",
      "Optimizing list comprehension to find pairs of co-prime numbers\n",
      "kivy access child id\n",
      "Stucture values not staying, values changed to -858993460\n",
      "Set toolbar title\n",
      "How to add a row to a table using swt\n",
      "jQuery ui selectmenu vertical position offset (relatively to buttons in this line)\n",
      "SSIS : Warning: Failed to decrypt an encrypted XML node\n",
      "gps not getting user location\n",
      "Exporting a simple model with texture from Blender to three.js\n",
      "Postman - Required MultipartFile parameter is not present - Spring, Java\n",
      "Prevent akka actor from restarting child actor\n",
      "UITableView not loaded\n",
      "NTFS permission with modify date\n",
      "QTreeView - how to tell if a drag/drop event is a reorder or a move between parents?\n",
      "Prevent XUL notificationBox from closing when button is hit\n",
      "Code not working. Notification that should go off once a day\n",
      "Android Action Bar Button does not show up\n",
      "$.widget is not a function\n",
      "jquery hide not taking parameter\n",
      "How can i use a one form/table for multiple MVC's?\n",
      "MSTest: execution order of tests within the same TestClass\n",
      "How to call jQuery function in HTML returned by AJAX\n",
      "OAuth2 security considerations for client_id\n",
      "Google Compute Instance 100% CPU Utilisation\n",
      "Incompatible block pointer type when returning array?\n",
      "Calling a REST api with an encrypted PEM client certificate\n",
      "Select all objects in a list\n",
      "Drag and insert div into another div\n",
      "How to prevent firefox from scrolling to the bottom of the page when a large popup is opened\n",
      "How to handle ((List<string>)Session.Add(\"\")\n",
      "mysql inserting into 2 tables at once that have primary key and foreign key\n",
      "What's the right way to remove multiple items from a QTableWidget?\n",
      "When MSTest fails in TestInitialize, why doesn't TestCleanup get executed?\n",
      "PHP CodeIgniter application not opening any page except default controller\n",
      "Parsing JSON data without quotes with jQuery\n",
      "Rewrite url in .htaccess\n",
      "I/O error(socket error): [Errno 111] Connection refused\n",
      "Git Error; RPC failed; result=22, HTTP code = 401\n",
      "TFS 2010 - Set the State field to a certain value\n",
      "ActionScript 3.0 How to create ProgressEvent instances in for loop with multiple files loaded from XML\n",
      "how can i extract my query to find average\n",
      "C# Windows Service - Default Arguments on Install\n",
      "Upload large files with node js\n",
      "Changing table headers in cakephp\n",
      "hello world with JMS on Glassfish\n",
      "Countdown timer using DateTime.Parse without defined date\n",
      "Images in the 'drawable' folder are resized automatically?\n",
      "Find files with the same size and dellete all duplicates except the one has the shortest name using shell script\n",
      "Writing Rules both in Firebase and in your Code\n",
      "Search for words with specific starts and endings\n",
      "Install Neo4j 3.0+ as a windows service\n",
      "PHP convert 2 digit year to a 4 digit year\n",
      "JSDoc auto-complete documentation in Eclipse is not working for Class.create()\n",
      "Split a infix String to an array of String in java\n",
      "Folder permissions in Azure web sites\n",
      "Only have separators between UITableViewCells\n",
      "Uncaught Syntax error, unrecognized expression: [object Object]\n",
      "Need htaccess redirection\n",
      "How to create this bootstrap carousel of iframes?\n",
      "Doctrine2 - Get entity ID before flush\n",
      "Xquery help sorted parent child relationship\n",
      "How To Load Separate Pages In Android Gridview While Clicking Blocks or Items?\n",
      "kineticjs rect fillText\n",
      "is a query string with a / in it valid?\n",
      "How to convert the BYTEARRAYS to NSString in objective -c\n",
      "why is std::chrono::duration based on seconds\n",
      "WCF REST Client Exception\n",
      "Using UIBinder to create a Widget to go into a Dialog\n",
      "OneDrive for Business :\"invalid_request\",\"error_description\":\"AADSTS90014: The request body must contain the following parameter: 'grant_type\n",
      "Are the any options for interfacing with the command prompt process from a .NET application other than the standard IO?\n",
      "Adding data in the database using microsoft access and OleDb in C#\n",
      "jQuery Ajax header not being passed\n",
      "AngularJS: Multiple views with routing without losing scope\n",
      "BackboneJS How to merge collections\n",
      "Specflow :Could not load file or assembly TechTalk.SpecFlow, Version=2.2.0.0\n",
      "Max byte calculated by System.Runtime.InteropServices.Marshal.SizeOf()\n",
      "How can my application retrieve custom fields from a DocuSign transaction?\n",
      "add active state to button in a button group\n",
      "How to define clear range for pixel color\n",
      "Roslyn VisualBasic.ScriptEngine doesnt recognize hostObject written on C#\n",
      "Neither BindingResult nor plain target object for bean name 'categoryOptions' available as request attribute\n",
      "How to change Wicket behaviour on Page Expired\n",
      "PHPUnit code coverage show 0% coverage\n",
      "How to prove code correctness lemmas with the \"undefined\" constant\n",
      "Visual Studio has insufficient privileges to debug this process. To debug this process, Visual Studio must be run as an administrator\n",
      "WebApi EntitySetController using composite keys\n",
      "How do I set up an OpenGL project using XCode 4.2 in C++?\n",
      "Initialize static NSString at class level\n",
      "Rich Text Editor inside Flux Form\n",
      "Setting $PATH in xampp osx\n",
      "How to extract data from html using PHP\n",
      "How to get Current location using MapModule?\n",
      "Excel VBA Syntax Errors & Compiling Issues\n",
      "How to read Logback configuration file from path outside the war file?\n",
      "jQuery ajax not getting every div elements\n",
      "TCP Socket on JAVA - Any byte >= 128 is received as 65533\n",
      "SqlBulkCopy keeps on throwing connection forcibly closed exception\n",
      "Error sending to the following VALID addresses Jenkins\n",
      "How to determine if a text has balanced delimiters?\n",
      "How to flick through a deck of cards?\n",
      "Selecting in SQLite Database Android\n",
      "TSQL merge Incorrect syntax near ','\n",
      "Building Pocketsphinx On Android on Windows\n",
      "Add background image in a div without empty space between div and footer\n",
      "Include github project into wordpress plugin\n",
      "django multivaluefield & multiwidget - compress and/or decompress not working\n",
      "Android : Can i call my onresume() inside onpause().?\n",
      "How to fit picture to absolute positioning modal window?\n",
      "Redirect URL to PHP only if file does not exist with Nginx\n",
      "Laravel 4 Exception: NotFoundHttpException\n",
      "How To Start Using Kostache?\n",
      "Assigned access application exits when Ctrl + Alt + Delete is pressed.\n",
      "Circular dependency error when running migrations in Django 1.7c2\n",
      "JavaFX setOnShown fires before window is visible\n",
      "Flash Develop - Publishing\n",
      "I want to use the variable I declared somewhere else but I cannot (simple sql query)\n",
      "buttons are not displayed\n",
      "Prevent Twitter responsive layout from collapsing when width < 320px\n",
      "Show azure cost analysis data using Azure billing API/SDK\n",
      "find the field names from a search query\n",
      "OAuth 2.0 OpenID Connect Loopback and Keycloak\n",
      "Windows Phone: How to retrieve the same photo from media library between application instances\n",
      "Symfony2: determine if a controller is called from a development environment or from a production environment\n",
      "When UITableView is fully reloaded\n",
      "http.post(url, postData, options) does not set header\n",
      "JSON stringify outputs empty object for not empty object\n",
      "Display.syncExec not working inside Callable\n",
      "XPath to first occurrence of element with text length >= 200 characters\n",
      "Unable to push a docker image to local OpenShift Origin registry\n",
      "SlideDown() using JavaScript not working as intended\n",
      "Threading.Tasks Dispose meaning issue\n",
      "VAL() function in JavaScript\n",
      "Using php to send form to my email..Having an issue with 405 Not Allowed when form is submitted\n",
      "Netty closeFuture().sync().channel(); blocks rest api\n",
      "How to check if a specific button exists in Scrapy?\n",
      "Remove logs from ORMLite Android\n",
      "Language detection API/Library\n",
      "Should I make 1 form for each upvote button or 1 form for all the buttons?\n",
      "Eclipse GAE JDO 3.0\n",
      "django-cms editors and HTML data attribute cleaned up\n",
      "Xcode build error clang failed\n",
      "setTimeout from a web worker\n",
      "C# Populating a listview from a List\n",
      "Javascript not working in django inline formset using urlify.js\n",
      "PHP multi cURL performance worse than sequential file_get_contents\n",
      "Converting PHP Contact Form to SMTP\n",
      "How do I prevent the original method being called when mocking a class with PHPUnit?\n",
      "Ensure footer will stick to bottom of page and flex with content\n",
      "How to share files from any path using a FileProvider?\n",
      "R: How to build sum of arrays third dimension containing NAs and returning a list?\n",
      "Speeding up a strangely slow Rcpp function\n",
      "How to create a service that sends/receives UDP broadcasts on multiple interfaces\n",
      "Can someone tell me how to replace the following javascript code with a loop?\n",
      "UIImageView layer border issue\n",
      "COM object created by CComObject::CreateInstance not destroyed when pointer goes out of scope\n",
      "Run 2 sql query with 1 query for save query result as .csv format\n",
      "AWS Elastic Beanstalk Vs EC2 Container Service (ECS) - Docker\n",
      "Connect to remote MongoDB instance from ASP.NET\n",
      "Copying files with unicode names\n",
      "ASP.NET Web application doesn't unload AppDomains after deploy\n",
      "Getting YouTube livestream URL\n",
      "Can't use ToString() in LINQ to Entities query\n",
      "list comprehension to create list and for no-data value feed default value\n",
      "JSX element type 'XXX' does not have any construct or call signatures\n",
      "Subroutine unexpectedly ends when a Workbook is closed\n",
      "Creating a result set (using a select statement ) within a loop\n",
      "Laravel 4.2 - Environment detection - homestead.yaml vs. start.php\n",
      "Deploy a shell script with Ruby gem and install in bin directory\n",
      "Change a string into an int\n",
      "How do I stop a MySQL decimal field from being rounded?\n",
      "Respecting argparse's privacy, vs. usability\n",
      "Very simple Web Service in Python\n",
      "Emoji and UIWebView in iOS 5\n",
      "Getting IOError: [Errno Invalid number of channels] -9998 when using mic with PyAudio on Raspberry Pi\n",
      "Mono on Mac OS X - Parallel HTTP Downloads limited to 2\n",
      "Delete files, directories and buckets in amazon s3 java\n",
      "Android: Saving form data on a swipe rather than from a button\n",
      "No description or item name on PayPal Payment Received email\n",
      "Code igniter with data mapper giving in valid json\n",
      "Where can I find official / canonical documentation for using JavaScript with \"classic\" ASP?\n",
      "BroadcastReceiver isn't working\n",
      "Array compare and count which has similar values and which not\n",
      "How to cancel 'viewWillAppear' after UIImagePickerController is dismissed\n",
      "In Scala, is it possible to write a script which refers to another script\n",
      "after reload page IE is not retaining it's scroll position\n",
      "SpringBoot multiple authentication adapter\n",
      "SMTP Contact Form blank screen on Submit\n",
      "Destroy all sessions but one\n",
      "C# WIndows CE Compact Framework 2.0 Set System Timezone\n",
      "Appropriate representation of a 2D game board in Clojure\n",
      "Ionic emulate ios shows black screen\n",
      "How update APi with AngularJS?\n",
      "Javascript based redirect: will it hurt SEO?\n",
      "What is the difference between these two SOAP requests?\n",
      "Microsoft Access Report - How to cycle through all pages of a report in print view?\n",
      "What does Actor[akka:\\\\play\\deadLetters].tell() mean in a New Relic's trace of a Play Framework 2.0 web transaction?\n",
      "JRuby 1.7.0 will not install bundler given plenty of memory\n",
      "solr multiple tokenizers for query\n",
      "Is it possible to pass an EJS variable to an Angular ng-repeat filter?\n",
      "How To Read Data using Ip Address\n",
      "SSIS XML Decryption Message\n",
      "Detecting selection change on a UITextView?\n",
      "Different CSS background-image depending on month and year\n",
      "What's the equivalent averageifs for standard deviation?\n",
      "Segmentation faults using f2py\n",
      "Eclipse: Most useful refactorings\n"
     ]
    }
   ],
   "source": [
    "for line in validation[0]:\n",
    "    print (line)"
   ]
  },
  {
   "cell_type": "markdown",
   "metadata": {},
   "source": [
    "Now transform all the questions from the validation set:"
   ]
  },
  {
   "cell_type": "code",
   "execution_count": 38,
   "metadata": {
    "collapsed": true
   },
   "outputs": [],
   "source": [
    "prepared_validation = []\n",
    "for line in validation:\n",
    "    \n",
    "    ######### YOUR CODE HERE #############\n",
    "    for text in line:\n",
    "        prepared_validation.append(text_prepare(text))"
   ]
  },
  {
   "cell_type": "markdown",
   "metadata": {},
   "source": [
    "Let's evaluate the approach again after the preparation:"
   ]
  },
  {
   "cell_type": "code",
   "execution_count": 41,
   "metadata": {
    "collapsed": true
   },
   "outputs": [],
   "source": [
    "wv_prepared_ranking = []\n",
    "for line in prepared_validation:\n",
    "    q, *ex = line\n",
    "    ranks = rank_candidates(q, ex, wv_embeddings)\n",
    "    wv_prepared_ranking.append([r[0] for r in ranks].index(0) + 1)"
   ]
  },
  {
   "cell_type": "code",
   "execution_count": null,
   "metadata": {
    "collapsed": true
   },
   "outputs": [],
   "source": [
    "# wv_prepared_ranking = []\n",
    "# total_len = 0\n",
    "\n",
    "# for line in prepared_validation:\n",
    "#     total_len =+ 1\n",
    "#     if total_len % 100  ==  0:\n",
    "#         progress = total_len / len(prepared_validation) * 100\n",
    "#         print(\"{} is {}% complete.\".format('This code is', round(progress, 1)))\n",
    "        \n",
    "#     q, *ex = line\n",
    "#     ranks = rank_candidates(q, ex, wv_embeddings)\n",
    "#     wv_prepared_ranking.append([r[0] for r in ranks].index(0) + 1)"
   ]
  },
  {
   "cell_type": "code",
   "execution_count": 42,
   "metadata": {},
   "outputs": [
    {
     "name": "stdout",
     "output_type": "stream",
     "text": [
      "DCG@   1: 0.015 | Hits@   1: 0.015\n",
      "DCG@   5: 0.056 | Hits@   5: 0.101\n",
      "DCG@  10: 0.097 | Hits@  10: 0.230\n",
      "DCG@ 100: 0.262 | Hits@ 100: 0.999\n",
      "DCG@ 500: 0.262 | Hits@ 500: 1.000\n",
      "DCG@1000: 0.262 | Hits@1000: 1.000\n"
     ]
    }
   ],
   "source": [
    "for k in [1, 5, 10, 100, 500, 1000]:\n",
    "    print(\"DCG@%4d: %.3f | Hits@%4d: %.3f\" % (k, dcg_score(wv_prepared_ranking, k), \n",
    "                                              k, hits_count(wv_prepared_ranking, k)))"
   ]
  },
  {
   "cell_type": "markdown",
   "metadata": {},
   "source": [
    "Now, prepare also train and test data, because you will need it in the future:"
   ]
  },
  {
   "cell_type": "code",
   "execution_count": 43,
   "metadata": {
    "collapsed": true
   },
   "outputs": [],
   "source": [
    "def prepare_file(in_, out_):\n",
    "    out = open(out_, 'w')\n",
    "    for line in open(in_, encoding='utf8'):\n",
    "        line = line.strip().split('\\t')\n",
    "        new_line = [text_prepare(q) for q in line]\n",
    "        print(*new_line, sep='\\t', file=out)\n",
    "    out.close()"
   ]
  },
  {
   "cell_type": "code",
   "execution_count": 44,
   "metadata": {
    "collapsed": true
   },
   "outputs": [],
   "source": [
    "######################################\n",
    "######### YOUR CODE HERE #############\n",
    "######################################\n",
    "prepare_file('data/train.tsv','data/train_prepare.tsv')\n",
    "prepare_file('data/test.tsv','data/test_prepare.tsv')"
   ]
  },
  {
   "cell_type": "markdown",
   "metadata": {},
   "source": [
    "**Task 4 (W2VTokenizedRanks).** For each question from prepared *test.tsv* submit the ranks of the candidates to earn the points. The calculations should take about 3-5 minutes. Pay attention that the function *rank_candidates* returns a ranking, while in this case you should find a position in this ranking. Ranks should start with 1."
   ]
  },
  {
   "cell_type": "code",
   "execution_count": 45,
   "metadata": {
    "collapsed": true
   },
   "outputs": [],
   "source": [
    "from util import matrix_to_string"
   ]
  },
  {
   "cell_type": "code",
   "execution_count": 46,
   "metadata": {},
   "outputs": [
    {
     "name": "stdout",
     "output_type": "stream",
     "text": [
      "Current answer for task W2VTokenizedRanks is: 95\t94\t7\t9\t64\t36\t31\t93\t23\t100\t99\t20\t60\t6\t97\t48\t70\t37\t41\t96\t29\t56\t2\t65\t68\t44\t27\t25\t57\t62\t11\t87\t50\t66\t7...\n"
     ]
    }
   ],
   "source": [
    "w2v_ranks_results = []\n",
    "prepared_test_data = 'data/test_prepare.tsv' ######### YOUR CODE HERE #############\n",
    "\n",
    "for line in open(prepared_test_data):\n",
    "    q, *ex = line.strip().split('\\t')\n",
    "    ranks = rank_candidates(q, ex, wv_embeddings, 300)\n",
    "    ranked_candidates = [r[0] for r in ranks]\n",
    "    w2v_ranks_results.append([ranked_candidates.index(i) + 1 for i in range(len(ranked_candidates))])\n",
    "    \n",
    "grader.submit_tag('W2VTokenizedRanks', matrix_to_string(w2v_ranks_results))"
   ]
  },
  {
   "cell_type": "markdown",
   "metadata": {},
   "source": [
    "## Advanced solution: StarSpace embeddings\n",
    "\n",
    "Now you are ready to train your own word embeddings! In particular, you need to train embeddings specially for our task of duplicates detection. Unfortunately, StarSpace cannot be run on Windows and we recommend to use provided\n",
    "[docker container](https://github.com/hse-aml/natural-language-processing/blob/master/Docker-tutorial.md) or other alternatives. Don't delete results of this task because you will need it in the final project.\n",
    "\n",
    "### How it works and what's the main difference with word2vec?\n",
    "The main point in this section is that StarSpace can be trained specifically for some tasks. In contrast to word2vec model, which tries to train similar embeddings for words in similar contexts, StarSpace uses embeddings for the whole sentence (just as a sum of embeddings of words and phrases). Despite the fact that in both cases we get word embeddings as a result of the training, StarSpace embeddings are trained using some supervised data, e.g. a set of similar sentence pairs, and thus they can better suit the task.\n",
    "\n",
    "In our case, StarSpace should use two types of sentence pairs for training: \"positive\" and \"negative\". \"Positive\" examples are extracted from the train sample (duplicates, high similarity) and the \"negative\" examples are generated randomly (low similarity assumed). \n",
    "\n",
    "### How to choose the best params for the model?\n",
    "Normally, you would start with some default choice and then run extensive experiments to compare different strategies. However, we have some recommendations ready for you to save your time:\n",
    "- Be careful with choosing the suitable training mode. In this task we want to explore texts similarity which corresponds to *trainMode = 3*.\n",
    "- Use adagrad optimization (parameter *adagrad = true*).\n",
    "- Set the length of phrase equal to 1 (parameter *ngrams*), because we need embeddings only for words.\n",
    "- Don't use a large number of *epochs* (we think that 5 should be enough).\n",
    "- Try dimension *dim* equal to 100.\n",
    "- To compare embeddings usually *cosine* *similarity* is used.\n",
    "- Set *minCount* greater than 1 (for example, 2) if you don't want to get embeddings for extremely rare words.\n",
    "- Parameter *verbose = true* could show you the progress of the training process.\n",
    "- Set parameter *fileFormat* equals *labelDoc*.\n",
    "- Parameter *negSearchLimit* is responsible for a number of negative examples which is used during the training. We think that 10 will be enought for this task.\n",
    "- To increase a speed of training we recommend to set *learning rate* to 0.05."
   ]
  },
  {
   "cell_type": "markdown",
   "metadata": {},
   "source": [
    "Train StarSpace embeddings for unigrams on the train dataset. You don't need to change the format of the input data. Just don't forget to use prepared version of the training data. \n",
    "\n",
    "If you follow the instruction, the training process will take about 1 hour. The size of the embeddings' dictionary should be approximately 100 000 (number of lines in the result file). If you got significantly more than this number, try to check all the instructions above."
   ]
  },
  {
   "cell_type": "code",
   "execution_count": 47,
   "metadata": {},
   "outputs": [
    {
     "name": "stdout",
     "output_type": "stream",
     "text": [
      "Arguments: \n",
      "lr: 0.05\n",
      "dim: 100\n",
      "epoch: 5\n",
      "maxTrainTime: 8640000\n",
      "saveEveryEpoch: 0\n",
      "loss: hinge\n",
      "margin: 0.05\n",
      "similarity: cosine\n",
      "maxNegSamples: 10\n",
      "negSearchLimit: 10\n",
      "thread: 10\n",
      "minCount: 2\n",
      "minCountLabel: 1\n",
      "label: __label__\n",
      "ngrams: 1\n",
      "bucket: 2000000\n",
      "adagrad: 1\n",
      "trainMode: 3\n",
      "fileFormat: labelDoc\n",
      "normalizeText: 0\n",
      "dropoutLHS: 0\n",
      "dropoutRHS: 0\n",
      "Start to initialize starspace model.\n",
      "Build dict from input file : data/train_prepare.tsv\n",
      "Read 12M words\n",
      "Number of words in dictionary:  95058\n",
      "Number of labels in dictionary: 0\n",
      "Loading data from file : data/train_prepare.tsv\n",
      "Total number of examples loaded : 999740\n",
      "Initialized model weights. Model size :\n",
      "matrix : 95058 100\n",
      "Training epoch 0: 0.05 0.01\n",
      "Epoch: 87.3%  lr: 0.041121  loss: 0.009434  eta: 0h37m  tot: 0h7m51s  (17.5%)%  lr: 0.050000  loss: 0.078095  eta: 1h18m  tot: 0h0m2s  (0.1%)1.2%  lr: 0.049940  loss: 0.046565  eta: 0h52m  tot: 0h0m7s  (0.2%)1.5%  lr: 0.049920  loss: 0.042179  eta: 0h56m  tot: 0h0m10s  (0.3%)1.7%  lr: 0.049910  loss: 0.040409  eta: 0h57m  tot: 0h0m12s  (0.3%)2.2%  lr: 0.049850  loss: 0.037072  eta: 0h59m  tot: 0h0m15s  (0.4%)2.7%  lr: 0.049790  loss: 0.034629  eta: 1h3m  tot: 0h0m20s  (0.5%)2.8%  lr: 0.049790  loss: 0.033967  eta: 1h2m  tot: 0h0m21s  (0.6%)3.6%  lr: 0.049700  loss: 0.031085  eta: 1h3m  tot: 0h0m28s  (0.7%)5.0%  lr: 0.049520  loss: 0.027990  eta: 1h6m  tot: 0h0m40s  (1.0%)5.4%  lr: 0.049469  loss: 0.027087  eta: 1h6m  tot: 0h0m43s  (1.1%)6.6%  lr: 0.049379  loss: 0.025216  eta: 1h7m  tot: 0h0m54s  (1.3%)6.8%  lr: 0.049309  loss: 0.024778  eta: 1h8m  tot: 0h0m57s  (1.4%)10.5%  lr: 0.048929  loss: 0.020852  eta: 0h59m  tot: 0h1m17s  (2.1%)11.7%  lr: 0.048829  loss: 0.020083  eta: 0h58m  tot: 0h1m24s  (2.3%)11.8%  lr: 0.048809  loss: 0.020008  eta: 0h58m  tot: 0h1m25s  (2.4%)12.4%  lr: 0.048769  loss: 0.019613  eta: 0h58m  tot: 0h1m29s  (2.5%)13.0%  lr: 0.048699  loss: 0.019328  eta: 0h59m  tot: 0h1m34s  (2.6%)h1m36s  (2.6%)13.7%  lr: 0.048659  loss: 0.018953  eta: 0h58m  tot: 0h1m39s  (2.7%)14.6%  lr: 0.048569  loss: 0.018517  eta: 0h57m  tot: 0h1m44s  (2.9%)14.9%  lr: 0.048509  loss: 0.018308  eta: 0h57m  tot: 0h1m47s  (3.0%)15.6%  lr: 0.048458  loss: 0.018003  eta: 0h56m  tot: 0h1m49s  (3.1%)16.9%  lr: 0.048258  loss: 0.017430  eta: 0h54m  tot: 0h1m54s  (3.4%)%  lr: 0.048158  loss: 0.017077  eta: 0h53m  tot: 0h1m58s  (3.5%)18.8%  lr: 0.048078  loss: 0.016650  eta: 0h51m  tot: 0h2m2s  (3.8%)21.2%  lr: 0.047918  loss: 0.015830  eta: 0h49m  tot: 0h2m10s  (4.2%)22.9%  lr: 0.047738  loss: 0.015465  eta: 0h47m  tot: 0h2m16s  (4.6%)0h47m  tot: 0h2m27s  (4.9%)%  lr: 0.047447  loss: 0.014747  eta: 0h50m  tot: 0h2m45s  (5.1%)26.0%  lr: 0.047427  loss: 0.014675  eta: 0h51m  tot: 0h2m49s  (5.2%)26.1%  lr: 0.047417  loss: 0.014666  eta: 0h51m  tot: 0h2m49s  (5.2%)26.5%  lr: 0.047387  loss: 0.014581  eta: 0h51m  tot: 0h2m52s  (5.3%)26.6%  lr: 0.047367  loss: 0.014523  eta: 0h51m  tot: 0h2m54s  (5.3%)26.8%  lr: 0.047357  loss: 0.014485  eta: 0h51m  tot: 0h2m55s  (5.4%)27.7%  lr: 0.047267  loss: 0.014302  eta: 0h51m  tot: 0h3m3s  (5.5%)28.5%  lr: 0.047197  loss: 0.014139  eta: 0h51m  tot: 0h3m6s  (5.7%)29.5%  lr: 0.047127  loss: 0.014006  eta: 0h52m  tot: 0h3m17s  (5.9%)29.7%  lr: 0.047107  loss: 0.013984  eta: 0h52m  tot: 0h3m19s  (5.9%)m  tot: 0h3m26s  (6.1%)33.2%  lr: 0.046907  loss: 0.013447  eta: 0h51m  tot: 0h3m41s  (6.6%)33.6%  lr: 0.046877  loss: 0.013388  eta: 0h51m  tot: 0h3m44s  (6.7%)34.5%  lr: 0.046757  loss: 0.013267  eta: 0h51m  tot: 0h3m48s  (6.9%)34.7%  lr: 0.046717  loss: 0.013240  eta: 0h51m  tot: 0h3m49s  (6.9%)35.6%  lr: 0.046597  loss: 0.013118  eta: 0h50m  tot: 0h3m52s  (7.1%)36.4%  lr: 0.046527  loss: 0.013034  eta: 0h49m  tot: 0h3m55s  (7.3%)36.9%  lr: 0.046477  loss: 0.012945  eta: 0h49m  tot: 0h3m57s  (7.4%)37.2%  lr: 0.046447  loss: 0.012900  eta: 0h49m  tot: 0h3m58s  (7.4%)38.9%  lr: 0.046216  loss: 0.012732  eta: 0h48m  tot: 0h4m4s  (7.8%)39.8%  lr: 0.046206  loss: 0.012606  eta: 0h47m  tot: 0h4m7s  (8.0%)40.1%  lr: 0.046176  loss: 0.012580  eta: 0h47m  tot: 0h4m9s  (8.0%)40.2%  lr: 0.046156  loss: 0.012561  eta: 0h47m  tot: 0h4m9s  (8.0%)40.7%  lr: 0.046116  loss: 0.012503  eta: 0h47m  tot: 0h4m11s  (8.1%)40.8%  lr: 0.046096  loss: 0.012494  eta: 0h47m  tot: 0h4m11s  (8.2%)41.6%  lr: 0.045996  loss: 0.012385  eta: 0h46m  tot: 0h4m14s  (8.3%)43.2%  lr: 0.045826  loss: 0.012242  eta: 0h46m  tot: 0h4m23s  (8.6%)43.5%  lr: 0.045816  loss: 0.012223  eta: 0h46m  tot: 0h4m25s  (8.7%)43.6%  lr: 0.045816  loss: 0.012210  eta: 0h46m  tot: 0h4m26s  (8.7%)43.8%  lr: 0.045766  loss: 0.012179  eta: 0h46m  tot: 0h4m27s  (8.8%)m29s  (8.8%)44.6%  lr: 0.045676  loss: 0.012102  eta: 0h46m  tot: 0h4m31s  (8.9%)%)46.3%  lr: 0.045526  loss: 0.011914  eta: 0h46m  tot: 0h4m42s  (9.3%)46.6%  lr: 0.045496  loss: 0.011883  eta: 0h46m  tot: 0h4m44s  (9.3%)47.0%  lr: 0.045456  loss: 0.011856  eta: 0h45m  tot: 0h4m46s  (9.4%)48.8%  lr: 0.045185  loss: 0.011724  eta: 0h45m  tot: 0h4m53s  (9.8%) (9.8%)49.6%  lr: 0.045145  loss: 0.011661  eta: 0h44m  tot: 0h4m56s  (9.9%)49.9%  lr: 0.045085  loss: 0.011639  eta: 0h44m  tot: 0h4m57s  (10.0%)50.3%  lr: 0.045065  loss: 0.011591  eta: 0h44m  tot: 0h4m59s  (10.1%)50.8%  lr: 0.045045  loss: 0.011565  eta: 0h44m  tot: 0h5m1s  (10.2%)51.2%  lr: 0.044995  loss: 0.011525  eta: 0h44m  tot: 0h5m2s  (10.2%)51.7%  lr: 0.044945  loss: 0.011484  eta: 0h43m  tot: 0h5m4s  (10.3%)53.0%  lr: 0.044815  loss: 0.011399  eta: 0h43m  tot: 0h5m9s  (10.6%)54.4%  lr: 0.044685  loss: 0.011283  eta: 0h42m  tot: 0h5m15s  (10.9%)s  (11.1%)55.8%  lr: 0.044535  loss: 0.011188  eta: 0h42m  tot: 0h5m21s  (11.2%)56.1%  lr: 0.044505  loss: 0.011160  eta: 0h42m  tot: 0h5m22s  (11.2%)56.2%  lr: 0.044505  loss: 0.011157  eta: 0h42m  tot: 0h5m23s  (11.2%)56.3%  lr: 0.044505  loss: 0.011154  eta: 0h42m  tot: 0h5m23s  (11.3%)56.8%  lr: 0.044475  loss: 0.011118  eta: 0h42m  tot: 0h5m26s  (11.4%)57.1%  lr: 0.044445  loss: 0.011118  eta: 0h42m  tot: 0h5m28s  (11.4%)  tot: 0h5m36s  (11.7%)59.4%  lr: 0.044164  loss: 0.010950  eta: 0h42m  tot: 0h5m43s  (11.9%)60.1%  lr: 0.044104  loss: 0.010902  eta: 0h42m  tot: 0h5m47s  (12.0%)60.2%  lr: 0.044104  loss: 0.010899  eta: 0h42m  tot: 0h5m47s  (12.0%)60.6%  lr: 0.044064  loss: 0.010874  eta: 0h42m  tot: 0h5m49s  (12.1%)60.9%  lr: 0.044004  loss: 0.010842  eta: 0h42m  tot: 0h5m52s  (12.2%)61.0%  lr: 0.043994  loss: 0.010834  eta: 0h42m  tot: 0h5m52s  (12.2%)61.4%  lr: 0.043884  loss: 0.010807  eta: 0h42m  tot: 0h5m54s  (12.3%)62.2%  lr: 0.043844  loss: 0.010763  eta: 0h41m  tot: 0h5m57s  (12.4%)12.5%)63.4%  lr: 0.043684  loss: 0.010670  eta: 0h41m  tot: 0h6m2s  (12.7%)65.2%  lr: 0.043504  loss: 0.010548  eta: 0h41m  tot: 0h6m9s  (13.0%)65.3%  lr: 0.043494  loss: 0.010538  eta: 0h40m  tot: 0h6m9s  (13.1%)66.0%  lr: 0.043424  loss: 0.010488  eta: 0h40m  tot: 0h6m12s  (13.2%)66.1%  lr: 0.043393  loss: 0.010479  eta: 0h40m  tot: 0h6m12s  (13.2%)66.5%  lr: 0.043333  loss: 0.010451  eta: 0h40m  tot: 0h6m14s  (13.3%)66.9%  lr: 0.043293  loss: 0.010429  eta: 0h40m  tot: 0h6m15s  (13.4%)68.1%  lr: 0.043173  loss: 0.010361  eta: 0h40m  tot: 0h6m19s  (13.6%)68.8%  lr: 0.043113  loss: 0.010315  eta: 0h39m  tot: 0h6m22s  (13.8%)69.2%  lr: 0.043073  loss: 0.010284  eta: 0h39m  tot: 0h6m24s  (13.8%)69.4%  lr: 0.043063  loss: 0.010270  eta: 0h39m  tot: 0h6m25s  (13.9%)70.7%  lr: 0.042963  loss: 0.010217  eta: 0h39m  tot: 0h6m33s  (14.1%)70.8%  lr: 0.042963  loss: 0.010212  eta: 0h39m  tot: 0h6m33s  (14.2%)72.0%  lr: 0.042843  loss: 0.010145  eta: 0h39m  tot: 0h6m41s  (14.4%)72.5%  lr: 0.042793  loss: 0.010125  eta: 0h39m  tot: 0h6m43s  (14.5%)72.7%  lr: 0.042773  loss: 0.010110  eta: 0h39m  tot: 0h6m45s  (14.5%)73.5%  lr: 0.042663  loss: 0.010065  eta: 0h39m  tot: 0h6m49s  (14.7%)73.5%  lr: 0.042663  loss: 0.010059  eta: 0h39m  tot: 0h6m50s  (14.7%)73.6%  lr: 0.042663  loss: 0.010062  eta: 0h39m  tot: 0h6m50s  (14.7%)74.4%  lr: 0.042603  loss: 0.010015  eta: 0h39m  tot: 0h6m55s  (14.9%)76.2%  lr: 0.042483  loss: 0.009938  eta: 0h39m  tot: 0h7m2s  (15.2%)%  lr: 0.042272  loss: 0.009866  eta: 0h38m  tot: 0h7m8s  (15.5%)78.0%  lr: 0.042242  loss: 0.009856  eta: 0h38m  tot: 0h7m9s  (15.6%)78.4%  lr: 0.042202  loss: 0.009840  eta: 0h38m  tot: 0h7m10s  (15.7%)78.8%  lr: 0.042162  loss: 0.009811  eta: 0h38m  tot: 0h7m12s  (15.8%)%  lr: 0.042012  loss: 0.009764  eta: 0h38m  tot: 0h7m17s  (16.0%)80.8%  lr: 0.041952  loss: 0.009734  eta: 0h37m  tot: 0h7m19s  (16.2%)81.4%  lr: 0.041932  loss: 0.009707  eta: 0h37m  tot: 0h7m21s  (16.3%)81.7%  lr: 0.041882  loss: 0.009692  eta: 0h37m  tot: 0h7m22s  (16.3%)84.1%  lr: 0.041572  loss: 0.009564  eta: 0h37m  tot: 0h7m31s  (16.8%)85.0%  lr: 0.041432  loss: 0.009533  eta: 0h37m  tot: 0h7m37s  (17.0%)86.1%  lr: 0.041281  loss: 0.009487  eta: 0h37m  tot: 0h7m43s  (17.2%)86.9%  lr: 0.041171  loss: 0.009454  eta: 0h37m  tot: 0h7m48s  (17.4%)87.4%  lr: 0.041111  loss: 0.009438  eta: 0h37m  tot: 0h7m51s  (17.5%)Epoch: 100.0%  lr: 0.040000  loss: 0.008965  eta: 0h34m  tot: 0h8m39s  (20.0%)8.0%  lr: 0.041081  loss: 0.009417  eta: 0h37m  tot: 0h7m54s  (17.6%)88.1%  lr: 0.041051  loss: 0.009409  eta: 0h37m  tot: 0h7m55s  (17.6%)%  lr: 0.041021  loss: 0.009396  eta: 0h37m  tot: 0h7m57s  (17.7%)88.5%  lr: 0.041011  loss: 0.009394  eta: 0h37m  tot: 0h7m57s  (17.7%)88.9%  lr: 0.040961  loss: 0.009382  eta: 0h36m  tot: 0h7m59s  (17.8%)90.0%  lr: 0.040801  loss: 0.009331  eta: 0h36m  tot: 0h8m5s  (18.0%)91.1%  lr: 0.040671  loss: 0.009294  eta: 0h36m  tot: 0h8m9s  (18.2%)91.6%  lr: 0.040611  loss: 0.009282  eta: 0h36m  tot: 0h8m11s  (18.3%)92.0%  lr: 0.040581  loss: 0.009266  eta: 0h36m  tot: 0h8m13s  (18.4%)94.7%  lr: 0.040351  loss: 0.009170  eta: 0h35m  tot: 0h8m22s  (18.9%)95.3%  lr: 0.040280  loss: 0.009142  eta: 0h35m  tot: 0h8m25s  (19.1%)96.1%  lr: 0.040210  loss: 0.009106  eta: 0h35m  tot: 0h8m28s  (19.2%)96.3%  lr: 0.040190  loss: 0.009104  eta: 0h35m  tot: 0h8m28s  (19.3%)96.6%  lr: 0.040170  loss: 0.009092  eta: 0h35m  tot: 0h8m29s  (19.3%)98.5%  lr: 0.040000  loss: 0.009014  eta: 0h35m  tot: 0h8m36s  (19.7%)\n",
      " ---+++                Epoch    0 Train error : 0.00893553 +++--- ���\n",
      "Training epoch 1: 0.04 0.01\n",
      "Epoch: 92.6%  lr: 0.030561  loss: 0.002716  eta: 0h23m  tot: 0h15m41s  (38.5%)1%  lr: 0.039870  loss: 0.002339  eta: 0h37m  tot: 0h8m45s  (20.2%)1.3%  lr: 0.039850  loss: 0.002370  eta: 0h38m  tot: 0h8m46s  (20.3%)0.002398  eta: 0h38m  tot: 0h8m47s  (20.3%)1.6%  lr: 0.039810  loss: 0.002398  eta: 0h38m  tot: 0h8m48s  (20.3%)2.0%  lr: 0.039800  loss: 0.002391  eta: 0h38m  tot: 0h8m50s  (20.4%)2.1%  lr: 0.039790  loss: 0.002412  eta: 0h38m  tot: 0h8m51s  (20.4%)4.0%  lr: 0.039570  loss: 0.002463  eta: 0h38m  tot: 0h9m2s  (20.8%)%  lr: 0.039550  loss: 0.002505  eta: 0h37m  tot: 0h9m4s  (20.9%)5.0%  lr: 0.039530  loss: 0.002411  eta: 0h35m  tot: 0h9m6s  (21.0%)7.3%  lr: 0.039329  loss: 0.002625  eta: 0h31m  tot: 0h9m14s  (21.5%)%  lr: 0.039189  loss: 0.002641  eta: 0h30m  tot: 0h9m18s  (21.7%)8.7%  lr: 0.039159  loss: 0.002640  eta: 0h30m  tot: 0h9m19s  (21.7%)8.8%  lr: 0.039159  loss: 0.002625  eta: 0h30m  tot: 0h9m20s  (21.8%)9.7%  lr: 0.039059  loss: 0.002603  eta: 0h29m  tot: 0h9m23s  (21.9%)10.8%  lr: 0.038969  loss: 0.002698  eta: 0h28m  tot: 0h9m27s  (22.2%)11.0%  lr: 0.038939  loss: 0.002704  eta: 0h28m  tot: 0h9m27s  (22.2%)11.2%  lr: 0.038919  loss: 0.002691  eta: 0h28m  tot: 0h9m28s  (22.2%)%  lr: 0.038889  loss: 0.002676  eta: 0h28m  tot: 0h9m29s  (22.3%)12.1%  lr: 0.038839  loss: 0.002680  eta: 0h27m  tot: 0h9m31s  (22.4%)12.7%  lr: 0.038739  loss: 0.002713  eta: 0h27m  tot: 0h9m33s  (22.5%)13.0%  lr: 0.038719  loss: 0.002704  eta: 0h27m  tot: 0h9m34s  (22.6%)13.7%  lr: 0.038649  loss: 0.002732  eta: 0h27m  tot: 0h9m37s  (22.7%)14.1%  lr: 0.038589  loss: 0.002742  eta: 0h27m  tot: 0h9m39s  (22.8%)14.2%  lr: 0.038589  loss: 0.002741  eta: 0h27m  tot: 0h9m40s  (22.8%)15.4%  lr: 0.038499  loss: 0.002787  eta: 0h28m  tot: 0h9m47s  (23.1%)15.7%  lr: 0.038458  loss: 0.002785  eta: 0h28m  tot: 0h9m48s  (23.1%)%  lr: 0.038458  loss: 0.002785  eta: 0h28m  tot: 0h9m49s  (23.2%)16.4%  lr: 0.038398  loss: 0.002781  eta: 0h29m  tot: 0h9m53s  (23.3%)16.5%  lr: 0.038398  loss: 0.002776  eta: 0h29m  tot: 0h9m54s  (23.3%)19.2%  lr: 0.038108  loss: 0.002752  eta: 0h28m  tot: 0h10m6s  (23.8%)19.4%  lr: 0.038108  loss: 0.002742  eta: 0h28m  tot: 0h10m7s  (23.9%)19.7%  lr: 0.038078  loss: 0.002735  eta: 0h28m  tot: 0h10m8s  (23.9%)21.4%  lr: 0.037898  loss: 0.002711  eta: 0h28m  tot: 0h10m15s  (24.3%)22.1%  lr: 0.037798  loss: 0.002716  eta: 0h28m  tot: 0h10m17s  (24.4%)23.2%  lr: 0.037708  loss: 0.002701  eta: 0h27m  tot: 0h10m21s  (24.6%)%  lr: 0.037708  loss: 0.002699  eta: 0h27m  tot: 0h10m22s  (24.7%)24.7%)24.3%  lr: 0.037648  loss: 0.002743  eta: 0h27m  tot: 0h10m25s  (24.9%)25.6%  lr: 0.037538  loss: 0.002735  eta: 0h26m  tot: 0h10m29s  (25.1%)%  lr: 0.037347  loss: 0.002762  eta: 0h26m  tot: 0h10m34s  (25.3%)27.4%  lr: 0.037317  loss: 0.002765  eta: 0h26m  tot: 0h10m38s  (25.5%)27.9%  lr: 0.037267  loss: 0.002764  eta: 0h27m  tot: 0h10m42s  (25.6%)  lr: 0.037187  loss: 0.002781  eta: 0h27m  tot: 0h10m44s  (25.7%)28.4%  lr: 0.037187  loss: 0.002778  eta: 0h27m  tot: 0h10m46s  (25.7%)28.5%  lr: 0.037177  loss: 0.002773  eta: 0h27m  tot: 0h10m46s  (25.7%)29.3%  lr: 0.037037  loss: 0.002757  eta: 0h27m  tot: 0h10m51s  (25.9%)29.8%  lr: 0.036987  loss: 0.002756  eta: 0h28m  tot: 0h10m54s  (26.0%)29.9%  lr: 0.036987  loss: 0.002759  eta: 0h28m  tot: 0h10m55s  (26.0%)31.7%  lr: 0.036837  loss: 0.002793  eta: 0h28m  tot: 0h11m5s  (26.3%)  eta: 0h28m  tot: 0h11m9s  (26.5%)33.1%  lr: 0.036627  loss: 0.002779  eta: 0h28m  tot: 0h11m12s  (26.6%)33.2%  lr: 0.036597  loss: 0.002774  eta: 0h28m  tot: 0h11m13s  (26.6%)33.4%  lr: 0.036577  loss: 0.002786  eta: 0h28m  tot: 0h11m13s  (26.7%)35.0%  lr: 0.036396  loss: 0.002783  eta: 0h27m  tot: 0h11m19s  (27.0%)40.1%  lr: 0.035826  loss: 0.002778  eta: 0h26m  tot: 0h11m37s  (28.0%)40.4%  lr: 0.035816  loss: 0.002769  eta: 0h26m  tot: 0h11m38s  (28.1%)42.3%  lr: 0.035636  loss: 0.002776  eta: 0h26m  tot: 0h11m45s  (28.5%)43.0%  lr: 0.035576  loss: 0.002768  eta: 0h26m  tot: 0h11m47s  (28.6%)0h25m  tot: 0h11m50s  (28.7%)h11m50s  (28.8%)  eta: 0h26m  tot: 0h12m3s  (29.2%)29.2%)46.3%  lr: 0.035285  loss: 0.002801  eta: 0h26m  tot: 0h12m6s  (29.3%)46.4%  lr: 0.035265  loss: 0.002799  eta: 0h26m  tot: 0h12m7s  (29.3%)47.5%  lr: 0.035185  loss: 0.002800  eta: 0h26m  tot: 0h12m15s  (29.5%)%  lr: 0.035155  loss: 0.002801  eta: 0h26m  tot: 0h12m17s  (29.6%)51.0%  lr: 0.034785  loss: 0.002795  eta: 0h26m  tot: 0h12m31s  (30.2%)51.5%  lr: 0.034745  loss: 0.002801  eta: 0h26m  tot: 0h12m33s  (30.3%)51.6%  lr: 0.034745  loss: 0.002800  eta: 0h26m  tot: 0h12m33s  (30.3%)%  lr: 0.034615  loss: 0.002793  eta: 0h26m  tot: 0h12m37s  (30.6%)53.7%  lr: 0.034495  loss: 0.002790  eta: 0h25m  tot: 0h12m40s  (30.7%)53.8%  lr: 0.034445  loss: 0.002788  eta: 0h25m  tot: 0h12m41s  (30.8%)54.0%  lr: 0.034425  loss: 0.002786  eta: 0h25m  tot: 0h12m42s  (30.8%)54.8%  lr: 0.034374  loss: 0.002792  eta: 0h25m  tot: 0h12m45s  (31.0%)56.0%  lr: 0.034314  loss: 0.002791  eta: 0h25m  tot: 0h12m53s  (31.2%)%  lr: 0.034304  loss: 0.002790  eta: 0h26m  tot: 0h12m55s  (31.2%)56.3%  lr: 0.034294  loss: 0.002791  eta: 0h26m  tot: 0h12m56s  (31.3%)%  lr: 0.034284  loss: 0.002789  eta: 0h26m  tot: 0h12m58s  (31.3%)56.6%  lr: 0.034274  loss: 0.002786  eta: 0h26m  tot: 0h13m0s  (31.3%)60.2%  lr: 0.033894  loss: 0.002793  eta: 0h26m  tot: 0h13m19s  (32.0%)26m  tot: 0h13m23s  (32.3%)61.5%  lr: 0.033734  loss: 0.002792  eta: 0h26m  tot: 0h13m23s  (32.3%)62.6%  lr: 0.033654  loss: 0.002787  eta: 0h25m  tot: 0h13m27s  (32.5%)63.9%  lr: 0.033464  loss: 0.002785  eta: 0h25m  tot: 0h13m32s  (32.8%)64.5%  lr: 0.033404  loss: 0.002780  eta: 0h25m  tot: 0h13m35s  (32.9%)65.3%  lr: 0.033353  loss: 0.002779  eta: 0h25m  tot: 0h13m37s  (33.1%)67.8%  lr: 0.033063  loss: 0.002766  eta: 0h25m  tot: 0h13m50s  (33.6%)68.6%  lr: 0.033013  loss: 0.002764  eta: 0h25m  tot: 0h13m55s  (33.7%)68.8%  lr: 0.033003  loss: 0.002766  eta: 0h25m  tot: 0h13m56s  (33.8%)70.5%  lr: 0.032813  loss: 0.002769  eta: 0h25m  tot: 0h14m6s  (34.1%)71.0%  lr: 0.032753  loss: 0.002772  eta: 0h25m  tot: 0h14m9s  (34.2%)71.7%  lr: 0.032663  loss: 0.002763  eta: 0h25m  tot: 0h14m11s  (34.3%)72.9%  lr: 0.032533  loss: 0.002766  eta: 0h25m  tot: 0h14m15s  (34.6%)74.1%  lr: 0.032423  loss: 0.002752  eta: 0h25m  tot: 0h14m20s  (34.8%)75.6%  lr: 0.032292  loss: 0.002748  eta: 0h24m  tot: 0h14m25s  (35.1%)75.7%  lr: 0.032282  loss: 0.002748  eta: 0h24m  tot: 0h14m25s  (35.1%)77.2%  lr: 0.032132  loss: 0.002745  eta: 0h24m  tot: 0h14m31s  (35.4%)79.3%  lr: 0.031852  loss: 0.002743  eta: 0h24m  tot: 0h14m40s  (35.9%)79.5%  lr: 0.031852  loss: 0.002742  eta: 0h24m  tot: 0h14m41s  (35.9%)79.8%  lr: 0.031832  loss: 0.002739  eta: 0h24m  tot: 0h14m43s  (36.0%)80.4%  lr: 0.031762  loss: 0.002738  eta: 0h24m  tot: 0h14m47s  (36.1%)80.5%  lr: 0.031752  loss: 0.002736  eta: 0h24m  tot: 0h14m47s  (36.1%)81.7%  lr: 0.031642  loss: 0.002737  eta: 0h24m  tot: 0h14m54s  (36.3%)81.9%  lr: 0.031622  loss: 0.002736  eta: 0h24m  tot: 0h14m56s  (36.4%)%)82.6%  lr: 0.031582  loss: 0.002733  eta: 0h24m  tot: 0h14m59s  (36.5%)83.0%  lr: 0.031532  loss: 0.002729  eta: 0h24m  tot: 0h15m2s  (36.6%)s  (36.7%)84.2%  lr: 0.031442  loss: 0.002727  eta: 0h24m  tot: 0h15m8s  (36.8%)85.2%  lr: 0.031372  loss: 0.002723  eta: 0h24m  tot: 0h15m12s  (37.0%)85.9%  lr: 0.031341  loss: 0.002718  eta: 0h24m  tot: 0h15m15s  (37.2%)87.0%  lr: 0.031201  loss: 0.002718  eta: 0h23m  tot: 0h15m18s  (37.4%)87.1%  lr: 0.031191  loss: 0.002721  eta: 0h23m  tot: 0h15m19s  (37.4%)88.0%  lr: 0.031111  loss: 0.002720  eta: 0h23m  tot: 0h15m22s  (37.6%)88.2%  lr: 0.031081  loss: 0.002718  eta: 0h23m  tot: 0h15m23s  (37.6%)%  lr: 0.031041  loss: 0.002719  eta: 0h23m  tot: 0h15m24s  (37.7%)88.8%  lr: 0.031011  loss: 0.002719  eta: 0h23m  tot: 0h15m25s  (37.8%)89.3%  lr: 0.030981  loss: 0.002715  eta: 0h23m  tot: 0h15m27s  (37.9%)90.1%  lr: 0.030851  loss: 0.002717  eta: 0h23m  tot: 0h15m30s  (38.0%)90.7%  lr: 0.030761  loss: 0.002720  eta: 0h23m  tot: 0h15m32s  (38.1%)90.8%  lr: 0.030741  loss: 0.002718  eta: 0h23m  tot: 0h15m33s  (38.2%)91.4%  lr: 0.030661  loss: 0.002719  eta: 0h23m  tot: 0h15m35s  (38.3%)  eta: 0h23m  tot: 0h15m38s  (38.4%)92.7%  lr: 0.030551  loss: 0.002714  eta: 0h23m  tot: 0h15m42s  (38.5%)Epoch: 100.0%  lr: 0.030000  loss: 0.002704  eta: 0h22m  tot: 0h16m11s  (40.0%)3.5%  lr: 0.030471  loss: 0.002720  eta: 0h23m  tot: 0h15m46s  (38.7%)94.7%  lr: 0.030371  loss: 0.002719  eta: 0h23m  tot: 0h15m53s  (38.9%)95.2%  lr: 0.030310  loss: 0.002715  eta: 0h23m  tot: 0h15m56s  (39.0%)96.4%  lr: 0.030210  loss: 0.002708  eta: 0h23m  tot: 0h16m1s  (39.3%)97.2%  lr: 0.030170  loss: 0.002709  eta: 0h23m  tot: 0h16m5s  (39.4%)97.4%  lr: 0.030140  loss: 0.002709  eta: 0h23m  tot: 0h16m5s  (39.5%)0h16m6s  (39.6%)\n",
      " ---+++                Epoch    1 Train error : 0.00268713 +++--- ���\n",
      "Training epoch 2: 0.03 0.01\n",
      "Epoch: 85.8%  lr: 0.021341  loss: 0.001889  eta: 0h16m  tot: 0h22m42s  (57.1%).0%  lr: 0.029910  loss: 0.001667  eta: 0h17m  tot: 0h16m18s  (40.4%)3.9%  lr: 0.029750  loss: 0.001846  eta: 0h18m  tot: 0h16m25s  (40.8%)4.1%  lr: 0.029730  loss: 0.001825  eta: 0h18m  tot: 0h16m27s  (40.8%)4.2%  lr: 0.029710  loss: 0.001817  eta: 0h18m  tot: 0h16m27s  (40.8%)4.7%  lr: 0.029690  loss: 0.001789  eta: 0h20m  tot: 0h16m30s  (40.9%)4.9%  lr: 0.029660  loss: 0.001766  eta: 0h20m  tot: 0h16m31s  (41.0%)5.4%  lr: 0.029650  loss: 0.001807  eta: 0h21m  tot: 0h16m34s  (41.1%)5.5%  lr: 0.029640  loss: 0.001784  eta: 0h21m  tot: 0h16m35s  (41.1%)5.9%  lr: 0.029600  loss: 0.001800  eta: 0h21m  tot: 0h16m37s  (41.2%)6.6%  lr: 0.029550  loss: 0.001847  eta: 0h22m  tot: 0h16m42s  (41.3%)8.5%  lr: 0.029359  loss: 0.001862  eta: 0h24m  tot: 0h16m53s  (41.7%)8.6%  lr: 0.029349  loss: 0.001838  eta: 0h24m  tot: 0h16m54s  (41.7%)9.4%  lr: 0.029269  loss: 0.001844  eta: 0h23m  tot: 0h16m57s  (41.9%)%  lr: 0.029239  loss: 0.001845  eta: 0h23m  tot: 0h16m59s  (42.0%)10.0%  lr: 0.029229  loss: 0.001833  eta: 0h23m  tot: 0h16m59s  (42.0%)11.8%  lr: 0.029049  loss: 0.001837  eta: 0h22m  tot: 0h17m6s  (42.4%)11.9%  lr: 0.029019  loss: 0.001839  eta: 0h22m  tot: 0h17m6s  (42.4%)12.8%  lr: 0.028929  loss: 0.001841  eta: 0h22m  tot: 0h17m10s  (42.6%)13.9%  lr: 0.028789  loss: 0.001824  eta: 0h21m  tot: 0h17m14s  (42.8%)14.3%  lr: 0.028689  loss: 0.001819  eta: 0h21m  tot: 0h17m16s  (42.9%)14.4%  lr: 0.028689  loss: 0.001822  eta: 0h21m  tot: 0h17m16s  (42.9%)15.6%  lr: 0.028489  loss: 0.001824  eta: 0h20m  tot: 0h17m20s  (43.1%)15.9%  lr: 0.028438  loss: 0.001815  eta: 0h20m  tot: 0h17m21s  (43.2%)16.7%  lr: 0.028368  loss: 0.001814  eta: 0h20m  tot: 0h17m24s  (43.3%) (43.5%)17.6%  lr: 0.028238  loss: 0.001836  eta: 0h20m  tot: 0h17m28s  (43.5%)%  lr: 0.028158  loss: 0.001858  eta: 0h20m  tot: 0h17m34s  (43.7%)18.7%  lr: 0.028158  loss: 0.001861  eta: 0h20m  tot: 0h17m35s  (43.7%)19.2%  lr: 0.028128  loss: 0.001862  eta: 0h21m  tot: 0h17m38s  (43.8%)43.9%)19.5%  lr: 0.028088  loss: 0.001864  eta: 0h21m  tot: 0h17m40s  (43.9%)19.8%  lr: 0.028088  loss: 0.001878  eta: 0h21m  tot: 0h17m42s  (44.0%)%  lr: 0.027968  loss: 0.001873  eta: 0h21m  tot: 0h17m48s  (44.2%)21.5%  lr: 0.027878  loss: 0.001856  eta: 0h21m  tot: 0h17m52s  (44.3%)24.1%  lr: 0.027638  loss: 0.001855  eta: 0h21m  tot: 0h18m3s  (44.8%)25.4%  lr: 0.027488  loss: 0.001871  eta: 0h21m  tot: 0h18m8s  (45.1%)25.7%  lr: 0.027468  loss: 0.001862  eta: 0h21m  tot: 0h18m9s  (45.1%)25.9%  lr: 0.027468  loss: 0.001860  eta: 0h21m  tot: 0h18m10s  (45.2%)26.8%  lr: 0.027407  loss: 0.001850  eta: 0h20m  tot: 0h18m13s  (45.4%)27.0%  lr: 0.027397  loss: 0.001846  eta: 0h20m  tot: 0h18m14s  (45.4%)27.5%  lr: 0.027347  loss: 0.001846  eta: 0h20m  tot: 0h18m16s  (45.5%)27.5%  lr: 0.027337  loss: 0.001845  eta: 0h20m  tot: 0h18m16s  (45.5%)18m17s  (45.6%)28.4%  lr: 0.027217  loss: 0.001843  eta: 0h20m  tot: 0h18m19s  (45.7%)28.6%  lr: 0.027187  loss: 0.001865  eta: 0h20m  tot: 0h18m20s  (45.7%)%  lr: 0.027107  loss: 0.001868  eta: 0h20m  tot: 0h18m21s  (45.8%)30.0%  lr: 0.027047  loss: 0.001899  eta: 0h19m  tot: 0h18m24s  (46.0%)%  lr: 0.026907  loss: 0.001891  eta: 0h20m  tot: 0h18m30s  (46.2%)31.5%  lr: 0.026787  loss: 0.001883  eta: 0h20m  tot: 0h18m33s  (46.3%)32.3%  lr: 0.026677  loss: 0.001881  eta: 0h20m  tot: 0h18m38s  (46.5%)33.0%  lr: 0.026617  loss: 0.001881  eta: 0h20m  tot: 0h18m43s  (46.6%)33.6%  lr: 0.026587  loss: 0.001877  eta: 0h20m  tot: 0h18m48s  (46.7%)34.7%  lr: 0.026467  loss: 0.001873  eta: 0h21m  tot: 0h18m59s  (46.9%)35.6%  lr: 0.026356  loss: 0.001885  eta: 0h21m  tot: 0h19m2s  (47.1%)35.8%  lr: 0.026316  loss: 0.001882  eta: 0h21m  tot: 0h19m4s  (47.2%)36.9%  lr: 0.026196  loss: 0.001893  eta: 0h21m  tot: 0h19m8s  (47.4%)37.0%  lr: 0.026186  loss: 0.001898  eta: 0h21m  tot: 0h19m9s  (47.4%)39.2%  lr: 0.025956  loss: 0.001897  eta: 0h20m  tot: 0h19m16s  (47.8%)39.7%  lr: 0.025926  loss: 0.001890  eta: 0h20m  tot: 0h19m18s  (47.9%)40.4%  lr: 0.025856  loss: 0.001877  eta: 0h20m  tot: 0h19m21s  (48.1%)41.2%  lr: 0.025776  loss: 0.001885  eta: 0h20m  tot: 0h19m25s  (48.2%)42.4%  lr: 0.025616  loss: 0.001884  eta: 0h20m  tot: 0h19m31s  (48.5%)43.8%  lr: 0.025496  loss: 0.001882  eta: 0h20m  tot: 0h19m39s  (48.8%)46.5%  lr: 0.025195  loss: 0.001888  eta: 0h19m  tot: 0h19m50s  (49.3%)46.6%  lr: 0.025175  loss: 0.001884  eta: 0h19m  tot: 0h19m51s  (49.3%)47.2%  lr: 0.025125  loss: 0.001880  eta: 0h19m  tot: 0h19m53s  (49.4%)47.5%  lr: 0.025085  loss: 0.001882  eta: 0h19m  tot: 0h19m54s  (49.5%)47.8%  lr: 0.025085  loss: 0.001880  eta: 0h19m  tot: 0h19m55s  (49.6%)47.9%  lr: 0.025065  loss: 0.001878  eta: 0h19m  tot: 0h19m55s  (49.6%)48.4%  lr: 0.025015  loss: 0.001877  eta: 0h19m  tot: 0h19m57s  (49.7%)48.5%  lr: 0.025005  loss: 0.001880  eta: 0h19m  tot: 0h19m58s  (49.7%)49.8%  lr: 0.024855  loss: 0.001890  eta: 0h19m  tot: 0h20m2s  (50.0%)51.0%  lr: 0.024725  loss: 0.001899  eta: 0h19m  tot: 0h20m6s  (50.2%)51.1%  lr: 0.024725  loss: 0.001899  eta: 0h19m  tot: 0h20m6s  (50.2%)51.4%  lr: 0.024705  loss: 0.001903  eta: 0h19m  tot: 0h20m7s  (50.3%)52.8%  lr: 0.024565  loss: 0.001903  eta: 0h18m  tot: 0h20m13s  (50.6%)53.0%  lr: 0.024515  loss: 0.001901  eta: 0h18m  tot: 0h20m14s  (50.6%)h18m  tot: 0h20m14s  (50.6%)53.3%  lr: 0.024475  loss: 0.001901  eta: 0h18m  tot: 0h20m15s  (50.7%)53.5%  lr: 0.024455  loss: 0.001904  eta: 0h18m  tot: 0h20m16s  (50.7%)53.8%  lr: 0.024394  loss: 0.001908  eta: 0h18m  tot: 0h20m18s  (50.8%)54.4%  lr: 0.024354  loss: 0.001908  eta: 0h18m  tot: 0h20m21s  (50.9%)55.1%  lr: 0.024284  loss: 0.001911  eta: 0h18m  tot: 0h20m25s  (51.0%)55.6%  lr: 0.024274  loss: 0.001909  eta: 0h18m  tot: 0h20m28s  (51.1%)h20m33s  (51.3%)0h20m38s  (51.5%)57.7%  lr: 0.024164  loss: 0.001914  eta: 0h18m  tot: 0h20m39s  (51.5%)57.8%  lr: 0.024164  loss: 0.001914  eta: 0h18m  tot: 0h20m39s  (51.6%)57.9%  lr: 0.024154  loss: 0.001913  eta: 0h18m  tot: 0h20m39s  (51.6%)58.1%  lr: 0.024144  loss: 0.001912  eta: 0h18m  tot: 0h20m40s  (51.6%)59.6%  lr: 0.024014  loss: 0.001900  eta: 0h18m  tot: 0h20m45s  (51.9%)59.7%  lr: 0.024014  loss: 0.001899  eta: 0h18m  tot: 0h20m46s  (51.9%)60.0%  lr: 0.023994  loss: 0.001900  eta: 0h18m  tot: 0h20m47s  (52.0%)60.3%  lr: 0.023954  loss: 0.001900  eta: 0h18m  tot: 0h20m48s  (52.1%)61.5%  lr: 0.023844  loss: 0.001897  eta: 0h18m  tot: 0h20m52s  (52.3%)63.5%  lr: 0.023654  loss: 0.001896  eta: 0h17m  tot: 0h20m59s  (52.7%)63.6%  lr: 0.023654  loss: 0.001895  eta: 0h17m  tot: 0h20m59s  (52.7%)12s  (53.3%)68.1%  lr: 0.023203  loss: 0.001881  eta: 0h18m  tot: 0h21m30s  (53.6%)%  lr: 0.023173  loss: 0.001882  eta: 0h18m  tot: 0h21m30s  (53.6%)70.5%  lr: 0.022963  loss: 0.001876  eta: 0h17m  tot: 0h21m39s  (54.1%) (54.2%)71.5%  lr: 0.022853  loss: 0.001877  eta: 0h17m  tot: 0h21m43s  (54.3%)74.4%  lr: 0.022453  loss: 0.001891  eta: 0h17m  tot: 0h21m53s  (54.9%)75.1%  lr: 0.022352  loss: 0.001890  eta: 0h17m  tot: 0h21m56s  (55.0%)75.4%  lr: 0.022312  loss: 0.001890  eta: 0h17m  tot: 0h21m57s  (55.1%)%  lr: 0.022212  loss: 0.001886  eta: 0h17m  tot: 0h22m1s  (55.3%)76.7%  lr: 0.022192  loss: 0.001887  eta: 0h17m  tot: 0h22m2s  (55.3%)%  lr: 0.022112  loss: 0.001886  eta: 0h17m  tot: 0h22m7s  (55.5%)77.8%  lr: 0.022092  loss: 0.001888  eta: 0h17m  tot: 0h22m9s  (55.6%)78.0%  lr: 0.022082  loss: 0.001889  eta: 0h17m  tot: 0h22m10s  (55.6%)78.9%  lr: 0.021982  loss: 0.001883  eta: 0h17m  tot: 0h22m15s  (55.8%)%  lr: 0.021972  loss: 0.001884  eta: 0h17m  tot: 0h22m17s  (55.8%)79.3%  lr: 0.021972  loss: 0.001883  eta: 0h17m  tot: 0h22m18s  (55.9%)80.0%  lr: 0.021912  loss: 0.001883  eta: 0h16m  tot: 0h22m22s  (56.0%)80.6%  lr: 0.021882  loss: 0.001884  eta: 0h16m  tot: 0h22m25s  (56.1%)80.7%  lr: 0.021852  loss: 0.001883  eta: 0h16m  tot: 0h22m25s  (56.1%)%  lr: 0.021762  loss: 0.001888  eta: 0h16m  tot: 0h22m28s  (56.3%)82.2%  lr: 0.021682  loss: 0.001891  eta: 0h16m  tot: 0h22m30s  (56.4%)83.7%  lr: 0.021552  loss: 0.001890  eta: 0h16m  tot: 0h22m35s  (56.7%)84.5%  lr: 0.021462  loss: 0.001889  eta: 0h16m  tot: 0h22m39s  (56.9%)%  lr: 0.021321  loss: 0.001888  eta: 0h16m  tot: 0h22m43s  (57.2%)Epoch: 100.0%  lr: 0.020000  loss: 0.001887  eta: 0h14m  tot: 0h23m41s  (60.0%)6.0%  lr: 0.021311  loss: 0.001889  eta: 0h16m  tot: 0h22m43s  (57.2%)86.8%  lr: 0.021251  loss: 0.001887  eta: 0h16m  tot: 0h22m46s  (57.4%)87.4%  lr: 0.021181  loss: 0.001887  eta: 0h16m  tot: 0h22m48s  (57.5%)87.7%  lr: 0.021151  loss: 0.001889  eta: 0h16m  tot: 0h22m49s  (57.5%)88.0%  lr: 0.021121  loss: 0.001888  eta: 0h16m  tot: 0h22m50s  (57.6%)88.5%  lr: 0.021061  loss: 0.001888  eta: 0h15m  tot: 0h22m52s  (57.7%)88.9%  lr: 0.020981  loss: 0.001886  eta: 0h15m  tot: 0h22m53s  (57.8%)89.6%  lr: 0.020941  loss: 0.001888  eta: 0h15m  tot: 0h22m56s  (57.9%)  loss: 0.001888  eta: 0h15m  tot: 0h22m58s  (58.0%)90.3%  lr: 0.020851  loss: 0.001891  eta: 0h15m  tot: 0h22m59s  (58.1%)90.7%  lr: 0.020831  loss: 0.001891  eta: 0h15m  tot: 0h23m1s  (58.1%)91.5%  lr: 0.020721  loss: 0.001893  eta: 0h15m  tot: 0h23m6s  (58.3%)91.6%  lr: 0.020721  loss: 0.001893  eta: 0h15m  tot: 0h23m6s  (58.3%)92.0%  lr: 0.020701  loss: 0.001894  eta: 0h15m  tot: 0h23m9s  (58.4%)92.3%  lr: 0.020661  loss: 0.001897  eta: 0h15m  tot: 0h23m10s  (58.5%)93.3%  lr: 0.020571  loss: 0.001891  eta: 0h15m  tot: 0h23m16s  (58.7%)93.4%  lr: 0.020551  loss: 0.001892  eta: 0h15m  tot: 0h23m17s  (58.7%)94.4%  lr: 0.020431  loss: 0.001896  eta: 0h15m  tot: 0h23m24s  (58.9%)94.9%  lr: 0.020381  loss: 0.001894  eta: 0h15m  tot: 0h23m26s  (59.0%)95.3%  lr: 0.020300  loss: 0.001893  eta: 0h15m  tot: 0h23m28s  (59.1%)95.4%  lr: 0.020300  loss: 0.001893  eta: 0h15m  tot: 0h23m28s  (59.1%)96.0%  lr: 0.020250  loss: 0.001891  eta: 0h15m  tot: 0h23m30s  (59.2%)97.0%  lr: 0.020160  loss: 0.001887  eta: 0h15m  tot: 0h23m34s  (59.4%)\n",
      " ---+++                Epoch    2 Train error : 0.00189145 +++--- ���\n",
      "Training epoch 3: 0.02 0.01\n",
      "Epoch: 77.4%  lr: 0.012062  loss: 0.001527  eta: 0h13m  tot: 0h32m14s  (75.5%).5%  lr: 0.019830  loss: 0.001603  eta: 0h14m  tot: 0h23m48s  (60.3%)2.4%  lr: 0.019760  loss: 0.001544  eta: 0h15m  tot: 0h23m53s  (60.5%)3.2%  lr: 0.019630  loss: 0.001696  eta: 0h16m  tot: 0h23m57s  (60.6%)3.6%  lr: 0.019580  loss: 0.001686  eta: 0h17m  tot: 0h24m0s  (60.7%)3.7%  lr: 0.019560  loss: 0.001665  eta: 0h18m  tot: 0h24m1s  (60.7%)3.9%  lr: 0.019550  loss: 0.001634  eta: 0h19m  tot: 0h24m4s  (60.8%)4.1%  lr: 0.019530  loss: 0.001622  eta: 0h20m  tot: 0h24m6s  (60.8%)60.9%)%  lr: 0.019489  loss: 0.001608  eta: 0h20m  tot: 0h24m12s  (61.0%)m13s  (61.0%)5.4%  lr: 0.019459  loss: 0.001613  eta: 0h20m  tot: 0h24m15s  (61.1%)6.2%  lr: 0.019409  loss: 0.001555  eta: 0h20m  tot: 0h24m20s  (61.2%)7.2%  lr: 0.019359  loss: 0.001544  eta: 0h20m  tot: 0h24m26s  (61.4%)7.7%  lr: 0.019349  loss: 0.001526  eta: 0h19m  tot: 0h24m29s  (61.5%)8.2%  lr: 0.019319  loss: 0.001538  eta: 0h19m  tot: 0h24m31s  (61.6%)8.5%  lr: 0.019259  loss: 0.001521  eta: 0h19m  tot: 0h24m32s  (61.7%)9.6%  lr: 0.019089  loss: 0.001508  eta: 0h18m  tot: 0h24m36s  (61.9%)11.0%  lr: 0.018959  loss: 0.001503  eta: 0h17m  tot: 0h24m44s  (62.2%)11.5%  lr: 0.018889  loss: 0.001523  eta: 0h18m  tot: 0h24m47s  (62.3%)12.4%  lr: 0.018819  loss: 0.001516  eta: 0h18m  tot: 0h24m53s  (62.5%)12.6%  lr: 0.018799  loss: 0.001511  eta: 0h18m  tot: 0h24m54s  (62.5%)13.7%  lr: 0.018679  loss: 0.001520  eta: 0h17m  tot: 0h24m58s  (62.7%)%)%  lr: 0.018599  loss: 0.001548  eta: 0h17m  tot: 0h25m4s  (62.9%)14.9%  lr: 0.018559  loss: 0.001555  eta: 0h18m  tot: 0h25m8s  (63.0%)h18m  tot: 0h25m15s  (63.1%)15.8%  lr: 0.018408  loss: 0.001545  eta: 0h18m  tot: 0h25m18s  (63.2%)25m19s  (63.2%)17.4%  lr: 0.018278  loss: 0.001515  eta: 0h18m  tot: 0h25m28s  (63.5%)18.0%  lr: 0.018208  loss: 0.001516  eta: 0h18m  tot: 0h25m31s  (63.6%)19.7%  lr: 0.017938  loss: 0.001520  eta: 0h18m  tot: 0h25m39s  (63.9%)%  lr: 0.017908  loss: 0.001523  eta: 0h18m  tot: 0h25m40s  (64.0%)20.3%  lr: 0.017868  loss: 0.001513  eta: 0h17m  tot: 0h25m42s  (64.1%)20.8%  lr: 0.017818  loss: 0.001502  eta: 0h18m  tot: 0h25m48s  (64.2%)64.3%)23.6%  lr: 0.017518  loss: 0.001481  eta: 0h18m  tot: 0h26m8s  (64.7%)23.9%  lr: 0.017498  loss: 0.001490  eta: 0h18m  tot: 0h26m9s  (64.8%)%  lr: 0.017447  loss: 0.001485  eta: 0h18m  tot: 0h26m12s  (64.9%)25.4%  lr: 0.017387  loss: 0.001490  eta: 0h17m  tot: 0h26m16s  (65.1%)25.5%  lr: 0.017387  loss: 0.001492  eta: 0h17m  tot: 0h26m16s  (65.1%)27.7%  lr: 0.017157  loss: 0.001517  eta: 0h17m  tot: 0h26m27s  (65.5%)%  lr: 0.017117  loss: 0.001517  eta: 0h17m  tot: 0h26m29s  (65.6%)29.0%  lr: 0.016997  loss: 0.001513  eta: 0h17m  tot: 0h26m35s  (65.8%)  loss: 0.001513  eta: 0h17m  tot: 0h26m37s  (65.9%)29.4%  lr: 0.016927  loss: 0.001511  eta: 0h17m  tot: 0h26m38s  (65.9%)29.9%  lr: 0.016897  loss: 0.001502  eta: 0h17m  tot: 0h26m41s  (66.0%)30.8%  lr: 0.016817  loss: 0.001500  eta: 0h17m  tot: 0h26m49s  (66.2%)33.1%  lr: 0.016577  loss: 0.001512  eta: 0h17m  tot: 0h27m6s  (66.6%)  eta: 0h17m  tot: 0h27m13s  (66.8%)34.7%  lr: 0.016447  loss: 0.001510  eta: 0h17m  tot: 0h27m18s  (66.9%)0h27m23s  (67.1%)35.6%  lr: 0.016356  loss: 0.001513  eta: 0h17m  tot: 0h27m24s  (67.1%)%  lr: 0.016336  loss: 0.001513  eta: 0h17m  tot: 0h27m25s  (67.1%)35.9%  lr: 0.016326  loss: 0.001515  eta: 0h17m  tot: 0h27m25s  (67.2%)36.0%  lr: 0.016316  loss: 0.001517  eta: 0h17m  tot: 0h27m26s  (67.2%)38.3%  lr: 0.016176  loss: 0.001521  eta: 0h16m  tot: 0h27m34s  (67.7%)%  lr: 0.016176  loss: 0.001526  eta: 0h16m  tot: 0h27m34s  (67.7%)38.4%  lr: 0.016166  loss: 0.001524  eta: 0h16m  tot: 0h27m35s  (67.7%)38.6%  lr: 0.016136  loss: 0.001525  eta: 0h16m  tot: 0h27m36s  (67.7%)40.1%  lr: 0.016016  loss: 0.001524  eta: 0h16m  tot: 0h27m42s  (68.0%)%  lr: 0.015976  loss: 0.001520  eta: 0h16m  tot: 0h27m45s  (68.1%)40.6%  lr: 0.015976  loss: 0.001520  eta: 0h16m  tot: 0h27m46s  (68.1%)41.6%  lr: 0.015876  loss: 0.001514  eta: 0h15m  tot: 0h27m51s  (68.3%)42.8%  lr: 0.015686  loss: 0.001519  eta: 0h15m  tot: 0h27m57s  (68.6%)43.6%  lr: 0.015546  loss: 0.001523  eta: 0h15m  tot: 0h27m59s  (68.7%)43.8%  lr: 0.015526  loss: 0.001522  eta: 0h15m  tot: 0h28m0s  (68.8%)44.1%  lr: 0.015496  loss: 0.001525  eta: 0h15m  tot: 0h28m1s  (68.8%)44.5%  lr: 0.015415  loss: 0.001525  eta: 0h15m  tot: 0h28m2s  (68.9%)44.8%  lr: 0.015375  loss: 0.001524  eta: 0h15m  tot: 0h28m4s  (69.0%)0h15m  tot: 0h28m5s  (69.1%)47.4%  lr: 0.015165  loss: 0.001523  eta: 0h14m  tot: 0h28m15s  (69.5%)47.6%  lr: 0.015135  loss: 0.001521  eta: 0h14m  tot: 0h28m16s  (69.5%)48.3%  lr: 0.015035  loss: 0.001517  eta: 0h14m  tot: 0h28m18s  (69.7%)h14m  tot: 0h28m23s  (69.9%)%  lr: 0.014905  loss: 0.001508  eta: 0h14m  tot: 0h28m24s  (69.9%)50.1%  lr: 0.014865  loss: 0.001507  eta: 0h14m  tot: 0h28m28s  (70.0%)%  lr: 0.014865  loss: 0.001508  eta: 0h14m  tot: 0h28m29s  (70.1%)0.014805  loss: 0.001508  eta: 0h14m  tot: 0h28m38s  (70.2%)%)%  lr: 0.014685  loss: 0.001510  eta: 0h14m  tot: 0h28m44s  (70.4%)%  lr: 0.014475  loss: 0.001516  eta: 0h14m  tot: 0h28m57s  (70.7%)54.4%  lr: 0.014415  loss: 0.001518  eta: 0h14m  tot: 0h29m0s  (70.9%)56.6%  lr: 0.014174  loss: 0.001521  eta: 0h14m  tot: 0h29m14s  (71.3%)56.7%  lr: 0.014134  loss: 0.001521  eta: 0h14m  tot: 0h29m14s  (71.3%)57.3%  lr: 0.014074  loss: 0.001520  eta: 0h13m  tot: 0h29m17s  (71.5%)57.4%  lr: 0.014074  loss: 0.001519  eta: 0h13m  tot: 0h29m17s  (71.5%)57.9%  lr: 0.014064  loss: 0.001514  eta: 0h13m  tot: 0h29m21s  (71.6%)58.0%  lr: 0.014064  loss: 0.001514  eta: 0h13m  tot: 0h29m23s  (71.6%)58.2%  lr: 0.014054  loss: 0.001515  eta: 0h14m  tot: 0h29m26s  (71.6%)59.0%  lr: 0.013984  loss: 0.001512  eta: 0h14m  tot: 0h29m37s  (71.8%)60.0%  lr: 0.013844  loss: 0.001512  eta: 0h14m  tot: 0h29m47s  (72.0%)60.6%  lr: 0.013784  loss: 0.001512  eta: 0h14m  tot: 0h29m51s  (72.1%)60.9%  lr: 0.013764  loss: 0.001509  eta: 0h14m  tot: 0h29m53s  (72.2%)61.2%  lr: 0.013734  loss: 0.001508  eta: 0h14m  tot: 0h29m55s  (72.2%)61.8%  lr: 0.013694  loss: 0.001508  eta: 0h14m  tot: 0h29m59s  (72.4%)62.9%  lr: 0.013554  loss: 0.001510  eta: 0h14m  tot: 0h30m8s  (72.6%)63.7%  lr: 0.013454  loss: 0.001511  eta: 0h14m  tot: 0h30m15s  (72.7%)64.4%  lr: 0.013383  loss: 0.001508  eta: 0h14m  tot: 0h30m20s  (72.9%)64.5%  lr: 0.013363  loss: 0.001508  eta: 0h14m  tot: 0h30m21s  (72.9%)65.6%  lr: 0.013213  loss: 0.001522  eta: 0h14m  tot: 0h30m32s  (73.1%)0.001522  eta: 0h14m  tot: 0h30m33s  (73.2%)73.2%)66.2%  lr: 0.013173  loss: 0.001521  eta: 0h14m  tot: 0h30m37s  (73.2%)66.3%  lr: 0.013163  loss: 0.001521  eta: 0h14m  tot: 0h30m38s  (73.3%)67.2%  lr: 0.013073  loss: 0.001522  eta: 0h13m  tot: 0h30m46s  (73.4%)68.0%  lr: 0.013003  loss: 0.001520  eta: 0h14m  tot: 0h30m56s  (73.6%)68.7%  lr: 0.012913  loss: 0.001519  eta: 0h14m  tot: 0h31m6s  (73.7%)70.1%  lr: 0.012813  loss: 0.001523  eta: 0h14m  tot: 0h31m18s  (74.0%)70.4%  lr: 0.012783  loss: 0.001523  eta: 0h14m  tot: 0h31m20s  (74.1%)  eta: 0h14m  tot: 0h31m21s  (74.1%)70.8%  lr: 0.012773  loss: 0.001518  eta: 0h14m  tot: 0h31m22s  (74.2%)71.0%  lr: 0.012753  loss: 0.001518  eta: 0h13m  tot: 0h31m23s  (74.2%)74.2%)71.3%  lr: 0.012753  loss: 0.001517  eta: 0h13m  tot: 0h31m25s  (74.3%)72.7%  lr: 0.012663  loss: 0.001517  eta: 0h13m  tot: 0h31m34s  (74.5%)13m  tot: 0h31m36s  (74.6%)73.3%  lr: 0.012573  loss: 0.001520  eta: 0h13m  tot: 0h31m39s  (74.7%)73.4%  lr: 0.012563  loss: 0.001522  eta: 0h13m  tot: 0h31m40s  (74.7%)73.6%  lr: 0.012543  loss: 0.001522  eta: 0h13m  tot: 0h31m42s  (74.7%)73.7%  lr: 0.012543  loss: 0.001522  eta: 0h13m  tot: 0h31m43s  (74.7%)73.9%  lr: 0.012493  loss: 0.001521  eta: 0h13m  tot: 0h31m44s  (74.8%)74.6%  lr: 0.012342  loss: 0.001523  eta: 0h13m  tot: 0h31m53s  (74.9%)%  lr: 0.012282  loss: 0.001526  eta: 0h13m  tot: 0h32m1s  (75.1%)75.4%  lr: 0.012262  loss: 0.001525  eta: 0h13m  tot: 0h32m2s  (75.1%)75.6%  lr: 0.012242  loss: 0.001525  eta: 0h13m  tot: 0h32m4s  (75.1%)76.1%  lr: 0.012172  loss: 0.001527  eta: 0h13m  tot: 0h32m7s  (75.2%)76.5%  lr: 0.012132  loss: 0.001525  eta: 0h13m  tot: 0h32m10s  (75.3%)77.5%  lr: 0.012052  loss: 0.001527  eta: 0h13m  tot: 0h32m15s  (75.5%)Epoch: 100.0%  lr: 0.010000  loss: 0.001544  eta: 0h11m  tot: 0h35m21s  (80.0%)7.9%  lr: 0.012032  loss: 0.001529  eta: 0h13m  tot: 0h32m16s  (75.6%)79.8%  lr: 0.011912  loss: 0.001532  eta: 0h13m  tot: 0h32m28s  (76.0%)h13m  tot: 0h32m30s  (76.0%)81.1%  lr: 0.011802  loss: 0.001539  eta: 0h13m  tot: 0h32m40s  (76.2%)81.5%  lr: 0.011762  loss: 0.001543  eta: 0h13m  tot: 0h32m43s  (76.3%)81.6%  lr: 0.011752  loss: 0.001544  eta: 0h13m  tot: 0h32m44s  (76.3%)81.8%  lr: 0.011732  loss: 0.001545  eta: 0h13m  tot: 0h32m45s  (76.4%)82.6%  lr: 0.011652  loss: 0.001543  eta: 0h13m  tot: 0h32m53s  (76.5%)83.1%  lr: 0.011602  loss: 0.001546  eta: 0h13m  tot: 0h32m57s  (76.6%)83.8%  lr: 0.011492  loss: 0.001546  eta: 0h13m  tot: 0h33m5s  (76.8%)84.4%  lr: 0.011462  loss: 0.001548  eta: 0h13m  tot: 0h33m11s  (76.9%)85.3%  lr: 0.011422  loss: 0.001551  eta: 0h13m  tot: 0h33m24s  (77.1%)85.5%  lr: 0.011392  loss: 0.001550  eta: 0h13m  tot: 0h33m26s  (77.1%)  loss: 0.001550  eta: 0h13m  tot: 0h33m27s  (77.1%)85.7%  lr: 0.011382  loss: 0.001554  eta: 0h13m  tot: 0h33m28s  (77.1%)86.5%  lr: 0.011291  loss: 0.001550  eta: 0h12m  tot: 0h33m36s  (77.3%)86.6%  lr: 0.011271  loss: 0.001551  eta: 0h12m  tot: 0h33m36s  (77.3%)87.4%  lr: 0.011221  loss: 0.001551  eta: 0h13m  tot: 0h33m48s  (77.5%)89.3%  lr: 0.010981  loss: 0.001550  eta: 0h12m  tot: 0h34m10s  (77.9%)34m35s  (78.4%)92.6%  lr: 0.010671  loss: 0.001545  eta: 0h12m  tot: 0h34m41s  (78.5%)92.9%  lr: 0.010661  loss: 0.001544  eta: 0h12m  tot: 0h34m43s  (78.6%)94.0%  lr: 0.010581  loss: 0.001544  eta: 0h12m  tot: 0h34m48s  (78.8%)%)94.8%  lr: 0.010511  loss: 0.001542  eta: 0h12m  tot: 0h34m52s  (79.0%)95.7%  lr: 0.010441  loss: 0.001540  eta: 0h12m  tot: 0h34m56s  (79.1%)96.1%  lr: 0.010391  loss: 0.001542  eta: 0h12m  tot: 0h34m58s  (79.2%)96.5%  lr: 0.010381  loss: 0.001541  eta: 0h12m  tot: 0h35m1s  (79.3%)97.5%  lr: 0.010230  loss: 0.001540  eta: 0h12m  tot: 0h35m9s  (79.5%)98.0%  lr: 0.010160  loss: 0.001543  eta: 0h12m  tot: 0h35m13s  (79.6%)\n",
      " ---+++                Epoch    3 Train error : 0.00154429 +++--- ���\n",
      "Training epoch 4: 0.01 0.01\n",
      "Epoch: 76.2%  lr: 0.002412  loss: 0.001367  eta: 3h3m  tot: 10h25m27s  (95.2%)))%  lr: 0.009960  loss: 0.001068  eta: 0h13m  tot: 0h35m24s  (80.1%)0.8%  lr: 0.009890  loss: 0.001089  eta: 0h14m  tot: 0h35m28s  (80.2%)h35m30s  (80.2%)%  lr: 0.009840  loss: 0.001241  eta: 0h14m  tot: 0h35m34s  (80.3%)1.6%  lr: 0.009840  loss: 0.001257  eta: 0h13m  tot: 0h35m35s  (80.3%)1.8%  lr: 0.009830  loss: 0.001289  eta: 0h13m  tot: 0h35m36s  (80.4%)3.5%  lr: 0.009630  loss: 0.001295  eta: 0h9m  tot: 0h35m42s  (80.7%)4.4%  lr: 0.009580  loss: 0.001270  eta: 0h8m  tot: 0h35m45s  (80.9%)4.6%  lr: 0.009560  loss: 0.001293  eta: 0h8m  tot: 0h35m46s  (80.9%)4.7%  lr: 0.009550  loss: 0.001286  eta: 0h8m  tot: 0h35m46s  (80.9%)5.1%  lr: 0.009530  loss: 0.001254  eta: 0h8m  tot: 0h35m48s  (81.0%)6.0%  lr: 0.009479  loss: 0.001364  eta: 0h7m  tot: 0h35m51s  (81.2%)6.3%  lr: 0.009419  loss: 0.001376  eta: 0h7m  tot: 0h35m52s  (81.3%)6.9%  lr: 0.009339  loss: 0.001429  eta: 0h10m  tot: 0h36m8s  (81.4%)  loss: 0.001417  eta: 0h13m  tot: 0h36m27s  (81.5%)7.9%  lr: 0.009269  loss: 0.001431  eta: 0h14m  tot: 0h36m38s  (81.6%)8.1%  lr: 0.009239  loss: 0.001430  eta: 0h14m  tot: 0h36m40s  (81.6%)8.2%  lr: 0.009229  loss: 0.001419  eta: 0h15m  tot: 0h36m42s  (81.6%)81.7%)8.6%  lr: 0.009169  loss: 0.001434  eta: 0h15m  tot: 0h36m52s  (81.7%) (82.0%)10.6%  lr: 0.009059  loss: 0.001451  eta: 0h17m  tot: 0h37m23s  (82.1%)%  lr: 0.009059  loss: 0.001450  eta: 0h17m  tot: 0h37m24s  (82.1%)13.3%  lr: 0.008789  loss: 0.001434  eta: 63h25m  tot: 10h20m16s  (82.7%)22s  (82.8%)14.6%  lr: 0.008619  loss: 0.001422  eta: 57h7m  tot: 10h20m33s  (82.9%)15.1%  lr: 0.008589  loss: 0.001417  eta: 54h45m  tot: 10h20m41s  (83.0%)15.5%  lr: 0.008519  loss: 0.001407  eta: 53h15m  tot: 10h20m44s  (83.1%)15.7%  lr: 0.008499  loss: 0.001410  eta: 52h31m  tot: 10h20m45s  (83.1%)%  lr: 0.008468  loss: 0.001405  eta: 51h28m  tot: 10h20m46s  (83.2%)%  lr: 0.008338  loss: 0.001394  eta: 46h42m  tot: 10h20m51s  (83.5%)17.4%  lr: 0.008328  loss: 0.001401  eta: 46h24m  tot: 10h20m52s  (83.5%) (83.5%)17.8%  lr: 0.008268  loss: 0.001397  eta: 44h59m  tot: 10h20m53s  (83.6%)19.0%  lr: 0.008158  loss: 0.001383  eta: 41h37m  tot: 10h20m58s  (83.8%)19.7%  lr: 0.008098  loss: 0.001380  eta: 39h45m  tot: 10h21m1s  (83.9%)19.9%  lr: 0.008078  loss: 0.001377  eta: 39h18m  tot: 10h21m2s  (84.0%)20.2%  lr: 0.008078  loss: 0.001371  eta: 38h38m  tot: 10h21m3s  (84.0%)21.3%  lr: 0.007898  loss: 0.001376  eta: 36h0m  tot: 10h21m10s  (84.3%)22.8%  lr: 0.007808  loss: 0.001374  eta: 33h6m  tot: 10h21m17s  (84.6%)23.7%  lr: 0.007738  loss: 0.001393  eta: 31h29m  tot: 10h21m27s  (84.7%)24.5%  lr: 0.007608  loss: 0.001395  eta: 30h7m  tot: 10h21m30s  (84.9%)  loss: 0.001389  eta: 29h41m  tot: 10h21m31s  (85.0%)25.1%  lr: 0.007498  loss: 0.001388  eta: 29h7m  tot: 10h21m34s  (85.0%)25.6%  lr: 0.007498  loss: 0.001390  eta: 28h26m  tot: 10h21m36s  (85.1%)26.1%  lr: 0.007427  loss: 0.001382  eta: 27h39m  tot: 10h21m39s  (85.2%)26.9%  lr: 0.007307  loss: 0.001377  eta: 26h32m  tot: 10h21m42s  (85.4%)%  lr: 0.007297  loss: 0.001372  eta: 26h10m  tot: 10h21m43s  (85.4%)27.7%  lr: 0.007277  loss: 0.001359  eta: 25h28m  tot: 10h21m46s  (85.5%)28.4%  lr: 0.007187  loss: 0.001365  eta: 24h35m  tot: 10h21m49s  (85.7%)0.007087  loss: 0.001354  eta: 23h26m  tot: 10h21m54s  (85.9%)30.2%  lr: 0.007007  loss: 0.001359  eta: 22h32m  tot: 10h21m58s  (86.0%)30.3%  lr: 0.006947  loss: 0.001357  eta: 22h27m  tot: 10h21m58s  (86.1%)30.7%  lr: 0.006917  loss: 0.001356  eta: 22h4m  tot: 10h22m0s  (86.1%)32.0%  lr: 0.006777  loss: 0.001354  eta: 20h44m  tot: 10h22m5s  (86.4%)33.6%  lr: 0.006557  loss: 0.001354  eta: 19h20m  tot: 10h22m11s  (86.7%)%  lr: 0.006527  loss: 0.001355  eta: 19h6m  tot: 10h22m12s  (86.8%)%)34.6%  lr: 0.006457  loss: 0.001358  eta: 18h30m  tot: 10h22m15s  (86.9%)0.006457  loss: 0.001357  eta: 18h26m  tot: 10h22m16s  (86.9%)34.7%  lr: 0.006457  loss: 0.001354  eta: 18h22m  tot: 10h22m16s  (86.9%)35.0%  lr: 0.006447  loss: 0.001353  eta: 18h9m  tot: 10h22m17s  (87.0%)35.7%  lr: 0.006356  loss: 0.001355  eta: 17h35m  tot: 10h22m19s  (87.1%)35.9%  lr: 0.006356  loss: 0.001355  eta: 17h27m  tot: 10h22m20s  (87.2%)36.0%  lr: 0.006336  loss: 0.001354  eta: 17h23m  tot: 10h22m20s  (87.2%)36.6%  lr: 0.006236  loss: 0.001353  eta: 16h55m  tot: 10h22m23s  (87.3%)%  lr: 0.006236  loss: 0.001355  eta: 16h51m  tot: 10h22m23s  (87.3%)36.8%  lr: 0.006226  loss: 0.001357  eta: 16h47m  tot: 10h22m24s  (87.4%)38.0%  lr: 0.006066  loss: 0.001357  eta: 15h58m  tot: 10h22m28s  (87.6%)38.7%  lr: 0.005976  loss: 0.001354  eta: 15h29m  tot: 10h22m31s  (87.7%)40.8%  lr: 0.005736  loss: 0.001347  eta: 14h12m  tot: 10h22m39s  (88.2%)40.9%  lr: 0.005736  loss: 0.001345  eta: 14h9m  tot: 10h22m39s  (88.2%)41.1%  lr: 0.005676  loss: 0.001341  eta: 14h0m  tot: 10h22m40s  (88.2%)%  lr: 0.005375  loss: 0.001368  eta: 12h29m  tot: 10h22m51s  (88.8%)44.0%  lr: 0.005345  loss: 0.001370  eta: 12h27m  tot: 10h22m51s  (88.8%)46.0%  lr: 0.005185  loss: 0.001376  eta: 11h29m  tot: 10h22m59s  (89.2%)46.9%  lr: 0.005065  loss: 0.001376  eta: 11h5m  tot: 10h23m3s  (89.4%)4s  (89.4%)47.4%  lr: 0.005005  loss: 0.001381  eta: 10h51m  tot: 10h23m5s  (89.5%)47.7%  lr: 0.004965  loss: 0.001378  eta: 10h44m  tot: 10h23m6s  (89.5%)49.4%  lr: 0.004805  loss: 0.001380  eta: 10h1m  tot: 10h23m13s  (89.9%)49.7%  lr: 0.004765  loss: 0.001381  eta: 9h55m  tot: 10h23m14s  (89.9%)50.3%  lr: 0.004705  loss: 0.001380  eta: 9h40m  tot: 10h23m16s  (90.1%)%  lr: 0.004695  loss: 0.001380  eta: 9h36m  tot: 10h23m17s  (90.1%)50.8%  lr: 0.004685  loss: 0.001381  eta: 9h30m  tot: 10h23m18s  (90.2%)51.5%  lr: 0.004585  loss: 0.001385  eta: 9h13m  tot: 10h23m21s  (90.3%)%  lr: 0.004555  loss: 0.001386  eta: 9h9m  tot: 10h23m21s  (90.3%)  lr: 0.004555  loss: 0.001385  eta: 9h5m  tot: 10h23m22s  (90.4%)%  lr: 0.004505  loss: 0.001384  eta: 8h50m  tot: 10h23m25s  (90.5%)%  lr: 0.004505  loss: 0.001384  eta: 8h48m  tot: 10h23m25s  (90.5%)52.9%  lr: 0.004485  loss: 0.001382  eta: 8h42m  tot: 10h23m26s  (90.6%)53.0%  lr: 0.004485  loss: 0.001381  eta: 8h41m  tot: 10h23m27s  (90.6%)53.2%  lr: 0.004475  loss: 0.001380  eta: 8h37m  tot: 10h23m27s  (90.6%)55.0%  lr: 0.004384  loss: 0.001375  eta: 8h1m  tot: 10h23m34s  (91.0%)55.5%  lr: 0.004354  loss: 0.001378  eta: 7h52m  tot: 10h23m36s  (91.1%)58.5%  lr: 0.004014  loss: 0.001366  eta: 6h57m  tot: 10h23m48s  (91.7%)59.3%  lr: 0.003954  loss: 0.001360  eta: 6h43m  tot: 10h23m51s  (91.9%)%)60.0%  lr: 0.003854  loss: 0.001362  eta: 6h31m  tot: 10h23m54s  (92.0%)60.5%  lr: 0.003824  loss: 0.001367  eta: 6h24m  tot: 10h23m57s  (92.1%)60.9%  lr: 0.003804  loss: 0.001365  eta: 6h18m  tot: 10h23m59s  (92.2%) (92.4%)62.3%  lr: 0.003624  loss: 0.001368  eta: 5h56m  tot: 10h24m6s  (92.5%)62.6%  lr: 0.003604  loss: 0.001365  eta: 5h52m  tot: 10h24m8s  (92.5%)63.5%  lr: 0.003534  loss: 0.001366  eta: 5h38m  tot: 10h24m12s  (92.7%)63.8%  lr: 0.003484  loss: 0.001364  eta: 5h33m  tot: 10h24m14s  (92.8%)%  lr: 0.003464  loss: 0.001364  eta: 5h32m  tot: 10h24m14s  (92.8%)66.2%  lr: 0.003323  loss: 0.001361  eta: 5h1m  tot: 10h24m25s  (93.2%)66.3%  lr: 0.003293  loss: 0.001361  eta: 4h58m  tot: 10h24m26s  (93.3%)66.7%  lr: 0.003263  loss: 0.001360  eta: 4h54m  tot: 10h24m29s  (93.3%)67.3%  lr: 0.003233  loss: 0.001361  eta: 4h45m  tot: 10h24m33s  (93.5%)67.4%  lr: 0.003223  loss: 0.001361  eta: 4h44m  tot: 10h24m34s  (93.5%)%  lr: 0.003093  loss: 0.001365  eta: 4h19m  tot: 10h24m53s  (93.9%)69.9%  lr: 0.003053  loss: 0.001367  eta: 4h13m  tot: 10h24m57s  (94.0%)70.6%  lr: 0.002973  loss: 0.001365  eta: 4h5m  tot: 10h24m59s  (94.1%)71.6%  lr: 0.002833  loss: 0.001372  eta: 3h54m  tot: 10h25m4s  (94.3%)72.3%  lr: 0.002783  loss: 0.001374  eta: 3h46m  tot: 10h25m6s  (94.5%)72.6%  lr: 0.002743  loss: 0.001375  eta: 3h43m  tot: 10h25m8s  (94.5%)73.2%  lr: 0.002693  loss: 0.001370  eta: 3h36m  tot: 10h25m12s  (94.6%)75.1%  lr: 0.002503  loss: 0.001368  eta: 3h15m  tot: 10h25m21s  (95.0%)%  lr: 0.002412  loss: 0.001368  eta: 3h6m  tot: 10h25m25s  (95.2%)76.3%  lr: 0.002412  loss: 0.001367  eta: 3h2m  tot: 10h25m27s  (95.3%)76.4%  lr: 0.002402  loss: 0.001366  eta: 3h1m  tot: 10h25m28s  (95.3%)Epoch: 100.0%  lr: 0.000000  loss: 0.001391  eta: <1min   tot: 10h27m29s  (100.0%)35s  (95.4%)78.0%  lr: 0.002172  loss: 0.001379  eta: 2h46m  tot: 10h25m41s  (95.6%)78.7%  lr: 0.002082  loss: 0.001381  eta: 2h39m  tot: 10h25m47s  (95.7%)78.9%  lr: 0.002062  loss: 0.001386  eta: 2h37m  tot: 10h25m50s  (95.8%)79.3%  lr: 0.002042  loss: 0.001386  eta: 2h34m  tot: 10h25m52s  (95.9%)79.6%  lr: 0.002022  loss: 0.001387  eta: 2h31m  tot: 10h25m53s  (95.9%)80.2%  lr: 0.001942  loss: 0.001387  eta: 2h25m  tot: 10h25m57s  (96.0%)80.3%  lr: 0.001932  loss: 0.001387  eta: 2h24m  tot: 10h25m58s  (96.1%)  eta: 2h22m  tot: 10h25m59s  (96.1%)80.9%  lr: 0.001872  loss: 0.001384  eta: 2h19m  tot: 10h26m2s  (96.2%)82.2%  lr: 0.001732  loss: 0.001381  eta: 2h8m  tot: 10h26m9s  (96.4%)83.8%  lr: 0.001542  loss: 0.001380  eta: 1h54m  tot: 10h26m15s  (96.8%)84.1%  lr: 0.001502  loss: 0.001383  eta: 1h51m  tot: 10h26m17s  (96.8%)85.0%  lr: 0.001381  loss: 0.001381  eta: 1h44m  tot: 10h26m21s  (97.0%)86.1%  lr: 0.001291  loss: 0.001382  eta: 1h35m  tot: 10h26m25s  (97.2%)86.7%  lr: 0.001261  loss: 0.001382  eta: 1h30m  tot: 10h26m28s  (97.3%)87.8%  lr: 0.001131  loss: 0.001387  eta: 1h22m  tot: 10h26m33s  (97.6%)88.1%  lr: 0.001111  loss: 0.001387  eta: 1h19m  tot: 10h26m34s  (97.6%)88.3%  lr: 0.001081  loss: 0.001388  eta: 1h18m  tot: 10h26m35s  (97.7%)88.5%  lr: 0.001061  loss: 0.001389  eta: 1h16m  tot: 10h26m36s  (97.7%)89.4%  lr: 0.000981  loss: 0.001391  eta: 1h10m  tot: 10h26m40s  (97.9%)%  lr: 0.000931  loss: 0.001391  eta: 1h6m  tot: 10h26m43s  (98.0%)90.8%  lr: 0.000811  loss: 0.001390  eta: 0h59m  tot: 10h26m51s  (98.2%)91.0%  lr: 0.000781  loss: 0.001392  eta: 0h58m  tot: 10h26m53s  (98.2%)92.2%  lr: 0.000651  loss: 0.001392  eta: 0h50m  tot: 10h27m0s  (98.4%)93.5%  lr: 0.000471  loss: 0.001397  eta: 0h40m  tot: 10h27m6s  (98.7%)95.4%  lr: 0.000260  loss: 0.001397  eta: 0h28m  tot: 10h27m14s  (99.1%)99.2%)96.7%  lr: 0.000170  loss: 0.001394  eta: 0h20m  tot: 10h27m21s  (99.3%)97.7%  lr: 0.000080  loss: 0.001396  eta: 0h14m  tot: 10h27m25s  (99.5%)98.2%  lr: 0.000020  loss: 0.001394  eta: 0h10m  tot: 10h27m26s  (99.6%)\n",
      " ---+++                Epoch    4 Train error : 0.00137257 +++--- ���\n",
      "Saving model to file : starspace_embeddings\n",
      "Saving model in tsv format : starspace_embeddings.tsv\n"
     ]
    }
   ],
   "source": [
    "######### TRAINING HAPPENING HERE #############\n",
    "!starspace train -trainFile data/train_prepare.tsv -model starspace_embeddings \\\n",
    "-trainMode 3 \\\n",
    "-adagrad true \\\n",
    "-ngrams 1 \\\n",
    "-epoch 5 \\\n",
    "-dim 100 \\\n",
    "-similarity cosine \\\n",
    "-minCount 2 \\\n",
    "-verbose true \\\n",
    "-fileFormat labelDoc \\\n",
    "-negSearchLimit 10 \\\n",
    "-lr 0.05"
   ]
  },
  {
   "cell_type": "code",
   "execution_count": 4,
   "metadata": {},
   "outputs": [
    {
     "name": "stdout",
     "output_type": "stream",
     "text": [
      "Requirement already satisfied: numpy in /usr/local/lib/python3.5/dist-packages\n",
      "\u001b[33mYou are using pip version 9.0.1, however version 20.2 is available.\n",
      "You should consider upgrading via the 'pip install --upgrade pip' command.\u001b[0m\n"
     ]
    }
   ],
   "source": [
    "!pip3 install numpy"
   ]
  },
  {
   "cell_type": "markdown",
   "metadata": {
    "collapsed": true
   },
   "source": [
    "And now we can compare the new embeddings with the previous ones. You can find trained word vectors in the file *[model_file_name].tsv*. Upload the embeddings from StarSpace into a dict. "
   ]
  },
  {
   "cell_type": "code",
   "execution_count": 52,
   "metadata": {
    "collapsed": true
   },
   "outputs": [],
   "source": [
    "import numpy as np\n",
    "starspace_embeddings = {} ######### YOUR CODE HERE #############\n",
    "\n",
    "for line in open('starspace_embeddings.tsv', encoding='utf-8'):\n",
    "    word, *vect = line.strip().split('\\t')\n",
    "    starspace_embeddings[word] = np.array(vect, dtype = np.float32)\n"
   ]
  },
  {
   "cell_type": "code",
   "execution_count": 56,
   "metadata": {
    "collapsed": true
   },
   "outputs": [],
   "source": [
    "def question_to_vec(question, embeddings, dim=100):\n",
    "    \"\"\"\n",
    "        question: a string\n",
    "        embeddings: dict where the key is a word and a value is its' embedding\n",
    "        dim: size of the representation\n",
    "\n",
    "        result: vector representation for the question\n",
    "    \"\"\"\n",
    "    ######################################\n",
    "    ######### YOUR CODE HERE #############\n",
    "    ######################################\n",
    "        \n",
    "    question = question.split()\n",
    "    count_of_words_with_embed = 0\n",
    "    wv_result = np.zeros(dim)\n",
    "    \n",
    "    if len(question) > 0:\n",
    "        for word in question:\n",
    "            if word in embeddings:\n",
    "                count_of_words_with_embed += 1\n",
    "                wv_result = wv_result + embeddings[word][:dim]\n",
    "            else:\n",
    "                count_of_words_with_embed = count_of_words_with_embed\n",
    "                wv_result = wv_result + np.zeros(dim)\n",
    "                \n",
    "        if count_of_words_with_embed > 0:\n",
    "            wv_result = wv_result/count_of_words_with_embed\n",
    "        else:\n",
    "            wv_result = np.zeros(dim)\n",
    "        \n",
    "    else:\n",
    "        wv_result = np.zeros(dim)\n",
    "            \n",
    "    return (wv_result)"
   ]
  },
  {
   "cell_type": "code",
   "execution_count": 57,
   "metadata": {
    "collapsed": true
   },
   "outputs": [],
   "source": [
    "def rank_candidates(question, candidates, embeddings, dim=100):\n",
    "    \"\"\"\n",
    "        question: a string\n",
    "        candidates: a list of strings (candidates) which we want to rank\n",
    "        embeddings: some embeddings\n",
    "        dim: dimension of the current embeddings\n",
    "        \n",
    "        result: a list of pairs (initial position in the list, question)\n",
    "    \"\"\"\n",
    "    \n",
    "    ######################################\n",
    "    ######### YOUR CODE HERE #############\n",
    "    ######################################\n",
    "    \n",
    "    qv = question_to_vec(question, embeddings)\n",
    "    all_cands_vec = []\n",
    "    \n",
    "    for cand in candidates:\n",
    "        cand_vec = question_to_vec(cand, embeddings)\n",
    "        all_cands_vec.append(cand_vec)\n",
    "        \n",
    "\n",
    "    cos_sim_list = cosine_similarity(np.array(qv).reshape(1,-1), np.array(all_cands_vec))\n",
    "    \n",
    "#     for all_cands_vectors in all_cands_vec:\n",
    "\n",
    "#         all_cands_vectors = all_cands_vectors.reshape(1, dim)\n",
    "#         cos_lib = cosine_similarity(qv, all_cands_vectors)[0][0]\n",
    "#         cos_sim_list.append(cos_lib)\n",
    "        \n",
    "    #get indices of the cosine similarity sorted but in descending\n",
    "    ind_cos_sim_sort = np.argsort(cos_sim_list[0])\n",
    "    \n",
    "    #reverse since we want the highest value first\n",
    "    rev_ind_cos_sim_sort = ind_cos_sim_sort[::-1]\n",
    "    \n",
    "    result = [(new_rank, candidates[new_rank]) for new_rank in rev_ind_cos_sim_sort]\n",
    "    \n",
    "    return result"
   ]
  },
  {
   "cell_type": "code",
   "execution_count": 58,
   "metadata": {
    "collapsed": true
   },
   "outputs": [],
   "source": [
    "ss_prepared_ranking = []\n",
    "for line in prepared_validation:\n",
    "    q, *ex = line\n",
    "    ranks2 = rank_candidates(q, ex, starspace_embeddings, 100)\n",
    "    ss_prepared_ranking.append([r[0] for r in ranks2].index(0) + 1)"
   ]
  },
  {
   "cell_type": "code",
   "execution_count": null,
   "metadata": {
    "collapsed": true
   },
   "outputs": [],
   "source": [
    "# ss_prepared_ranking = []\n",
    "# for line in prepared_validation:\n",
    "#     q, *ex = line\n",
    "#     ranks = rank_candidates(q, ex, starspace_embeddings, 100)\n",
    "#     ss_prepared_ranking.append([r[0] for r in ranks].index(0) + 1)"
   ]
  },
  {
   "cell_type": "code",
   "execution_count": 59,
   "metadata": {},
   "outputs": [
    {
     "name": "stdout",
     "output_type": "stream",
     "text": [
      "DCG@   1: 0.009 | Hits@   1: 0.009\n",
      "DCG@   5: 0.035 | Hits@   5: 0.065\n",
      "DCG@  10: 0.059 | Hits@  10: 0.141\n",
      "DCG@ 100: 0.233 | Hits@ 100: 0.999\n",
      "DCG@ 500: 0.233 | Hits@ 500: 1.000\n",
      "DCG@1000: 0.233 | Hits@1000: 1.000\n"
     ]
    }
   ],
   "source": [
    "for k in [1, 5, 10, 100, 500, 1000]:\n",
    "    print(\"DCG@%4d: %.3f | Hits@%4d: %.3f\" % (k, dcg_score(ss_prepared_ranking, k), \n",
    "                                               k, hits_count(ss_prepared_ranking, k)))"
   ]
  },
  {
   "cell_type": "markdown",
   "metadata": {},
   "source": [
    "Due to training for the particular task with the supervised data, you should expect to obtain a higher quality than for the previous approach. In additiion, despite the fact that StarSpace's trained vectors have a smaller dimension than word2vec's, it provides better results in this task."
   ]
  },
  {
   "cell_type": "markdown",
   "metadata": {},
   "source": [
    "**Task 5 (StarSpaceRanks).** For each question from prepared *test.tsv* submit the ranks of the candidates for trained representation."
   ]
  },
  {
   "cell_type": "code",
   "execution_count": 63,
   "metadata": {},
   "outputs": [
    {
     "name": "stdout",
     "output_type": "stream",
     "text": [
      "Current answer for task StarSpaceRanks is: 67\t38\t14\t39\t29\t56\t88\t75\t48\t24\t6\t20\t3\t2\t95\t94\t17\t40\t50\t63\t82\t86\t12\t98\t83\t68\t89\t76\t61\t1\t51\t49\t31\t45\t27...\n"
     ]
    }
   ],
   "source": [
    "starspace_ranks_results = []\n",
    "prepared_test_data = 'data/test_prepare.tsv' ######### YOUR CODE HERE #############\n",
    "for line in open(prepared_test_data):\n",
    "    q, *ex = line.strip().split('\\t')\n",
    "    ranks = rank_candidates(q, ex, starspace_embeddings, 100)\n",
    "    ranked_candidates = [r[0] for r in ranks]\n",
    "    starspace_ranks_results.append([ranked_candidates.index(i) + 1 for i in range(len(ranked_candidates))])\n",
    "    \n",
    "grader.submit_tag('StarSpaceRanks', matrix_to_string(starspace_ranks_results))"
   ]
  },
  {
   "cell_type": "markdown",
   "metadata": {},
   "source": [
    "Please, **don't remove** the file with these embeddings because you will need them in the final project."
   ]
  },
  {
   "cell_type": "markdown",
   "metadata": {},
   "source": [
    "### Authorization & Submission\n",
    "To submit assignment parts to Cousera platform, please, enter your e-mail and token into variables below. You can generate token on this programming assignment page. <b>Note:</b> Token expires 30 minutes after generation."
   ]
  },
  {
   "cell_type": "code",
   "execution_count": 64,
   "metadata": {},
   "outputs": [
    {
     "name": "stdout",
     "output_type": "stream",
     "text": [
      "You want to submit these parts:\n",
      "Task Question2Vec: 0.019293891059\n",
      "-0.0287272135417\n",
      "0.0460561116536\n",
      "0.0852593315972\n",
      "0.0243055555556\n",
      "-0.0729031032986\n",
      "0.0...\n",
      "Task HitsCount: ----------...\n",
      "Task DCGScore: 1.0\n",
      "0.5\n",
      "0.815464876786\n",
      "0.5\n",
      "0.815464876786\n",
      "0.333333333333\n",
      "0.54364325119\n",
      "0.710309917857\n",
      "0.1\n",
      "0.16309297...\n",
      "Task W2VTokenizedRanks: 95\t94\t7\t9\t64\t36\t31\t93\t23\t100\t99\t20\t60\t6\t97\t48\t70\t37\t41\t96\t29\t56\t2\t65\t68\t44\t27\t25\t57\t62\t11\t87\t50\t66\t7...\n",
      "Task StarSpaceRanks: 67\t38\t14\t39\t29\t56\t88\t75\t48\t24\t6\t20\t3\t2\t95\t94\t17\t40\t50\t63\t82\t86\t12\t98\t83\t68\t89\t76\t61\t1\t51\t49\t31\t45\t27...\n"
     ]
    }
   ],
   "source": [
    "STUDENT_EMAIL = 'anindo78@hotmail.com'# EMAIL \n",
    "STUDENT_TOKEN = 'uTY4eQTRzmtVGwGB'# TOKEN \n",
    "grader.status()"
   ]
  },
  {
   "cell_type": "markdown",
   "metadata": {},
   "source": [
    "If you want to submit these answers, run cell below"
   ]
  },
  {
   "cell_type": "code",
   "execution_count": 65,
   "metadata": {},
   "outputs": [
    {
     "name": "stdout",
     "output_type": "stream",
     "text": [
      "Submitted to Coursera platform. See results on assignment page!\n"
     ]
    }
   ],
   "source": [
    "grader.submit(STUDENT_EMAIL, STUDENT_TOKEN)"
   ]
  }
 ],
 "metadata": {
  "kernelspec": {
   "display_name": "Python 3",
   "language": "python",
   "name": "python3"
  },
  "language_info": {
   "codemirror_mode": {
    "name": "ipython",
    "version": 3
   },
   "file_extension": ".py",
   "mimetype": "text/x-python",
   "name": "python",
   "nbconvert_exporter": "python",
   "pygments_lexer": "ipython3",
   "version": "3.8.5"
  }
 },
 "nbformat": 4,
 "nbformat_minor": 2
}
